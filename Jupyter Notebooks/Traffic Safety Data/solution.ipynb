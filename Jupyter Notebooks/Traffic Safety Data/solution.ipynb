{
 "cells": [
  {
   "cell_type": "markdown",
   "id": "b2fab78e",
   "metadata": {
    "id": "b2fab78e"
   },
   "source": [
    "# Analyze Traffic Safety Data with Python\n",
    "\n",
    "### Try some of these resources for extra help as you work:\n",
    "\n",
    "* [View the Analyze Traffic Safety Data with Python cheatsheet](https://www.codecademy.com/learn/case-study-analyze-traffic-safety/modules/traffic-safety-case-study/cheatsheet)\n",
    "* [View the solution notebook](./solution.html)\n",
    "* [Learn more about analyzing traffic safety data in this introductory article](https://www.codecademy.com/courses/case-study-analyze-traffic-safety/articles/analyze-traffic-safety-data-with-python-article)"
   ]
  },
  {
   "cell_type": "code",
   "execution_count": 1,
   "id": "8cc870b1",
   "metadata": {
    "executionInfo": {
     "elapsed": 152,
     "status": "ok",
     "timestamp": 1668484657271,
     "user": {
      "displayName": "Maggi Mars",
      "userId": "15664582298795720795"
     },
     "user_tz": 300
    },
    "id": "8cc870b1"
   },
   "outputs": [],
   "source": [
    "import pandas as pd\n",
    "import datetime as dt\n",
    "from scipy.stats import pearsonr\n",
    "from sklearn.linear_model import LinearRegression\n",
    "import seaborn as sns\n",
    "import matplotlib.pyplot as plt\n",
    "\n",
    "\n",
    "%matplotlib inline\n",
    "# set plot theme and palette\n",
    "sns.set_theme()\n",
    "sns.set_palette('colorblind')"
   ]
  },
  {
   "cell_type": "markdown",
   "id": "4c5a1426",
   "metadata": {
    "id": "4c5a1426"
   },
   "source": [
    "## Traffic data exploration"
   ]
  },
  {
   "cell_type": "markdown",
   "id": "347264a9",
   "metadata": {
    "id": "347264a9"
   },
   "source": [
    "### 1. Inspect the traffic safety dataset\n",
    "\n",
    "After running the first cell to load all necessary libraries, we need to load our dataset. Using pandas, load the dataset `traffic.csv` and save it as `traffic`. Inspect the first few rows."
   ]
  },
  {
   "cell_type": "code",
   "execution_count": 2,
   "id": "ff05693b",
   "metadata": {
    "colab": {
     "base_uri": "https://localhost:8080/",
     "height": 206
    },
    "executionInfo": {
     "elapsed": 222,
     "status": "ok",
     "timestamp": 1668484659648,
     "user": {
      "displayName": "Maggi Mars",
      "userId": "15664582298795720795"
     },
     "user_tz": 300
    },
    "id": "ff05693b",
    "outputId": "64cdedc3-5d4f-4f19-fe71-21b1a3dfc91b",
    "scrolled": true
   },
   "outputs": [
    {
     "data": {
      "text/html": [
       "<div>\n",
       "<style scoped>\n",
       "    .dataframe tbody tr th:only-of-type {\n",
       "        vertical-align: middle;\n",
       "    }\n",
       "\n",
       "    .dataframe tbody tr th {\n",
       "        vertical-align: top;\n",
       "    }\n",
       "\n",
       "    .dataframe thead th {\n",
       "        text-align: right;\n",
       "    }\n",
       "</style>\n",
       "<table border=\"1\" class=\"dataframe\">\n",
       "  <thead>\n",
       "    <tr style=\"text-align: right;\">\n",
       "      <th></th>\n",
       "      <th>Date</th>\n",
       "      <th>Crashes_per_100k</th>\n",
       "      <th>Season</th>\n",
       "    </tr>\n",
       "  </thead>\n",
       "  <tbody>\n",
       "    <tr>\n",
       "      <th>0</th>\n",
       "      <td>2006-01-01</td>\n",
       "      <td>169.176541</td>\n",
       "      <td>Winter</td>\n",
       "    </tr>\n",
       "    <tr>\n",
       "      <th>1</th>\n",
       "      <td>2006-02-01</td>\n",
       "      <td>154.028836</td>\n",
       "      <td>Winter</td>\n",
       "    </tr>\n",
       "    <tr>\n",
       "      <th>2</th>\n",
       "      <td>2006-03-01</td>\n",
       "      <td>159.930002</td>\n",
       "      <td>Spring</td>\n",
       "    </tr>\n",
       "    <tr>\n",
       "      <th>3</th>\n",
       "      <td>2006-04-01</td>\n",
       "      <td>155.741270</td>\n",
       "      <td>Spring</td>\n",
       "    </tr>\n",
       "    <tr>\n",
       "      <th>4</th>\n",
       "      <td>2006-05-01</td>\n",
       "      <td>168.179208</td>\n",
       "      <td>Spring</td>\n",
       "    </tr>\n",
       "  </tbody>\n",
       "</table>\n",
       "</div>"
      ],
      "text/plain": [
       "         Date  Crashes_per_100k  Season\n",
       "0  2006-01-01        169.176541  Winter\n",
       "1  2006-02-01        154.028836  Winter\n",
       "2  2006-03-01        159.930002  Spring\n",
       "3  2006-04-01        155.741270  Spring\n",
       "4  2006-05-01        168.179208  Spring"
      ]
     },
     "execution_count": 2,
     "metadata": {},
     "output_type": "execute_result"
    }
   ],
   "source": [
    "# load dataset\n",
    "traffic = pd.read_csv('traffic.csv')\n",
    "\n",
    "# inspect first few rows\n",
    "traffic.head()"
   ]
  },
  {
   "cell_type": "markdown",
   "id": "72c9daa3",
   "metadata": {
    "id": "347264a9"
   },
   "source": [
    "### 2. Inspect and format data types\n",
    "\n",
    "The `traffic` data frame contains three columns: `Date`, `Crashes_per_100k`, and `Season`. In order to plot the `Crashes_per_100k` column as a time series, we need to make sure that the `Date` column is in date format. Inspect the data types in the data frame, convert the `Date` column to date format, and inspect the data types a second time."
   ]
  },
  {
   "cell_type": "code",
   "execution_count": 3,
   "id": "384c95dc",
   "metadata": {
    "colab": {
     "base_uri": "https://localhost:8080/"
    },
    "executionInfo": {
     "elapsed": 157,
     "status": "ok",
     "timestamp": 1668484661567,
     "user": {
      "displayName": "Maggi Mars",
      "userId": "15664582298795720795"
     },
     "user_tz": 300
    },
    "id": "384c95dc",
    "outputId": "cfa04edd-02a2-4289-86b5-67816804c57c"
   },
   "outputs": [
    {
     "name": "stdout",
     "output_type": "stream",
     "text": [
      "<class 'pandas.core.frame.DataFrame'>\n",
      "RangeIndex: 180 entries, 0 to 179\n",
      "Data columns (total 3 columns):\n",
      " #   Column            Non-Null Count  Dtype  \n",
      "---  ------            --------------  -----  \n",
      " 0   Date              180 non-null    object \n",
      " 1   Crashes_per_100k  180 non-null    float64\n",
      " 2   Season            180 non-null    object \n",
      "dtypes: float64(1), object(2)\n",
      "memory usage: 4.3+ KB\n"
     ]
    }
   ],
   "source": [
    "# inspect data types\n",
    "traffic.info()"
   ]
  },
  {
   "cell_type": "code",
   "execution_count": null,
   "id": "c5e74d12",
   "metadata": {},
   "outputs": [],
   "source": []
  },
  {
   "cell_type": "markdown",
   "id": "838104c7",
   "metadata": {
    "id": "838104c7"
   },
   "source": [
    "<details>\n",
    "    <summary style=\"display:list-item; font-size:16px; color:blue;\"><i>What did we discover in this step? Toggle to check!</i></summary>\n",
    "\n",
    "The `traffic` dataframe consists of 3 columns and 180 rows. Luckily, there are no missing data to contend with. The number of crashes is normalized to the annual population per 100,000 people. We will also need to format the `Date` variable since Python does not yet recognize it as a datetime variable.\n",
    "\n",
    "\n",
    "</details>"
   ]
  },
  {
   "cell_type": "markdown",
   "id": "a7d47bed",
   "metadata": {
    "id": "a7d47bed"
   },
   "source": [
    "Convert the `Date` column to the date datatype using the `pd.to_datatime(column)` function."
   ]
  },
  {
   "cell_type": "code",
   "execution_count": 4,
   "id": "8d8677d2",
   "metadata": {
    "colab": {
     "base_uri": "https://localhost:8080/"
    },
    "executionInfo": {
     "elapsed": 174,
     "status": "ok",
     "timestamp": 1668484664003,
     "user": {
      "displayName": "Maggi Mars",
      "userId": "15664582298795720795"
     },
     "user_tz": 300
    },
    "id": "8d8677d2",
    "outputId": "480c07db-68fd-4516-e68d-2dc742d5f81a"
   },
   "outputs": [
    {
     "name": "stdout",
     "output_type": "stream",
     "text": [
      "<class 'pandas.core.frame.DataFrame'>\n",
      "RangeIndex: 180 entries, 0 to 179\n",
      "Data columns (total 3 columns):\n",
      " #   Column            Non-Null Count  Dtype         \n",
      "---  ------            --------------  -----         \n",
      " 0   Date              180 non-null    datetime64[ns]\n",
      " 1   Crashes_per_100k  180 non-null    float64       \n",
      " 2   Season            180 non-null    object        \n",
      "dtypes: datetime64[ns](1), float64(1), object(1)\n",
      "memory usage: 4.3+ KB\n"
     ]
    }
   ],
   "source": [
    "# convert Date to date format\n",
    "traffic['Date'] = pd.to_datetime(traffic['Date'])\n",
    "\n",
    "# inspect data types\n",
    "traffic.info()"
   ]
  },
  {
   "cell_type": "markdown",
   "id": "e8680cbf",
   "metadata": {
    "id": "e8680cbf"
   },
   "source": [
    "<details>\n",
    "    <summary style=\"display:list-item; font-size:16px; color:blue;\"><i>What did we discover in this step? Toggle to check!</i></summary>\n",
    "\n",
    "By using the `pd.to_datetime()` function, we converted a character string object to the `datetime64[ns]` datatype. This will allow us to plot a time series of data points.\n",
    "\n",
    "</details>"
   ]
  },
  {
   "cell_type": "markdown",
   "id": "9b022de9",
   "metadata": {
    "id": "9b022de9"
   },
   "source": [
    "### 3. Visualize traffic safety data\n",
    "To get a sense of trends that may exist in the data, use seaborn's `sns.lineplot()` function to create a line plot of the `traffic` data with `Date` on the x-axis and `Crashes_per_100k` on the y-axis."
   ]
  },
  {
   "cell_type": "code",
   "execution_count": 5,
   "id": "cc61ee21",
   "metadata": {
    "colab": {
     "base_uri": "https://localhost:8080/",
     "height": 285
    },
    "executionInfo": {
     "elapsed": 449,
     "status": "ok",
     "timestamp": 1668484666431,
     "user": {
      "displayName": "Maggi Mars",
      "userId": "15664582298795720795"
     },
     "user_tz": 300
    },
    "id": "cc61ee21",
    "outputId": "32d67125-a9fa-4eb3-feb9-d6e94bd6bfe1",
    "scrolled": true
   },
   "outputs": [
    {
     "data": {
      "image/png": "[encoded data removed]",
      "text/plain": [
       "<Figure size 640x480 with 1 Axes>"
      ]
     },
     "metadata": {},
     "output_type": "display_data"
    }
   ],
   "source": [
    "# create line plot\n",
    "sns.lineplot(x = 'Date', y = 'Crashes_per_100k', data = traffic)\n",
    "plt.show()"
   ]
  },
  {
   "cell_type": "markdown",
   "id": "21771d7f",
   "metadata": {
    "id": "21771d7f"
   },
   "source": [
    "<details>\n",
    "    <summary style=\"display:list-item; font-size:16px; color:blue;\"><i>What did we discover in this step? Toggle to check!</i></summary>\n",
    "\n",
    "Looking at the line plot of our collision data, we can see the decreasing trend in crash rates from 2006 continuing until 2010 or 2011, and then crash rates begin increasing. The data for 2020 is very different from the preceding years.\n",
    "    \n",
    "There also appear to be cyclical patterns, which may indicate differing crash rates by season.\n",
    "\n",
    "</details>"
   ]
  },
  {
   "cell_type": "markdown",
   "id": "328a0a2c",
   "metadata": {
    "id": "328a0a2c"
   },
   "source": [
    "### 4. Visualize seasonal rates\n",
    "\n",
    "Since we saw a fair amount of variance in the number of collisions occurring throughout the year, we might hypothesize that the number of collisions increases or decreases during different seasons. We can visually explore this with a box plot. \n",
    "\n",
    "Use `sns.boxplot()` with crash rate on the x-axis and season on the y-axis. Remove the anomolous 2020 data by adjusting the `data` parameter to `traffic[traffic.Date.dt.year != 2020]`."
   ]
  },
  {
   "cell_type": "code",
   "execution_count": 6,
   "id": "1a9f883b",
   "metadata": {
    "colab": {
     "base_uri": "https://localhost:8080/",
     "height": 285
    },
    "executionInfo": {
     "elapsed": 341,
     "status": "ok",
     "timestamp": 1668484669339,
     "user": {
      "displayName": "Maggi Mars",
      "userId": "15664582298795720795"
     },
     "user_tz": 300
    },
    "id": "1a9f883b",
    "outputId": "1a941981-fa8f-4e13-db11-09ebdaaf4809"
   },
   "outputs": [
    {
     "data": {
      "image/png": "[encoded data removed]",
      "text/plain": [
       "<Figure size 640x480 with 1 Axes>"
      ]
     },
     "metadata": {},
     "output_type": "display_data"
    }
   ],
   "source": [
    "# create box plot by season\n",
    "sns.boxplot(x = 'Crashes_per_100k', y = 'Season', data = traffic[traffic.Date.dt.year != 2020])\n",
    "plt.show()"
   ]
  },
  {
   "cell_type": "markdown",
   "id": "f77011a6",
   "metadata": {
    "id": "f77011a6"
   },
   "source": [
    "<details>\n",
    "    <summary style=\"display:list-item; font-size:16px; color:blue;\"><i>What did we discover in this step? Toggle to check!</i></summary>\n",
    "\n",
    "Winter and Fall appear to have generally higher crash rates than Spring and Summer. Seasons may be the reason for the pattern in crash rates.\n",
    "\n",
    "</details>"
   ]
  },
  {
   "cell_type": "markdown",
   "id": "2b608d90",
   "metadata": {
    "id": "2b608d90"
   },
   "source": [
    "## Smartphone data exploration"
   ]
  },
  {
   "cell_type": "markdown",
   "id": "53e74299",
   "metadata": {
    "id": "53e74299"
   },
   "source": [
    "### 5. Inspect the smartphone use dataset\n",
    "\n",
    "The dataset `crashes_smartphones.csv` contains smartphone data from Pew Research Center matched to normalized crash rates from the `traffic` data frame for the years 2011 to 2019.\n",
    "\n",
    "<details>\n",
    "    <summary style=\"display:list-item;\"><b>Toggle for an overview of the variables in this dataset.</b></summary>\n",
    "\n",
    "* `Month_Year`: a shortened date with only the month and year of the survey\n",
    "* `Crashes_per_100k`: the normalized crash rate matching the month and year of the smartphone usage survey\n",
    "* `Season`: Winter, Spring, Summer, or Fall\n",
    "* `Smartphone_Survey_Date`: the actual date the smartphone usage survey was conducted\n",
    "* `Smartphone_usage`: the percent of survey participants that owned and used a smartphone\n",
    "\n",
    "</details>\n",
    "\n",
    "Load the dataset as `smartphones` and inspect the first few rows."
   ]
  },
  {
   "cell_type": "code",
   "execution_count": 7,
   "id": "fa8f1669",
   "metadata": {
    "colab": {
     "base_uri": "https://localhost:8080/",
     "height": 250
    },
    "executionInfo": {
     "elapsed": 170,
     "status": "ok",
     "timestamp": 1668484672517,
     "user": {
      "displayName": "Maggi Mars",
      "userId": "15664582298795720795"
     },
     "user_tz": 300
    },
    "id": "fa8f1669",
    "outputId": "bc6ffefb-97ba-4bca-f6f4-c7faee0bb948"
   },
   "outputs": [
    {
     "data": {
      "text/html": [
       "<div>\n",
       "<style scoped>\n",
       "    .dataframe tbody tr th:only-of-type {\n",
       "        vertical-align: middle;\n",
       "    }\n",
       "\n",
       "    .dataframe tbody tr th {\n",
       "        vertical-align: top;\n",
       "    }\n",
       "\n",
       "    .dataframe thead th {\n",
       "        text-align: right;\n",
       "    }\n",
       "</style>\n",
       "<table border=\"1\" class=\"dataframe\">\n",
       "  <thead>\n",
       "    <tr style=\"text-align: right;\">\n",
       "      <th></th>\n",
       "      <th>Month_Year</th>\n",
       "      <th>Crashes_per_100k</th>\n",
       "      <th>Season</th>\n",
       "      <th>Smartphone_Survey_Date</th>\n",
       "      <th>Smartphone_usage</th>\n",
       "    </tr>\n",
       "  </thead>\n",
       "  <tbody>\n",
       "    <tr>\n",
       "      <th>0</th>\n",
       "      <td>Apr-12</td>\n",
       "      <td>133.213685</td>\n",
       "      <td>Spring</td>\n",
       "      <td>4/3/12</td>\n",
       "      <td>46</td>\n",
       "    </tr>\n",
       "    <tr>\n",
       "      <th>1</th>\n",
       "      <td>Apr-15</td>\n",
       "      <td>150.077792</td>\n",
       "      <td>Spring</td>\n",
       "      <td>4/12/15</td>\n",
       "      <td>67</td>\n",
       "    </tr>\n",
       "    <tr>\n",
       "      <th>2</th>\n",
       "      <td>Apr-16</td>\n",
       "      <td>172.401948</td>\n",
       "      <td>Spring</td>\n",
       "      <td>4/4/16</td>\n",
       "      <td>72</td>\n",
       "    </tr>\n",
       "    <tr>\n",
       "      <th>3</th>\n",
       "      <td>Aug-12</td>\n",
       "      <td>145.403147</td>\n",
       "      <td>Summer</td>\n",
       "      <td>8/5/12</td>\n",
       "      <td>44</td>\n",
       "    </tr>\n",
       "    <tr>\n",
       "      <th>4</th>\n",
       "      <td>Dec-12</td>\n",
       "      <td>169.160811</td>\n",
       "      <td>Winter</td>\n",
       "      <td>12/9/12</td>\n",
       "      <td>45</td>\n",
       "    </tr>\n",
       "  </tbody>\n",
       "</table>\n",
       "</div>"
      ],
      "text/plain": [
       "  Month_Year  Crashes_per_100k  Season Smartphone_Survey_Date  \\\n",
       "0     Apr-12        133.213685  Spring                 4/3/12   \n",
       "1     Apr-15        150.077792  Spring                4/12/15   \n",
       "2     Apr-16        172.401948  Spring                 4/4/16   \n",
       "3     Aug-12        145.403147  Summer                 8/5/12   \n",
       "4     Dec-12        169.160811  Winter                12/9/12   \n",
       "\n",
       "   Smartphone_usage  \n",
       "0                46  \n",
       "1                67  \n",
       "2                72  \n",
       "3                44  \n",
       "4                45  "
      ]
     },
     "execution_count": 7,
     "metadata": {},
     "output_type": "execute_result"
    }
   ],
   "source": [
    "# import dataset\n",
    "smartphones = pd.read_csv('crashes_smartphones.csv')\n",
    "\n",
    "# inspect first few rows\n",
    "smartphones.head()"
   ]
  },
  {
   "cell_type": "markdown",
   "id": "6f6e4922",
   "metadata": {},
   "source": [
    "### 6. Format date data type\n",
    "Similar to the  `traffic` data frame, the `smartphones` data frame has a date column that is not properly formatted. Convert the `Smartphone_Survey_Date` column to the date data type using the `pd.to_datetime()` function and then inspect the data types in the data frame."
   ]
  },
  {
   "cell_type": "code",
   "execution_count": 8,
   "id": "77178bee",
   "metadata": {
    "colab": {
     "base_uri": "https://localhost:8080/"
    },
    "executionInfo": {
     "elapsed": 158,
     "status": "ok",
     "timestamp": 1668484674890,
     "user": {
      "displayName": "Maggi Mars",
      "userId": "15664582298795720795"
     },
     "user_tz": 300
    },
    "id": "77178bee",
    "outputId": "6293ba51-daea-4199-da4a-bc92c885c98e"
   },
   "outputs": [
    {
     "name": "stdout",
     "output_type": "stream",
     "text": [
      "<class 'pandas.core.frame.DataFrame'>\n",
      "RangeIndex: 28 entries, 0 to 27\n",
      "Data columns (total 5 columns):\n",
      " #   Column                  Non-Null Count  Dtype         \n",
      "---  ------                  --------------  -----         \n",
      " 0   Month_Year              28 non-null     object        \n",
      " 1   Crashes_per_100k        28 non-null     float64       \n",
      " 2   Season                  28 non-null     object        \n",
      " 3   Smartphone_Survey_Date  28 non-null     datetime64[ns]\n",
      " 4   Smartphone_usage        28 non-null     int64         \n",
      "dtypes: datetime64[ns](1), float64(1), int64(1), object(2)\n",
      "memory usage: 1.2+ KB\n"
     ]
    }
   ],
   "source": [
    "# change to datetime object\n",
    "smartphones['Smartphone_Survey_Date'] = pd.to_datetime(smartphones['Smartphone_Survey_Date'])\n",
    "\n",
    "# inspect data types\n",
    "smartphones.info()"
   ]
  },
  {
   "cell_type": "markdown",
   "id": "17f6b99f",
   "metadata": {
    "id": "17f6b99f"
   },
   "source": [
    "<details>\n",
    "    <summary style=\"display:list-item; font-size:16px; color:blue;\"><i>What did we discover in this step? Toggle to check!</i></summary>\n",
    "\n",
    "There is a lot less data available for smartphone usage rates than there was for crash rates. The `smartphones` dataframe consists of 5 columns and 28 rows. Luckily, there are no missing data to contend with.\n",
    "\n",
    "\n",
    "</details>"
   ]
  },
  {
   "cell_type": "markdown",
   "id": "2248c64d",
   "metadata": {
    "id": "2248c64d"
   },
   "source": [
    "### 7. Visualize smartphone use data\n",
    "Now let's take a look at smartphone use over time. Create a line plot of the `smartphones` data with `Smartphone_Survey_Date` on the x-axis and `Smartphone_usage` on the y-axis."
   ]
  },
  {
   "cell_type": "code",
   "execution_count": 9,
   "id": "fd1c6dc4",
   "metadata": {
    "colab": {
     "base_uri": "https://localhost:8080/",
     "height": 285
    },
    "executionInfo": {
     "elapsed": 428,
     "status": "ok",
     "timestamp": 1668484682326,
     "user": {
      "displayName": "Maggi Mars",
      "userId": "15664582298795720795"
     },
     "user_tz": 300
    },
    "id": "fd1c6dc4",
    "outputId": "a5c24975-5679-4783-efac-27543c44a8b5",
    "scrolled": true
   },
   "outputs": [
    {
     "data": {
      "image/png": "[encoded data removed]",
      "text/plain": [
       "<Figure size 640x480 with 1 Axes>"
      ]
     },
     "metadata": {},
     "output_type": "display_data"
    }
   ],
   "source": [
    "# create line plot\n",
    "sns.lineplot(x = 'Smartphone_Survey_Date', y = 'Smartphone_usage', data = smartphones)\n",
    "plt.show()"
   ]
  },
  {
   "cell_type": "markdown",
   "id": "cc6a3411",
   "metadata": {
    "id": "cc6a3411"
   },
   "source": [
    "<details>\n",
    "    <summary style=\"display:list-item; font-size:16px; color:blue;\"><i>What did we discover in this step? Toggle to check!</i></summary>\n",
    "\n",
    "We can see a trend of smartphone usage increasing over time.\n",
    "\n",
    "</details>"
   ]
  },
  {
   "cell_type": "markdown",
   "id": "1ce54e7e",
   "metadata": {
    "id": "1ce54e7e"
   },
   "source": [
    "## Relationship exploration"
   ]
  },
  {
   "cell_type": "markdown",
   "id": "30d66b8f",
   "metadata": {
    "id": "30d66b8f"
   },
   "source": [
    "### 8. Visualize crash rate by smartphone use\n",
    "A scatter plot with smartphone usage on one axis and crash rates on the other axis will give us an idea of whether there is a relationship between these two variables. \n",
    "\n",
    "Create a scatter plot with a regression line using seaborn's `sns.regplot()` with `Smartphone_usage` on the x-axis and `Crashes_per_100k` on the y-axis."
   ]
  },
  {
   "cell_type": "code",
   "execution_count": 10,
   "id": "5576adaa",
   "metadata": {
    "colab": {
     "base_uri": "https://localhost:8080/",
     "height": 285
    },
    "executionInfo": {
     "elapsed": 791,
     "status": "ok",
     "timestamp": 1668484685457,
     "user": {
      "displayName": "Maggi Mars",
      "userId": "15664582298795720795"
     },
     "user_tz": 300
    },
    "id": "5576adaa",
    "outputId": "d8bb02c3-db9c-4b84-d651-575effb8937a",
    "scrolled": true
   },
   "outputs": [
    {
     "data": {
      "image/png": "[encoded data removed]",
      "text/plain": [
       "<Figure size 640x480 with 1 Axes>"
      ]
     },
     "metadata": {},
     "output_type": "display_data"
    }
   ],
   "source": [
    "# create scatter plot with regression line\n",
    "sns.regplot(x = 'Smartphone_usage', y = 'Crashes_per_100k', data = smartphones)\n",
    "plt.show()"
   ]
  },
  {
   "cell_type": "markdown",
   "id": "37d4c0d8",
   "metadata": {
    "id": "37d4c0d8"
   },
   "source": [
    "<details>\n",
    "    <summary style=\"display:list-item; font-size:16px; color:blue;\"><i>What did we discover in this step? Toggle to check!</i></summary>\n",
    "\n",
    "There appears to be a positive linear relationship between the rate of car crashes and the rate of adult smartphone usage in the U.S.\n",
    "\n",
    "</details>"
   ]
  },
  {
   "cell_type": "markdown",
   "id": "1bbf2930",
   "metadata": {
    "id": "1bbf2930"
   },
   "source": [
    "### 9. Check the correlation coefficient\n",
    "\n",
    "To test whether the correlation between `Smartphone_usage` and `Crashes_per_100k` is statistically significant, we can calculate the Pearson's _r_ correlation coefficient and the associated _p_-value. \n",
    "\n",
    "Use `corr, p = pearsonr(column1, column2)` on the `Smartphone_usage` and `Crashes_per_100k` columns in the `smartphones` dataframe. Then use the provided code to print `corr` and `p` to see the results."
   ]
  },
  {
   "cell_type": "code",
   "execution_count": 11,
   "id": "b0ebdb9f",
   "metadata": {
    "colab": {
     "base_uri": "https://localhost:8080/"
    },
    "executionInfo": {
     "elapsed": 153,
     "status": "ok",
     "timestamp": 1668484688481,
     "user": {
      "displayName": "Maggi Mars",
      "userId": "15664582298795720795"
     },
     "user_tz": 300
    },
    "id": "b0ebdb9f",
    "outputId": "ad42733a-b2b7-4937-c2c4-d28386a6344f"
   },
   "outputs": [
    {
     "name": "stdout",
     "output_type": "stream",
     "text": [
      "Pearson's r = 0.513\n",
      "p =  0.005\n"
     ]
    }
   ],
   "source": [
    "# find Pearson's r and p-value\n",
    "corr, p = pearsonr(smartphones.Smartphone_usage, smartphones.Crashes_per_100k)\n",
    "\n",
    "# print corr and p\n",
    "print(\"Pearson's r =\",  round(corr,3))\n",
    "print(\"p = \", round(p,3))"
   ]
  },
  {
   "cell_type": "markdown",
   "id": "d744043c",
   "metadata": {
    "id": "d744043c"
   },
   "source": [
    "<details>\n",
    "    <summary style=\"display:list-item; font-size:16px; color:blue;\"><i>What did we discover in this step? Toggle to check!</i></summary>\n",
    "\n",
    "The Pearson's r correlation coefficient is greater than 0.5, which indicates a moderately strong positive relationship. The p-value is less than 0.05. Together, this tells us that there is a statistically significant correlation between adult smartphone usage rates and car crash rates in the U.S. We have to be careful though: correlation does not mean causation, as the saying goes. Many other factors may be contributing to the rise in car crash rates from 2011 to 2019. \n",
    "\n",
    "</details>"
   ]
  },
  {
   "cell_type": "markdown",
   "id": "48c21f67",
   "metadata": {
    "id": "48c21f67"
   },
   "source": [
    "## Analysis"
   ]
  },
  {
   "cell_type": "markdown",
   "id": "211af520",
   "metadata": {
    "id": "211af520"
   },
   "source": [
    "### 10. Run a linear regression\n",
    "We can use a linear regression to predict crash rates based on smart phone usage. Let's regress crash rates on smartphone usage. Then we can predict the crash rate in 2020 and see if it matches the actual crash rate in 2020!\n",
    "\n",
    "We have provided the code to convert the variables to NumPy arrays that will work with the modeling function. The `Smartphone_usage` array is saved as `X`, and the `Crashes_per_100k` array is saved as `y`.\n",
    "\n",
    "Initiate the model by saving `LinearRegression()` to the variable `lm`. Then fit the model and run the regression with `.fit()`."
   ]
  },
  {
   "cell_type": "code",
   "execution_count": 12,
   "id": "vJThaPpvil3g",
   "metadata": {
    "executionInfo": {
     "elapsed": 182,
     "status": "ok",
     "timestamp": 1668484693130,
     "user": {
      "displayName": "Maggi Mars",
      "userId": "15664582298795720795"
     },
     "user_tz": 300
    },
    "id": "vJThaPpvil3g"
   },
   "outputs": [],
   "source": [
    "# convert columns to arrays\n",
    "X = smartphones['Smartphone_usage'].to_numpy().reshape(-1, 1)\n",
    "y = smartphones['Crashes_per_100k'].to_numpy().reshape(-1, 1)"
   ]
  },
  {
   "cell_type": "code",
   "execution_count": 13,
   "id": "b_SoKHv6jQXX",
   "metadata": {
    "executionInfo": {
     "elapsed": 151,
     "status": "ok",
     "timestamp": 1668484694774,
     "user": {
      "displayName": "Maggi Mars",
      "userId": "15664582298795720795"
     },
     "user_tz": 300
    },
    "id": "b_SoKHv6jQXX"
   },
   "outputs": [
    {
     "data": {
      "text/html": [
       "<style>#sk-container-id-1 {color: black;background-color: white;}#sk-container-id-1 pre{padding: 0;}#sk-container-id-1 div.sk-toggleable {background-color: white;}#sk-container-id-1 label.sk-toggleable__label {cursor: pointer;display: block;width: 100%;margin-bottom: 0;padding: 0.3em;box-sizing: border-box;text-align: center;}#sk-container-id-1 label.sk-toggleable__label-arrow:before {content: \"▸\";float: left;margin-right: 0.25em;color: #696969;}#sk-container-id-1 label.sk-toggleable__label-arrow:hover:before {color: black;}#sk-container-id-1 div.sk-estimator:hover label.sk-toggleable__label-arrow:before {color: black;}#sk-container-id-1 div.sk-toggleable__content {max-height: 0;max-width: 0;overflow: hidden;text-align: left;background-color: #f0f8ff;}#sk-container-id-1 div.sk-toggleable__content pre {margin: 0.2em;color: black;border-radius: 0.25em;background-color: #f0f8ff;}#sk-container-id-1 input.sk-toggleable__control:checked~div.sk-toggleable__content {max-height: 200px;max-width: 100%;overflow: auto;}#sk-container-id-1 input.sk-toggleable__control:checked~label.sk-toggleable__label-arrow:before {content: \"▾\";}#sk-container-id-1 div.sk-estimator input.sk-toggleable__control:checked~label.sk-toggleable__label {background-color: #d4ebff;}#sk-container-id-1 div.sk-label input.sk-toggleable__control:checked~label.sk-toggleable__label {background-color: #d4ebff;}#sk-container-id-1 input.sk-hidden--visually {border: 0;clip: rect(1px 1px 1px 1px);clip: rect(1px, 1px, 1px, 1px);height: 1px;margin: -1px;overflow: hidden;padding: 0;position: absolute;width: 1px;}#sk-container-id-1 div.sk-estimator {font-family: monospace;background-color: #f0f8ff;border: 1px dotted black;border-radius: 0.25em;box-sizing: border-box;margin-bottom: 0.5em;}#sk-container-id-1 div.sk-estimator:hover {background-color: #d4ebff;}#sk-container-id-1 div.sk-parallel-item::after {content: \"\";width: 100%;border-bottom: 1px solid gray;flex-grow: 1;}#sk-container-id-1 div.sk-label:hover label.sk-toggleable__label {background-color: #d4ebff;}#sk-container-id-1 div.sk-serial::before {content: \"\";position: absolute;border-left: 1px solid gray;box-sizing: border-box;top: 0;bottom: 0;left: 50%;z-index: 0;}#sk-container-id-1 div.sk-serial {display: flex;flex-direction: column;align-items: center;background-color: white;padding-right: 0.2em;padding-left: 0.2em;position: relative;}#sk-container-id-1 div.sk-item {position: relative;z-index: 1;}#sk-container-id-1 div.sk-parallel {display: flex;align-items: stretch;justify-content: center;background-color: white;position: relative;}#sk-container-id-1 div.sk-item::before, #sk-container-id-1 div.sk-parallel-item::before {content: \"\";position: absolute;border-left: 1px solid gray;box-sizing: border-box;top: 0;bottom: 0;left: 50%;z-index: -1;}#sk-container-id-1 div.sk-parallel-item {display: flex;flex-direction: column;z-index: 1;position: relative;background-color: white;}#sk-container-id-1 div.sk-parallel-item:first-child::after {align-self: flex-end;width: 50%;}#sk-container-id-1 div.sk-parallel-item:last-child::after {align-self: flex-start;width: 50%;}#sk-container-id-1 div.sk-parallel-item:only-child::after {width: 0;}#sk-container-id-1 div.sk-dashed-wrapped {border: 1px dashed gray;margin: 0 0.4em 0.5em 0.4em;box-sizing: border-box;padding-bottom: 0.4em;background-color: white;}#sk-container-id-1 div.sk-label label {font-family: monospace;font-weight: bold;display: inline-block;line-height: 1.2em;}#sk-container-id-1 div.sk-label-container {text-align: center;}#sk-container-id-1 div.sk-container {/* jupyter's `normalize.less` sets `[hidden] { display: none; }` but bootstrap.min.css set `[hidden] { display: none !important; }` so we also need the `!important` here to be able to override the default hidden behavior on the sphinx rendered scikit-learn.org. See: https://github.com/scikit-learn/scikit-learn/issues/21755 */display: inline-block !important;position: relative;}#sk-container-id-1 div.sk-text-repr-fallback {display: none;}</style><div id=\"sk-container-id-1\" class=\"sk-top-container\"><div class=\"sk-text-repr-fallback\"><pre>LinearRegression()</pre><b>In a Jupyter environment, please rerun this cell to show the HTML representation or trust the notebook. <br />On GitHub, the HTML representation is unable to render, please try loading this page with nbviewer.org.</b></div><div class=\"sk-container\" hidden><div class=\"sk-item\"><div class=\"sk-estimator sk-toggleable\"><input class=\"sk-toggleable__control sk-hidden--visually\" id=\"sk-estimator-id-1\" type=\"checkbox\" checked><label for=\"sk-estimator-id-1\" class=\"sk-toggleable__label sk-toggleable__label-arrow\">LinearRegression</label><div class=\"sk-toggleable__content\"><pre>LinearRegression()</pre></div></div></div></div></div>"
      ],
      "text/plain": [
       "LinearRegression()"
      ]
     },
     "execution_count": 13,
     "metadata": {},
     "output_type": "execute_result"
    }
   ],
   "source": [
    "# initiate the linear regression model\n",
    "lm = LinearRegression()\n",
    "\n",
    "# fit the model\n",
    "lm.fit(X, y)"
   ]
  },
  {
   "cell_type": "markdown",
   "id": "c31f3ac6",
   "metadata": {
    "id": "c31f3ac6"
   },
   "source": [
    "### 11. Print and interpret regression coefficients\n",
    "\n",
    "Let's see the values our model produced. Print the coefficients from our `lm` model. Then think about which parts of the regression line equation these values represent."
   ]
  },
  {
   "cell_type": "code",
   "execution_count": 14,
   "id": "721ab861",
   "metadata": {
    "colab": {
     "base_uri": "https://localhost:8080/"
    },
    "executionInfo": {
     "elapsed": 326,
     "status": "ok",
     "timestamp": 1668484696805,
     "user": {
      "displayName": "Maggi Mars",
      "userId": "15664582298795720795"
     },
     "user_tz": 300
    },
    "id": "721ab861",
    "outputId": "d157fed8-5fb9-4773-9401-40bbd3327b4b"
   },
   "outputs": [
    {
     "name": "stdout",
     "output_type": "stream",
     "text": [
      "Coefficients: \n",
      " [120.6637106] [[0.66103316]]\n"
     ]
    }
   ],
   "source": [
    "# print the coefficients \n",
    "print(\"Coefficients: \\n\",lm.intercept_, lm.coef_)"
   ]
  },
  {
   "cell_type": "markdown",
   "id": "ygZ3fFD_-HY8",
   "metadata": {
    "id": "ygZ3fFD_-HY8"
   },
   "source": [
    "<details>\n",
    "    <summary style=\"display:list-item; font-size:16px; color:blue;\"><i>What did we discover in this step? Toggle to check!</i></summary>\n",
    "\n",
    "The generic equation for a line is `y = b + (m * x)`, where `b` is the value where the the line intercepts the y-axis and `m` is the slope of the line. In this step, we learned the two coefficients of our linear model, `b = 120.6637` and `m = 0.6610`. So the equation for our linear model is `y = 120.6637 + (0.6610 * x)` and we can use this equation to predict new values of y from any new value of x.\n",
    "    \n",
    "We can also interpret the slope of 0.6610: every additional percentage point of smartphone usage is associated with an additional 0.6610 crashes per 100,000 people.\n",
    "</details>"
   ]
  },
  {
   "cell_type": "markdown",
   "id": "a7157c02",
   "metadata": {
    "id": "a7157c02"
   },
   "source": [
    "### 12. Make a prediction\n",
    "\n",
    "Let's assume smartphone usage was the same for 2020 as it was for 2019. This is a reasonable asssumption since the increase in smartphone usage that we observed in our plot started to plateau at the end of the time series. Let's use this approximation and our regression model to predict the crash rate in 2020.\n",
    "\n",
    "From our model output, the regression line equation is `Crashes_per_100k = 120.6637 + (0.6610 * Smartphone_usage)`. Run the provided code to view the smartphone usage rate for 2019. Then substitute this value into the equation, using Python as a calculator to predict the crash rate for 2020."
   ]
  },
  {
   "cell_type": "code",
   "execution_count": 15,
   "id": "59988a50",
   "metadata": {
    "colab": {
     "base_uri": "https://localhost:8080/"
    },
    "executionInfo": {
     "elapsed": 391,
     "status": "ok",
     "timestamp": 1668484700388,
     "user": {
      "displayName": "Maggi Mars",
      "userId": "15664582298795720795"
     },
     "user_tz": 300
    },
    "id": "59988a50",
    "outputId": "2b46a924-cd3c-46d1-d39c-1e4404661f3c",
    "scrolled": false
   },
   "outputs": [
    {
     "data": {
      "text/plain": [
       "7    81\n",
       "Name: Smartphone_usage, dtype: int64"
      ]
     },
     "execution_count": 15,
     "metadata": {},
     "output_type": "execute_result"
    }
   ],
   "source": [
    "# get the smartphone usage rate from 2019\n",
    "smartphones[smartphones['Month_Year'] == \"Feb-19\"].Smartphone_usage"
   ]
  },
  {
   "cell_type": "code",
   "execution_count": 16,
   "id": "5mcupBM5pEaN",
   "metadata": {
    "colab": {
     "base_uri": "https://localhost:8080/"
    },
    "executionInfo": {
     "elapsed": 335,
     "status": "ok",
     "timestamp": 1668484702540,
     "user": {
      "displayName": "Maggi Mars",
      "userId": "15664582298795720795"
     },
     "user_tz": 300
    },
    "id": "5mcupBM5pEaN",
    "outputId": "4609aab8-b571-49de-fb2a-f072dc197c98"
   },
   "outputs": [
    {
     "data": {
      "text/plain": [
       "174.205"
      ]
     },
     "execution_count": 16,
     "metadata": {},
     "output_type": "execute_result"
    }
   ],
   "source": [
    "# predict the crash rate in 2020 using the regression equation\n",
    "120.664 + (0.661 * 81)"
   ]
  },
  {
   "cell_type": "markdown",
   "id": "SKEm_SvPAuDH",
   "metadata": {
    "id": "SKEm_SvPAuDH"
   },
   "source": [
    "<details>\n",
    "    <summary style=\"display:list-item; font-size:16px; color:blue;\"><i>What did we discover in this step? Toggle to check!</i></summary>\n",
    "\n",
    "If the smartphone usage rate was the same in 2020 as in 2019 (81%), our model predicts that the crash rate in 2020 would be 174.205 crashes per 100,000 people.  \n",
    "\n",
    "</details>"
   ]
  },
  {
   "cell_type": "markdown",
   "id": "eb98f84b",
   "metadata": {
    "id": "a7157c02"
   },
   "source": [
    "### 13. Compare to the actual rate\n",
    "\n",
    "How good was our prediction? Get the actual crash rate for February of 2020 from the `traffic` dataframe using `pd.to_datetime(\"2020-02-01\")` as the value for `Date`."
   ]
  },
  {
   "cell_type": "code",
   "execution_count": 17,
   "id": "40_QV3vrrS7v",
   "metadata": {
    "colab": {
     "base_uri": "https://localhost:8080/"
    },
    "executionInfo": {
     "elapsed": 220,
     "status": "ok",
     "timestamp": 1668484710394,
     "user": {
      "displayName": "Maggi Mars",
      "userId": "15664582298795720795"
     },
     "user_tz": 300
    },
    "id": "40_QV3vrrS7v",
    "outputId": "6478dbef-1a97-4db3-e47a-12e1be96f4f5"
   },
   "outputs": [
    {
     "data": {
      "text/plain": [
       "169    157.88955\n",
       "Name: Crashes_per_100k, dtype: float64"
      ]
     },
     "execution_count": 17,
     "metadata": {},
     "output_type": "execute_result"
    }
   ],
   "source": [
    "# get the actual crash rate in Feb 2020\n",
    "traffic[traffic['Date'] == pd.to_datetime(\"2020-02-01\")].Crashes_per_100k"
   ]
  },
  {
   "cell_type": "markdown",
   "id": "BjcAJewtBoMG",
   "metadata": {
    "id": "BjcAJewtBoMG"
   },
   "source": [
    "<details>\n",
    "    <summary style=\"display:list-item; font-size:16px; color:blue;\"><i>What did we discover in this step? Toggle to check!</i></summary>\n",
    "\n",
    "The actual crash rate in Februrary of 2020 was only 157.8895, which was a fair bit lower than our prediction. \n",
    "\n",
    "</details>"
   ]
  },
  {
   "cell_type": "markdown",
   "id": "727f8b10",
   "metadata": {
    "id": "727f8b10"
   },
   "source": [
    "### 14. Visualize the prediction\n",
    "\n",
    "Let's plot our regression plot again, but let's add two new points on top:\n",
    "\n",
    "* The predicted 2020 crash rate\n",
    "* The actual 2020 crash rate\n",
    "\n",
    "Code has been provided for the original regression plot and a legend title. \n",
    "\n",
    "Add a scatter plot layer to add the 2020 predicted and actual crash rates that both used the 2019 smartphone usage rate. Use different colors and marker shapes for the predicted and actual 2020 crash rates."
   ]
  },
  {
   "cell_type": "code",
   "execution_count": 19,
   "id": "8e5de054",
   "metadata": {
    "colab": {
     "base_uri": "https://localhost:8080/",
     "height": 285
    },
    "executionInfo": {
     "elapsed": 465,
     "status": "ok",
     "timestamp": 1668485016589,
     "user": {
      "displayName": "Maggi Mars",
      "userId": "15664582298795720795"
     },
     "user_tz": 300
    },
    "id": "8e5de054",
    "outputId": "e811ca03-73f1-4b4c-d434-3cc416088c33"
   },
   "outputs": [
    {
     "data": {
      "image/png": "[encoded data removed]",
      "text/plain": [
       "<Figure size 640x480 with 1 Axes>"
      ]
     },
     "metadata": {},
     "output_type": "display_data"
    }
   ],
   "source": [
    "# recreate the regression plot we made earlier\n",
    "sns.regplot(x = 'Smartphone_usage', y = 'Crashes_per_100k', data = smartphones)\n",
    "\n",
    "\n",
    "# add a scatter plot layer to show the actual and predicted 2020 values\n",
    "sns.scatterplot(x = [81,81], y = [174.205,157.890], \n",
    "                hue = ['predicted','actual'], style= ['predicted','actual'], \n",
    "                markers = ['X','o'], palette=['navy','orange'], s=200)\n",
    "\n",
    "# add legend title\n",
    "plt.legend(title='2020')\n",
    "plt.show()"
   ]
  },
  {
   "cell_type": "markdown",
   "id": "e7q0GtfuDya4",
   "metadata": {
    "id": "e7q0GtfuDya4"
   },
   "source": [
    "<details>\n",
    "    <summary style=\"display:list-item; font-size:16px; color:blue;\"><i>What did we discover in this step? Toggle to check!</i></summary>\n",
    "\n",
    "By adding another layer to our regression plot, we can see the difference between the predicted and real crash rates in February 2020. This allows us to see how these values compare to the rest of the dataset. \n",
    "\n",
    "</details>"
   ]
  }
 ],
 "metadata": {
  "colab": {
   "collapsed_sections": [],
   "provenance": []
  },
  "kernelspec": {
   "display_name": "Python 3 (ipykernel)",
   "language": "python",
   "name": "python3"
  },
  "language_info": {
   "codemirror_mode": {
    "name": "ipython",
    "version": 3
   },
   "file_extension": ".py",
   "mimetype": "text/x-python",
   "name": "python",
   "nbconvert_exporter": "python",
   "pygments_lexer": "ipython3",
   "version": "3.8.10"
  }
 },
 "nbformat": 4,
 "nbformat_minor": 5
}
