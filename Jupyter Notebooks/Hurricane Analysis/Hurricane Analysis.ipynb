{
 "cells": [
  {
   "cell_type": "markdown",
   "id": "58875e7a",
   "metadata": {
    "pycharm": {
     "name": "#%% md\n"
    }
   },
   "source": [
    "# Hurricane Analysis"
   ]
  },
  {
   "cell_type": "markdown",
   "id": "9a2d9627",
   "metadata": {
    "pycharm": {
     "name": "#%% md\n"
    }
   },
   "source": [
    "#### Overview"
   ]
  },
  {
   "cell_type": "markdown",
   "id": "633e5dde",
   "metadata": {
    "pycharm": {
     "name": "#%% md\n"
    }
   },
   "source": [
    "This project is slightly different than others you have encountered thus far. Instead of a step-by-step tutorial, this project contains a series of open-ended requirements which describe the project you'll be building. There are many possible ways to correctly fulfill all of these requirements, and you should expect to use the internet, Codecademy, and other resources when you encounter a problem that you cannot easily solve."
   ]
  },
  {
   "cell_type": "markdown",
   "id": "52f01f07",
   "metadata": {
    "pycharm": {
     "name": "#%% md\n"
    }
   },
   "source": [
    "#### Project Goals"
   ]
  },
  {
   "cell_type": "markdown",
   "id": "d9d06c43",
   "metadata": {
    "pycharm": {
     "name": "#%% md\n"
    }
   },
   "source": [
    "You will work to write several functions that organize and manipulate data about Category 5 Hurricanes, the strongest hurricanes as rated by their wind speed. Each one of these functions will use a number of parameters, conditionals, lists, dictionaries, string manipulation, and return statements."
   ]
  },
  {
   "cell_type": "markdown",
   "id": "7fbb9fb5",
   "metadata": {
    "pycharm": {
     "name": "#%% md\n"
    }
   },
   "source": [
    "#### Prerequisites"
   ]
  },
  {
   "cell_type": "markdown",
   "id": "4732a1e8",
   "metadata": {
    "pycharm": {
     "name": "#%% md\n"
    }
   },
   "source": [
    "In order to complete this project, you should have completed the Loops and Dictionaries sections of the [Learn Python 3 Course](https://www.codecademy.com/learn/learn-python-3). This content is also covered in the [Data Scientist Career Path](https://www.codecademy.com/learn/paths/data-science/)."
   ]
  },
  {
   "cell_type": "markdown",
   "id": "1e924903",
   "metadata": {
    "pycharm": {
     "name": "#%% md\n"
    }
   },
   "source": [
    "## Project Requirements"
   ]
  },
  {
   "cell_type": "markdown",
   "id": "35d6f74d",
   "metadata": {
    "pycharm": {
     "name": "#%% md\n"
    }
   },
   "source": [
    "1. Hurricanes, also known as cyclones or typhoons, are one of the most powerful forces of nature on Earth. Due to climate change caused by human activity, the number and intensity of hurricanes has risen, calling for better preparation by the many communities that are devastated by them. As a concerned environmentalist, you want to look at data about the most powerful hurricanes that have occured. \n",
    "\n",
    "   Begin by looking at the `damages` list. The list contains strings representing the total cost in USD(`$`) caused by `34` category 5 hurricanes (wind speeds $\\ge$ 157 mph (252 km/h)) in the Atlantic region. For some of the hurricanes, damage data was not recorded (`\"Damages not recorded\"`), while the rest are written in the format `\"Prefix-B/M\"`, where `B` stands for billions (`1000000000`) and `M` stands for millions (`1000000`).\n",
    "   \n",
    "   Write a function that returns a new list of updated damages where the recorded data is converted to float values and the missing data is retained as `\"Damages not recorded\"`.\n",
    "   \n",
    "   Test your function with the data stored in `damages`."
   ]
  },
  {
   "cell_type": "code",
   "execution_count": 13,
   "id": "d8d3c50b",
   "metadata": {
    "pycharm": {
     "name": "#%%\n"
    }
   },
   "outputs": [
    {
     "data": {
      "text/plain": "['Damages not recorded',\n 100000000.0,\n 'Damages not recorded',\n 40000000.0,\n 27900000.0,\n 5000000.0,\n 'Damages not recorded',\n 306000000.0,\n 2000000.0,\n 65800000.0,\n 326000000.0,\n 60300000.0,\n 208000000.0,\n 1420000000.0,\n 25400000.0,\n 'Damages not recorded',\n 1540000000.0,\n 1240000000.0,\n 7100000000.0,\n 10000000000.0,\n 26500000000.0,\n 6200000000.0,\n 5370000000.0,\n 23300000000.0,\n 1010000000.0,\n 125000000000.0,\n 12000000000.0,\n 29400000000.0,\n 1760000000.0,\n 720000000.0,\n 15100000000.0,\n 64800000000.0,\n 91600000000.0,\n 25100000000.0]"
     },
     "execution_count": 13,
     "metadata": {},
     "output_type": "execute_result"
    }
   ],
   "source": [
    "# damages (USD($)) of hurricanes\n",
    "damages = ['Damages not recorded', '100M', 'Damages not recorded', '40M',\n",
    "          '27.9M', '5M', 'Damages not recorded', '306M', '2M', '65.8M',\n",
    "          '326M', '60.3M', '208M', '1.42B', '25.4M', 'Damages not recorded',\n",
    "          '1.54B', '1.24B', '7.1B', '10B', '26.5B', '6.2B', '5.37B', '23.3B',\n",
    "          '1.01B', '125B', '12B', '29.4B', '1.76B', '720M', '15.1B', '64.8B',\n",
    "          '91.6B', '25.1B']\n",
    "\n",
    "# 1\n",
    "# Update Recorded Damages\n",
    "def convert_damages_data(damages):\n",
    "    \"\"\"Convert damages data from string to float and return converted data as a list.\"\"\"\n",
    "    conversion = {\"M\": 1000000,\n",
    "                  \"B\": 1000000000}\n",
    "\n",
    "    updated_damages = list()\n",
    "    for damage in damages:\n",
    "        if damage == \"Damages not recorded\":\n",
    "            updated_damages.append(damage)\n",
    "        if damage.find('M') != -1:\n",
    "            updated_damages.append(float(damage[0:damage.find('M')])*conversion[\"M\"])\n",
    "        if damage.find('B') != -1:\n",
    "            updated_damages.append(float(damage[0:damage.find('B')])*conversion[\"B\"])\n",
    "    return updated_damages\n",
    "\n",
    "# test function by updating damages\n",
    "updated_damages = convert_damages_data(damages)\n",
    "updated_damages"
   ]
  },
  {
   "cell_type": "markdown",
   "id": "36ac47b6",
   "metadata": {
    "pycharm": {
     "name": "#%% md\n"
    }
   },
   "source": [
    "2. Additional data collected on the `34` strongest Atlantic hurricanes are provided in a series of lists. The data includes:\n",
    "   - `names`: names of the hurricanes\n",
    "   - `months`: months in which the hurricanes occurred\n",
    "   - `years`: years in which the hurricanes occurred\n",
    "   - `max_sustained_winds`: maximum sustained winds (miles per hour) of the hurricanes\n",
    "   - `areas_affected`: list of different areas affected by each of the hurricanes\n",
    "   - `deaths`: total number of deaths caused by each of the hurricanes\n",
    "   \n",
    "   The data is organized such that the data at each index, from `0` to `33`, corresponds to the same hurricane.\n",
    "   \n",
    "   For example, `names[0]` yields the \"Cuba I\" hurricane, which occurred in `months[0]` (October) `years[0]` (1924).\n",
    "   \n",
    "   Write a function that constructs a dictionary made out of the lists, where the keys of the dictionary are the names of the hurricanes, and the values are dictionaries themselves containing a key for each piece of data (`Name`, `Month`, `Year`, `Max Sustained Wind`, `Areas Affected`, `Damage`, `Death`) about the hurricane.\n",
    "   \n",
    "   Thus the key `\"Cuba I\"` would have the value: `{'Name': 'Cuba I', 'Month': 'October', 'Year': 1924, 'Max Sustained Wind': 165, 'Areas Affected': ['Central America', 'Mexico', 'Cuba', 'Florida', 'The Bahamas'], 'Damage': 'Damages not recorded', 'Deaths': 90}`.\n",
    "   \n",
    "   Test your function on the lists of data provided."
   ]
  },
  {
   "cell_type": "code",
   "execution_count": 14,
   "id": "641aa113",
   "metadata": {
    "pycharm": {
     "name": "#%%\n"
    }
   },
   "outputs": [
    {
     "data": {
      "text/plain": "{'Cuba I': {'Name': 'Cuba I',\n  'Month': 'October',\n  'Year': 1924,\n  'Max Sustained Wind': 165,\n  'Areas Affected': ['Central America',\n   'Mexico',\n   'Cuba',\n   'Florida',\n   'The Bahamas'],\n  'Damage': 'Damages not recorded',\n  'Deaths': 90},\n 'San Felipe II Okeechobee': {'Name': 'San Felipe II Okeechobee',\n  'Month': 'September',\n  'Year': 1928,\n  'Max Sustained Wind': 160,\n  'Areas Affected': ['Lesser Antilles',\n   'The Bahamas',\n   'United States East Coast',\n   'Atlantic Canada'],\n  'Damage': 100000000.0,\n  'Deaths': 4000},\n 'Bahamas': {'Name': 'Bahamas',\n  'Month': 'September',\n  'Year': 1932,\n  'Max Sustained Wind': 160,\n  'Areas Affected': ['The Bahamas', 'Northeastern United States'],\n  'Damage': 'Damages not recorded',\n  'Deaths': 16},\n 'Cuba II': {'Name': 'Cuba II',\n  'Month': 'November',\n  'Year': 1932,\n  'Max Sustained Wind': 175,\n  'Areas Affected': ['Lesser Antilles',\n   'Jamaica',\n   'Cayman Islands',\n   'Cuba',\n   'The Bahamas',\n   'Bermuda'],\n  'Damage': 40000000.0,\n  'Deaths': 3103},\n 'CubaBrownsville': {'Name': 'CubaBrownsville',\n  'Month': 'August',\n  'Year': 1933,\n  'Max Sustained Wind': 160,\n  'Areas Affected': ['The Bahamas', 'Cuba', 'Florida', 'Texas', 'Tamaulipas'],\n  'Damage': 27900000.0,\n  'Deaths': 179},\n 'Tampico': {'Name': 'Tampico',\n  'Month': 'September',\n  'Year': 1933,\n  'Max Sustained Wind': 160,\n  'Areas Affected': ['Jamaica', 'Yucatn Peninsula'],\n  'Damage': 5000000.0,\n  'Deaths': 184},\n 'Labor Day': {'Name': 'Labor Day',\n  'Month': 'September',\n  'Year': 1935,\n  'Max Sustained Wind': 185,\n  'Areas Affected': ['The Bahamas',\n   'Florida',\n   'Georgia',\n   'The Carolinas',\n   'Virginia'],\n  'Damage': 'Damages not recorded',\n  'Deaths': 408},\n 'New England': {'Name': 'New England',\n  'Month': 'September',\n  'Year': 1938,\n  'Max Sustained Wind': 160,\n  'Areas Affected': ['Southeastern United States',\n   'Northeastern United States',\n   'Southwestern Quebec'],\n  'Damage': 306000000.0,\n  'Deaths': 682},\n 'Carol': {'Name': 'Carol',\n  'Month': 'September',\n  'Year': 1953,\n  'Max Sustained Wind': 160,\n  'Areas Affected': ['Bermuda', 'New England', 'Atlantic Canada'],\n  'Damage': 2000000.0,\n  'Deaths': 5},\n 'Janet': {'Name': 'Janet',\n  'Month': 'September',\n  'Year': 1955,\n  'Max Sustained Wind': 175,\n  'Areas Affected': ['Lesser Antilles', 'Central America'],\n  'Damage': 65800000.0,\n  'Deaths': 1023},\n 'Carla': {'Name': 'Carla',\n  'Month': 'September',\n  'Year': 1961,\n  'Max Sustained Wind': 175,\n  'Areas Affected': ['Texas', 'Louisiana', 'Midwestern United States'],\n  'Damage': 326000000.0,\n  'Deaths': 43},\n 'Hattie': {'Name': 'Hattie',\n  'Month': 'October',\n  'Year': 1961,\n  'Max Sustained Wind': 160,\n  'Areas Affected': ['Central America'],\n  'Damage': 60300000.0,\n  'Deaths': 319},\n 'Beulah': {'Name': 'Beulah',\n  'Month': 'September',\n  'Year': 1967,\n  'Max Sustained Wind': 160,\n  'Areas Affected': ['The Caribbean', 'Mexico', 'Texas'],\n  'Damage': 208000000.0,\n  'Deaths': 688},\n 'Camille': {'Name': 'Camille',\n  'Month': 'August',\n  'Year': 1969,\n  'Max Sustained Wind': 175,\n  'Areas Affected': ['Cuba', 'United States Gulf Coast'],\n  'Damage': 1420000000.0,\n  'Deaths': 259},\n 'Edith': {'Name': 'Edith',\n  'Month': 'September',\n  'Year': 1971,\n  'Max Sustained Wind': 160,\n  'Areas Affected': ['The Caribbean',\n   'Central America',\n   'Mexico',\n   'United States Gulf Coast'],\n  'Damage': 25400000.0,\n  'Deaths': 37},\n 'Anita': {'Name': 'Anita',\n  'Month': 'September',\n  'Year': 1977,\n  'Max Sustained Wind': 175,\n  'Areas Affected': ['Mexico'],\n  'Damage': 'Damages not recorded',\n  'Deaths': 11},\n 'David': {'Name': 'David',\n  'Month': 'August',\n  'Year': 1979,\n  'Max Sustained Wind': 175,\n  'Areas Affected': ['The Caribbean', 'United States East coast'],\n  'Damage': 1540000000.0,\n  'Deaths': 2068},\n 'Allen': {'Name': 'Allen',\n  'Month': 'August',\n  'Year': 1980,\n  'Max Sustained Wind': 190,\n  'Areas Affected': ['The Caribbean',\n   'Yucatn Peninsula',\n   'Mexico',\n   'South Texas'],\n  'Damage': 1240000000.0,\n  'Deaths': 269},\n 'Gilbert': {'Name': 'Gilbert',\n  'Month': 'September',\n  'Year': 1988,\n  'Max Sustained Wind': 185,\n  'Areas Affected': ['Jamaica',\n   'Venezuela',\n   'Central America',\n   'Hispaniola',\n   'Mexico'],\n  'Damage': 7100000000.0,\n  'Deaths': 318},\n 'Hugo': {'Name': 'Hugo',\n  'Month': 'September',\n  'Year': 1989,\n  'Max Sustained Wind': 160,\n  'Areas Affected': ['The Caribbean', 'United States East Coast'],\n  'Damage': 10000000000.0,\n  'Deaths': 107},\n 'Andrew': {'Name': 'Andrew',\n  'Month': 'August',\n  'Year': 1992,\n  'Max Sustained Wind': 175,\n  'Areas Affected': ['The Bahamas', 'Florida', 'United States Gulf Coast'],\n  'Damage': 26500000000.0,\n  'Deaths': 65},\n 'Mitch': {'Name': 'Mitch',\n  'Month': 'October',\n  'Year': 1998,\n  'Max Sustained Wind': 180,\n  'Areas Affected': ['Central America', 'Yucatn Peninsula', 'South Florida'],\n  'Damage': 6200000000.0,\n  'Deaths': 19325},\n 'Isabel': {'Name': 'Isabel',\n  'Month': 'September',\n  'Year': 2003,\n  'Max Sustained Wind': 165,\n  'Areas Affected': ['Greater Antilles',\n   'Bahamas',\n   'Eastern United States',\n   'Ontario'],\n  'Damage': 5370000000.0,\n  'Deaths': 51},\n 'Ivan': {'Name': 'Ivan',\n  'Month': 'September',\n  'Year': 2004,\n  'Max Sustained Wind': 165,\n  'Areas Affected': ['The Caribbean', 'Venezuela', 'United States Gulf Coast'],\n  'Damage': 23300000000.0,\n  'Deaths': 124},\n 'Emily': {'Name': 'Emily',\n  'Month': 'July',\n  'Year': 2005,\n  'Max Sustained Wind': 160,\n  'Areas Affected': ['Windward Islands', 'Jamaica', 'Mexico', 'Texas'],\n  'Damage': 1010000000.0,\n  'Deaths': 17},\n 'Katrina': {'Name': 'Katrina',\n  'Month': 'August',\n  'Year': 2005,\n  'Max Sustained Wind': 175,\n  'Areas Affected': ['Bahamas', 'United States Gulf Coast'],\n  'Damage': 125000000000.0,\n  'Deaths': 1836},\n 'Rita': {'Name': 'Rita',\n  'Month': 'September',\n  'Year': 2005,\n  'Max Sustained Wind': 180,\n  'Areas Affected': ['Cuba', 'United States Gulf Coast'],\n  'Damage': 12000000000.0,\n  'Deaths': 125},\n 'Wilma': {'Name': 'Wilma',\n  'Month': 'October',\n  'Year': 2005,\n  'Max Sustained Wind': 185,\n  'Areas Affected': ['Greater Antilles', 'Central America', 'Florida'],\n  'Damage': 29400000000.0,\n  'Deaths': 87},\n 'Dean': {'Name': 'Dean',\n  'Month': 'August',\n  'Year': 2007,\n  'Max Sustained Wind': 175,\n  'Areas Affected': ['The Caribbean', 'Central America'],\n  'Damage': 1760000000.0,\n  'Deaths': 45},\n 'Felix': {'Name': 'Felix',\n  'Month': 'September',\n  'Year': 2007,\n  'Max Sustained Wind': 175,\n  'Areas Affected': ['Nicaragua', 'Honduras'],\n  'Damage': 720000000.0,\n  'Deaths': 133},\n 'Matthew': {'Name': 'Matthew',\n  'Month': 'October',\n  'Year': 2016,\n  'Max Sustained Wind': 165,\n  'Areas Affected': ['Antilles',\n   'Venezuela',\n   'Colombia',\n   'United States East Coast',\n   'Atlantic Canada'],\n  'Damage': 15100000000.0,\n  'Deaths': 603},\n 'Irma': {'Name': 'Irma',\n  'Month': 'September',\n  'Year': 2017,\n  'Max Sustained Wind': 180,\n  'Areas Affected': ['Cape Verde',\n   'The Caribbean',\n   'British Virgin Islands',\n   'U.S. Virgin Islands',\n   'Cuba',\n   'Florida'],\n  'Damage': 64800000000.0,\n  'Deaths': 138},\n 'Maria': {'Name': 'Maria',\n  'Month': 'September',\n  'Year': 2017,\n  'Max Sustained Wind': 175,\n  'Areas Affected': ['Lesser Antilles',\n   'Virgin Islands',\n   'Puerto Rico',\n   'Dominican Republic',\n   'Turks and Caicos Islands'],\n  'Damage': 91600000000.0,\n  'Deaths': 3057},\n 'Michael': {'Name': 'Michael',\n  'Month': 'October',\n  'Year': 2018,\n  'Max Sustained Wind': 160,\n  'Areas Affected': ['Central America',\n   'United States Gulf Coast (especially Florida Panhandle)'],\n  'Damage': 25100000000.0,\n  'Deaths': 74}}"
     },
     "execution_count": 14,
     "metadata": {},
     "output_type": "execute_result"
    }
   ],
   "source": [
    "# names of hurricanes\n",
    "names = ['Cuba I', 'San Felipe II Okeechobee', 'Bahamas', 'Cuba II', 'CubaBrownsville', 'Tampico', 'Labor Day', 'New England', 'Carol', 'Janet', 'Carla', 'Hattie', 'Beulah', 'Camille', 'Edith', 'Anita', 'David', 'Allen', 'Gilbert', 'Hugo', 'Andrew', 'Mitch', 'Isabel', 'Ivan', 'Emily', 'Katrina', 'Rita', 'Wilma', 'Dean', 'Felix', 'Matthew', 'Irma', 'Maria', 'Michael']\n",
    "\n",
    "# months of hurricanes\n",
    "months = ['October', 'September', 'September', 'November', 'August', 'September', 'September', 'September', 'September', 'September', 'September', 'October', 'September', 'August', 'September', 'September', 'August', 'August', 'September', 'September', 'August', 'October', 'September', 'September', 'July', 'August', 'September', 'October', 'August', 'September', 'October', 'September', 'September', 'October']\n",
    "\n",
    "# years of hurricanes\n",
    "years = [1924, 1928, 1932, 1932, 1933, 1933, 1935, 1938, 1953, 1955, 1961, 1961, 1967, 1969, 1971, 1977, 1979, 1980, 1988, 1989, 1992, 1998, 2003, 2004, 2005, 2005, 2005, 2005, 2007, 2007, 2016, 2017, 2017, 2018]\n",
    "\n",
    "# maximum sustained winds (mph) of hurricanes\n",
    "max_sustained_winds = [165, 160, 160, 175, 160, 160, 185, 160, 160, 175, 175, 160, 160, 175, 160, 175, 175, 190, 185, 160, 175, 180, 165, 165, 160, 175, 180, 185, 175, 175, 165, 180, 175, 160]\n",
    "\n",
    "# areas affected by each hurricane\n",
    "areas_affected = [['Central America', 'Mexico', 'Cuba', 'Florida', 'The Bahamas'], ['Lesser Antilles', 'The Bahamas', 'United States East Coast', 'Atlantic Canada'], ['The Bahamas', 'Northeastern United States'], ['Lesser Antilles', 'Jamaica', 'Cayman Islands', 'Cuba', 'The Bahamas', 'Bermuda'], ['The Bahamas', 'Cuba', 'Florida', 'Texas', 'Tamaulipas'], ['Jamaica', 'Yucatn Peninsula'], ['The Bahamas', 'Florida', 'Georgia', 'The Carolinas', 'Virginia'], ['Southeastern United States', 'Northeastern United States', 'Southwestern Quebec'], ['Bermuda', 'New England', 'Atlantic Canada'], ['Lesser Antilles', 'Central America'], ['Texas', 'Louisiana', 'Midwestern United States'], ['Central America'], ['The Caribbean', 'Mexico', 'Texas'], ['Cuba', 'United States Gulf Coast'], ['The Caribbean', 'Central America', 'Mexico', 'United States Gulf Coast'], ['Mexico'], ['The Caribbean', 'United States East coast'], ['The Caribbean', 'Yucatn Peninsula', 'Mexico', 'South Texas'], ['Jamaica', 'Venezuela', 'Central America', 'Hispaniola', 'Mexico'], ['The Caribbean', 'United States East Coast'], ['The Bahamas', 'Florida', 'United States Gulf Coast'], ['Central America', 'Yucatn Peninsula', 'South Florida'], ['Greater Antilles', 'Bahamas', 'Eastern United States', 'Ontario'], ['The Caribbean', 'Venezuela', 'United States Gulf Coast'], ['Windward Islands', 'Jamaica', 'Mexico', 'Texas'], ['Bahamas', 'United States Gulf Coast'], ['Cuba', 'United States Gulf Coast'], ['Greater Antilles', 'Central America', 'Florida'], ['The Caribbean', 'Central America'], ['Nicaragua', 'Honduras'], ['Antilles', 'Venezuela', 'Colombia', 'United States East Coast', 'Atlantic Canada'], ['Cape Verde', 'The Caribbean', 'British Virgin Islands', 'U.S. Virgin Islands', 'Cuba', 'Florida'], ['Lesser Antilles', 'Virgin Islands', 'Puerto Rico', 'Dominican Republic', 'Turks and Caicos Islands'], ['Central America', 'United States Gulf Coast (especially Florida Panhandle)']]\n",
    "\n",
    "# damages (USD($)) of hurricanes\n",
    "damages = ['Damages not recorded', '100M', 'Damages not recorded', '40M', '27.9M', '5M', 'Damages not recorded', '306M', '2M', '65.8M', '326M', '60.3M', '208M', '1.42B', '25.4M', 'Damages not recorded', '1.54B', '1.24B', '7.1B', '10B', '26.5B', '6.2B', '5.37B', '23.3B', '1.01B', '125B', '12B', '29.4B', '1.76B', '720M', '15.1B', '64.8B', '91.6B', '25.1B']\n",
    "\n",
    "# deaths for each hurricane\n",
    "deaths = [90,4000,16,3103,179,184,408,682,5,1023,43,319,688,259,37,11,2068,269,318,107,65,19325,51,124,17,1836,125,87,45,133,603,138,3057,74]\n",
    "\n",
    "# 2\n",
    "# Create a Table\n",
    "def create_dictionary(names, months, years, max_sustained_winds, areas_affected, updated_damages, deaths):\n",
    "    hurricanes = dict()\n",
    "    hurricane_count = len(names)\n",
    "    for i in range(hurricane_count):\n",
    "        hurricanes[names[i]] = {\n",
    "            \"Name\": names[i],\n",
    "            \"Month\": months[i],\n",
    "            \"Year\": years[i],\n",
    "            \"Max Sustained Wind\": max_sustained_winds[i],\n",
    "            \"Areas Affected\": areas_affected[i],\n",
    "            \"Damage\": updated_damages[i],\n",
    "            \"Deaths\": deaths[i]\n",
    "        }\n",
    "    return hurricanes\n",
    "\n",
    "# Create and view the hurricanes dictionary\n",
    "hurricanes = create_dictionary(names, months, years, max_sustained_winds, areas_affected, updated_damages, deaths)\n",
    "hurricanes"
   ]
  },
  {
   "cell_type": "markdown",
   "id": "6d0a1933",
   "metadata": {
    "pycharm": {
     "name": "#%% md\n"
    }
   },
   "source": [
    "3. In addition to organizing the hurricanes in a dictionary with names as the key, you want to be able to organize the hurricanes by year.\n",
    "\n",
    "   Write a function that converts the current dictionary of hurricanes to a new dictionary, where the keys are years and the values are lists containing a dictionary for each hurricane that occurred in that year.\n",
    "   \n",
    "   For example, the key `1932` would yield the value: `[{'Name': 'Bahamas', 'Month': 'September', 'Year': 1932, 'Max Sustained Wind': 160, 'Areas Affected': ['The Bahamas', 'Northeastern United States'], 'Damage': 'Damage not recorded', 'Deaths': 16}, {'Name': 'Cuba II', 'Month': 'November', 'Year': 1932, 'Max Sustained Wind': 175, 'Areas Affected': ['Lesser Antilles', 'Jamaica', 'Cayman Islands', 'Cuba', 'The Bahamas', 'Bermuda'], 'Damage': 40000000.0, 'Deaths': 3103}]`.\n",
    "   \n",
    "   Test your function on your hurricane dictionary."
   ]
  },
  {
   "cell_type": "code",
   "execution_count": 15,
   "id": "1ef2edea",
   "metadata": {
    "pycharm": {
     "name": "#%%\n"
    }
   },
   "outputs": [
    {
     "data": {
      "text/plain": "{1924: [{'Name': 'Cuba I',\n   'Month': 'October',\n   'Year': 1924,\n   'Max Sustained Wind': 165,\n   'Areas Affected': ['Central America',\n    'Mexico',\n    'Cuba',\n    'Florida',\n    'The Bahamas'],\n   'Damage': 'Damages not recorded',\n   'Deaths': 90}],\n 1928: [{'Name': 'San Felipe II Okeechobee',\n   'Month': 'September',\n   'Year': 1928,\n   'Max Sustained Wind': 160,\n   'Areas Affected': ['Lesser Antilles',\n    'The Bahamas',\n    'United States East Coast',\n    'Atlantic Canada'],\n   'Damage': 100000000.0,\n   'Deaths': 4000}],\n 1932: [{'Name': 'Bahamas',\n   'Month': 'September',\n   'Year': 1932,\n   'Max Sustained Wind': 160,\n   'Areas Affected': ['The Bahamas', 'Northeastern United States'],\n   'Damage': 'Damages not recorded',\n   'Deaths': 16},\n  {'Name': 'Cuba II',\n   'Month': 'November',\n   'Year': 1932,\n   'Max Sustained Wind': 175,\n   'Areas Affected': ['Lesser Antilles',\n    'Jamaica',\n    'Cayman Islands',\n    'Cuba',\n    'The Bahamas',\n    'Bermuda'],\n   'Damage': 40000000.0,\n   'Deaths': 3103}],\n 1933: [{'Name': 'CubaBrownsville',\n   'Month': 'August',\n   'Year': 1933,\n   'Max Sustained Wind': 160,\n   'Areas Affected': ['The Bahamas', 'Cuba', 'Florida', 'Texas', 'Tamaulipas'],\n   'Damage': 27900000.0,\n   'Deaths': 179},\n  {'Name': 'Tampico',\n   'Month': 'September',\n   'Year': 1933,\n   'Max Sustained Wind': 160,\n   'Areas Affected': ['Jamaica', 'Yucatn Peninsula'],\n   'Damage': 5000000.0,\n   'Deaths': 184}],\n 1935: [{'Name': 'Labor Day',\n   'Month': 'September',\n   'Year': 1935,\n   'Max Sustained Wind': 185,\n   'Areas Affected': ['The Bahamas',\n    'Florida',\n    'Georgia',\n    'The Carolinas',\n    'Virginia'],\n   'Damage': 'Damages not recorded',\n   'Deaths': 408}],\n 1938: [{'Name': 'New England',\n   'Month': 'September',\n   'Year': 1938,\n   'Max Sustained Wind': 160,\n   'Areas Affected': ['Southeastern United States',\n    'Northeastern United States',\n    'Southwestern Quebec'],\n   'Damage': 306000000.0,\n   'Deaths': 682}],\n 1953: [{'Name': 'Carol',\n   'Month': 'September',\n   'Year': 1953,\n   'Max Sustained Wind': 160,\n   'Areas Affected': ['Bermuda', 'New England', 'Atlantic Canada'],\n   'Damage': 2000000.0,\n   'Deaths': 5}],\n 1955: [{'Name': 'Janet',\n   'Month': 'September',\n   'Year': 1955,\n   'Max Sustained Wind': 175,\n   'Areas Affected': ['Lesser Antilles', 'Central America'],\n   'Damage': 65800000.0,\n   'Deaths': 1023}],\n 1961: [{'Name': 'Carla',\n   'Month': 'September',\n   'Year': 1961,\n   'Max Sustained Wind': 175,\n   'Areas Affected': ['Texas', 'Louisiana', 'Midwestern United States'],\n   'Damage': 326000000.0,\n   'Deaths': 43},\n  {'Name': 'Hattie',\n   'Month': 'October',\n   'Year': 1961,\n   'Max Sustained Wind': 160,\n   'Areas Affected': ['Central America'],\n   'Damage': 60300000.0,\n   'Deaths': 319}],\n 1967: [{'Name': 'Beulah',\n   'Month': 'September',\n   'Year': 1967,\n   'Max Sustained Wind': 160,\n   'Areas Affected': ['The Caribbean', 'Mexico', 'Texas'],\n   'Damage': 208000000.0,\n   'Deaths': 688}],\n 1969: [{'Name': 'Camille',\n   'Month': 'August',\n   'Year': 1969,\n   'Max Sustained Wind': 175,\n   'Areas Affected': ['Cuba', 'United States Gulf Coast'],\n   'Damage': 1420000000.0,\n   'Deaths': 259}],\n 1971: [{'Name': 'Edith',\n   'Month': 'September',\n   'Year': 1971,\n   'Max Sustained Wind': 160,\n   'Areas Affected': ['The Caribbean',\n    'Central America',\n    'Mexico',\n    'United States Gulf Coast'],\n   'Damage': 25400000.0,\n   'Deaths': 37}],\n 1977: [{'Name': 'Anita',\n   'Month': 'September',\n   'Year': 1977,\n   'Max Sustained Wind': 175,\n   'Areas Affected': ['Mexico'],\n   'Damage': 'Damages not recorded',\n   'Deaths': 11}],\n 1979: [{'Name': 'David',\n   'Month': 'August',\n   'Year': 1979,\n   'Max Sustained Wind': 175,\n   'Areas Affected': ['The Caribbean', 'United States East coast'],\n   'Damage': 1540000000.0,\n   'Deaths': 2068}],\n 1980: [{'Name': 'Allen',\n   'Month': 'August',\n   'Year': 1980,\n   'Max Sustained Wind': 190,\n   'Areas Affected': ['The Caribbean',\n    'Yucatn Peninsula',\n    'Mexico',\n    'South Texas'],\n   'Damage': 1240000000.0,\n   'Deaths': 269}],\n 1988: [{'Name': 'Gilbert',\n   'Month': 'September',\n   'Year': 1988,\n   'Max Sustained Wind': 185,\n   'Areas Affected': ['Jamaica',\n    'Venezuela',\n    'Central America',\n    'Hispaniola',\n    'Mexico'],\n   'Damage': 7100000000.0,\n   'Deaths': 318}],\n 1989: [{'Name': 'Hugo',\n   'Month': 'September',\n   'Year': 1989,\n   'Max Sustained Wind': 160,\n   'Areas Affected': ['The Caribbean', 'United States East Coast'],\n   'Damage': 10000000000.0,\n   'Deaths': 107}],\n 1992: [{'Name': 'Andrew',\n   'Month': 'August',\n   'Year': 1992,\n   'Max Sustained Wind': 175,\n   'Areas Affected': ['The Bahamas', 'Florida', 'United States Gulf Coast'],\n   'Damage': 26500000000.0,\n   'Deaths': 65}],\n 1998: [{'Name': 'Mitch',\n   'Month': 'October',\n   'Year': 1998,\n   'Max Sustained Wind': 180,\n   'Areas Affected': ['Central America', 'Yucatn Peninsula', 'South Florida'],\n   'Damage': 6200000000.0,\n   'Deaths': 19325}],\n 2003: [{'Name': 'Isabel',\n   'Month': 'September',\n   'Year': 2003,\n   'Max Sustained Wind': 165,\n   'Areas Affected': ['Greater Antilles',\n    'Bahamas',\n    'Eastern United States',\n    'Ontario'],\n   'Damage': 5370000000.0,\n   'Deaths': 51}],\n 2004: [{'Name': 'Ivan',\n   'Month': 'September',\n   'Year': 2004,\n   'Max Sustained Wind': 165,\n   'Areas Affected': ['The Caribbean',\n    'Venezuela',\n    'United States Gulf Coast'],\n   'Damage': 23300000000.0,\n   'Deaths': 124}],\n 2005: [{'Name': 'Emily',\n   'Month': 'July',\n   'Year': 2005,\n   'Max Sustained Wind': 160,\n   'Areas Affected': ['Windward Islands', 'Jamaica', 'Mexico', 'Texas'],\n   'Damage': 1010000000.0,\n   'Deaths': 17},\n  {'Name': 'Katrina',\n   'Month': 'August',\n   'Year': 2005,\n   'Max Sustained Wind': 175,\n   'Areas Affected': ['Bahamas', 'United States Gulf Coast'],\n   'Damage': 125000000000.0,\n   'Deaths': 1836},\n  {'Name': 'Rita',\n   'Month': 'September',\n   'Year': 2005,\n   'Max Sustained Wind': 180,\n   'Areas Affected': ['Cuba', 'United States Gulf Coast'],\n   'Damage': 12000000000.0,\n   'Deaths': 125},\n  {'Name': 'Wilma',\n   'Month': 'October',\n   'Year': 2005,\n   'Max Sustained Wind': 185,\n   'Areas Affected': ['Greater Antilles', 'Central America', 'Florida'],\n   'Damage': 29400000000.0,\n   'Deaths': 87}],\n 2007: [{'Name': 'Dean',\n   'Month': 'August',\n   'Year': 2007,\n   'Max Sustained Wind': 175,\n   'Areas Affected': ['The Caribbean', 'Central America'],\n   'Damage': 1760000000.0,\n   'Deaths': 45},\n  {'Name': 'Felix',\n   'Month': 'September',\n   'Year': 2007,\n   'Max Sustained Wind': 175,\n   'Areas Affected': ['Nicaragua', 'Honduras'],\n   'Damage': 720000000.0,\n   'Deaths': 133}],\n 2016: [{'Name': 'Matthew',\n   'Month': 'October',\n   'Year': 2016,\n   'Max Sustained Wind': 165,\n   'Areas Affected': ['Antilles',\n    'Venezuela',\n    'Colombia',\n    'United States East Coast',\n    'Atlantic Canada'],\n   'Damage': 15100000000.0,\n   'Deaths': 603}],\n 2017: [{'Name': 'Irma',\n   'Month': 'September',\n   'Year': 2017,\n   'Max Sustained Wind': 180,\n   'Areas Affected': ['Cape Verde',\n    'The Caribbean',\n    'British Virgin Islands',\n    'U.S. Virgin Islands',\n    'Cuba',\n    'Florida'],\n   'Damage': 64800000000.0,\n   'Deaths': 138},\n  {'Name': 'Maria',\n   'Month': 'September',\n   'Year': 2017,\n   'Max Sustained Wind': 175,\n   'Areas Affected': ['Lesser Antilles',\n    'Virgin Islands',\n    'Puerto Rico',\n    'Dominican Republic',\n    'Turks and Caicos Islands'],\n   'Damage': 91600000000.0,\n   'Deaths': 3057}],\n 2018: [{'Name': 'Michael',\n   'Month': 'October',\n   'Year': 2018,\n   'Max Sustained Wind': 160,\n   'Areas Affected': ['Central America',\n    'United States Gulf Coast (especially Florida Panhandle)'],\n   'Damage': 25100000000.0,\n   'Deaths': 74}]}"
     },
     "execution_count": 15,
     "metadata": {},
     "output_type": "execute_result"
    }
   ],
   "source": [
    "# 3\n",
    "# Organizing by Year\n",
    "def create_year_dictionary(hurricanes):\n",
    "\n",
    "    hurricanes_by_year = dict()\n",
    "    for hurricane in hurricanes:\n",
    "        current_year = hurricanes[hurricane]['Year']\n",
    "        current_hurricane = hurricanes[hurricane]\n",
    "        if current_year not in hurricanes_by_year:\n",
    "            hurricanes_by_year[current_year] = [current_hurricane]\n",
    "        else:\n",
    "            hurricanes_by_year[current_year].append(current_hurricane)\n",
    "    return hurricanes_by_year\n",
    "\n",
    "# create a new dictionary of hurricanes with year and key\n",
    "hurricanes_by_year = create_year_dictionary(hurricanes)\n",
    "hurricanes_by_year\n"
   ]
  },
  {
   "cell_type": "markdown",
   "id": "66973f77",
   "metadata": {
    "pycharm": {
     "name": "#%% md\n"
    }
   },
   "source": [
    "4. You believe that knowing how often each of the areas of the Atlantic are affected by these strong hurricanes is important for making preparations for future hurricanes.\n",
    "\n",
    "   Write a function that counts how often each area is listed as an affected area of a hurricane. Store and return the results in a dictionary where the keys are the affected areas and the values are counts of how many times the areas were affected.\n",
    "   \n",
    "   Test your function on your hurricane dictionary."
   ]
  },
  {
   "cell_type": "code",
   "execution_count": 16,
   "id": "bff86f77",
   "metadata": {
    "pycharm": {
     "name": "#%%\n"
    }
   },
   "outputs": [
    {
     "data": {
      "text/plain": "{'Central America': 9,\n 'Mexico': 7,\n 'Cuba': 6,\n 'Florida': 6,\n 'The Bahamas': 7,\n 'Lesser Antilles': 4,\n 'United States East Coast': 3,\n 'Atlantic Canada': 3,\n 'Northeastern United States': 2,\n 'Jamaica': 4,\n 'Cayman Islands': 1,\n 'Bermuda': 2,\n 'Texas': 4,\n 'Tamaulipas': 1,\n 'Yucatn Peninsula': 3,\n 'Georgia': 1,\n 'The Carolinas': 1,\n 'Virginia': 1,\n 'Southeastern United States': 1,\n 'Southwestern Quebec': 1,\n 'New England': 1,\n 'Louisiana': 1,\n 'Midwestern United States': 1,\n 'The Caribbean': 8,\n 'United States Gulf Coast': 6,\n 'United States East coast': 1,\n 'South Texas': 1,\n 'Venezuela': 3,\n 'Hispaniola': 1,\n 'South Florida': 1,\n 'Greater Antilles': 2,\n 'Bahamas': 2,\n 'Eastern United States': 1,\n 'Ontario': 1,\n 'Windward Islands': 1,\n 'Nicaragua': 1,\n 'Honduras': 1,\n 'Antilles': 1,\n 'Colombia': 1,\n 'Cape Verde': 1,\n 'British Virgin Islands': 1,\n 'U.S. Virgin Islands': 1,\n 'Virgin Islands': 1,\n 'Puerto Rico': 1,\n 'Dominican Republic': 1,\n 'Turks and Caicos Islands': 1,\n 'United States Gulf Coast (especially Florida Panhandle)': 1}"
     },
     "execution_count": 16,
     "metadata": {},
     "output_type": "execute_result"
    }
   ],
   "source": [
    "# 4\n",
    "# Counting Damaged Areas\n",
    "def count_affected_areas(hurricanes):\n",
    "\n",
    "    affected_areas_count = dict()\n",
    "    for hurricane in hurricanes:\n",
    "        for area in hurricanes[hurricane]['Areas Affected']:\n",
    "            if area not in affected_areas_count:\n",
    "                affected_areas_count[area] = 1\n",
    "            else:\n",
    "                affected_areas_count[area] += 1\n",
    "    return affected_areas_count\n",
    "\n",
    "# create dictionary of areas to store the number of hurricanes involved in\n",
    "affected_areas_count = count_affected_areas(hurricanes)\n",
    "affected_areas_count\n"
   ]
  },
  {
   "cell_type": "markdown",
   "id": "e015eeb3",
   "metadata": {
    "pycharm": {
     "name": "#%% md\n"
    }
   },
   "source": [
    "5. Write a function that finds the area affected by the most hurricanes, and how often it was hit.\n",
    "\n",
    "   Test your function on your affected area dictionary."
   ]
  },
  {
   "cell_type": "code",
   "execution_count": 17,
   "id": "643c73f9",
   "metadata": {
    "pycharm": {
     "name": "#%%\n"
    }
   },
   "outputs": [
    {
     "name": "stdout",
     "output_type": "stream",
     "text": [
      "Central America 9\n"
     ]
    }
   ],
   "source": [
    "# 5\n",
    "# Calculating Maximum Hurricane Count\n",
    "def most_affected_area(affected_areas_count):\n",
    "\n",
    "    max_area = 'Central America'\n",
    "    max_area_count = 0\n",
    "\n",
    "    for area in affected_areas_count:\n",
    "        if affected_areas_count[area] > max_area_count:\n",
    "            max_area = area\n",
    "            max_area_count = affected_areas_count[area]\n",
    "    return max_area, max_area_count\n",
    "# find most frequently affected area and the number of hurricanes involved in\n",
    "\n",
    "max_area, max_area_count = most_affected_area(affected_areas_count)\n",
    "print(max_area, max_area_count)\n"
   ]
  },
  {
   "cell_type": "markdown",
   "id": "4c120f59",
   "metadata": {
    "pycharm": {
     "name": "#%% md\n"
    }
   },
   "source": [
    "6. Write a function that finds the hurricane that caused the greatest number of deaths, and how many deaths it caused.\n",
    "\n",
    "   Test your function on your hurricane dictionary."
   ]
  },
  {
   "cell_type": "code",
   "execution_count": 18,
   "id": "ced02448",
   "metadata": {
    "pycharm": {
     "name": "#%%\n"
    }
   },
   "outputs": [
    {
     "name": "stdout",
     "output_type": "stream",
     "text": [
      "Mitch 19325\n"
     ]
    }
   ],
   "source": [
    "# 6\n",
    "# Calculating the Deadliest Hurricane\n",
    "def highest_mortality(hurricanes):\n",
    "\n",
    "    max_mortality_hurricane = 'Central America'\n",
    "    max_mortality = 0\n",
    "\n",
    "    for hurricane in hurricanes:\n",
    "        if hurricanes[hurricane]['Deaths'] > max_mortality:\n",
    "            max_mortality_hurricane = hurricane\n",
    "            max_mortality = hurricanes[hurricane]['Deaths']\n",
    "    return max_mortality_hurricane, max_mortality\n",
    "\n",
    "# find highest mortality hurricane and the number of deaths\n",
    "max_mortality_hurricane, max_mortality = highest_mortality(hurricanes)\n",
    "print(max_mortality_hurricane, max_mortality)"
   ]
  },
  {
   "cell_type": "markdown",
   "id": "9ddd39b0",
   "metadata": {
    "pycharm": {
     "name": "#%% md\n"
    }
   },
   "source": [
    "7. Just as hurricanes are rated by their windspeed, you want to try rating hurricanes based on other metrics.\n",
    "\n",
    "   Write a function that rates hurricanes on a mortality scale according to the following ratings, where the key is the rating and the value is the upper bound of deaths for that rating.\n",
    "   \n",
    "   ```py\n",
    "   mortality_scale = {0: 0,\n",
    "   1: 100,\n",
    "   2: 500,\n",
    "   3: 1000,\n",
    "   4: 10000}\n",
    "   ```\n",
    "   \n",
    "   For example, a hurricane with a `1` mortality rating would have resulted in greater than `0` but less than or equal to `100` deaths. A hurricane with a `5` mortality would have resulted in greater than `10000` deaths.\n",
    "   \n",
    "   Store the hurricanes in a new dictionary where the keys are the mortaility ratings and the values are lists containing a dictionary for each hurricane that falls into that mortality rating.\n",
    "   \n",
    "   Test your function on your hurricane dictionary."
   ]
  },
  {
   "cell_type": "code",
   "execution_count": 22,
   "id": "9eea4dc7",
   "metadata": {
    "pycharm": {
     "name": "#%%\n"
    }
   },
   "outputs": [
    {
     "data": {
      "text/plain": "{0: [],\n 1: [{'Name': 'Cuba I',\n   'Month': 'October',\n   'Year': 1924,\n   'Max Sustained Wind': 165,\n   'Areas Affected': ['Central America',\n    'Mexico',\n    'Cuba',\n    'Florida',\n    'The Bahamas'],\n   'Damage': 'Damages not recorded',\n   'Deaths': 90},\n  {'Name': 'Bahamas',\n   'Month': 'September',\n   'Year': 1932,\n   'Max Sustained Wind': 160,\n   'Areas Affected': ['The Bahamas', 'Northeastern United States'],\n   'Damage': 'Damages not recorded',\n   'Deaths': 16},\n  {'Name': 'Carol',\n   'Month': 'September',\n   'Year': 1953,\n   'Max Sustained Wind': 160,\n   'Areas Affected': ['Bermuda', 'New England', 'Atlantic Canada'],\n   'Damage': 2000000.0,\n   'Deaths': 5},\n  {'Name': 'Carla',\n   'Month': 'September',\n   'Year': 1961,\n   'Max Sustained Wind': 175,\n   'Areas Affected': ['Texas', 'Louisiana', 'Midwestern United States'],\n   'Damage': 326000000.0,\n   'Deaths': 43},\n  {'Name': 'Edith',\n   'Month': 'September',\n   'Year': 1971,\n   'Max Sustained Wind': 160,\n   'Areas Affected': ['The Caribbean',\n    'Central America',\n    'Mexico',\n    'United States Gulf Coast'],\n   'Damage': 25400000.0,\n   'Deaths': 37},\n  {'Name': 'Anita',\n   'Month': 'September',\n   'Year': 1977,\n   'Max Sustained Wind': 175,\n   'Areas Affected': ['Mexico'],\n   'Damage': 'Damages not recorded',\n   'Deaths': 11},\n  {'Name': 'Andrew',\n   'Month': 'August',\n   'Year': 1992,\n   'Max Sustained Wind': 175,\n   'Areas Affected': ['The Bahamas', 'Florida', 'United States Gulf Coast'],\n   'Damage': 26500000000.0,\n   'Deaths': 65},\n  {'Name': 'Isabel',\n   'Month': 'September',\n   'Year': 2003,\n   'Max Sustained Wind': 165,\n   'Areas Affected': ['Greater Antilles',\n    'Bahamas',\n    'Eastern United States',\n    'Ontario'],\n   'Damage': 5370000000.0,\n   'Deaths': 51},\n  {'Name': 'Emily',\n   'Month': 'July',\n   'Year': 2005,\n   'Max Sustained Wind': 160,\n   'Areas Affected': ['Windward Islands', 'Jamaica', 'Mexico', 'Texas'],\n   'Damage': 1010000000.0,\n   'Deaths': 17},\n  {'Name': 'Wilma',\n   'Month': 'October',\n   'Year': 2005,\n   'Max Sustained Wind': 185,\n   'Areas Affected': ['Greater Antilles', 'Central America', 'Florida'],\n   'Damage': 29400000000.0,\n   'Deaths': 87},\n  {'Name': 'Dean',\n   'Month': 'August',\n   'Year': 2007,\n   'Max Sustained Wind': 175,\n   'Areas Affected': ['The Caribbean', 'Central America'],\n   'Damage': 1760000000.0,\n   'Deaths': 45},\n  {'Name': 'Michael',\n   'Month': 'October',\n   'Year': 2018,\n   'Max Sustained Wind': 160,\n   'Areas Affected': ['Central America',\n    'United States Gulf Coast (especially Florida Panhandle)'],\n   'Damage': 25100000000.0,\n   'Deaths': 74}],\n 2: [{'Name': 'CubaBrownsville',\n   'Month': 'August',\n   'Year': 1933,\n   'Max Sustained Wind': 160,\n   'Areas Affected': ['The Bahamas', 'Cuba', 'Florida', 'Texas', 'Tamaulipas'],\n   'Damage': 27900000.0,\n   'Deaths': 179},\n  {'Name': 'Tampico',\n   'Month': 'September',\n   'Year': 1933,\n   'Max Sustained Wind': 160,\n   'Areas Affected': ['Jamaica', 'Yucatn Peninsula'],\n   'Damage': 5000000.0,\n   'Deaths': 184},\n  {'Name': 'Labor Day',\n   'Month': 'September',\n   'Year': 1935,\n   'Max Sustained Wind': 185,\n   'Areas Affected': ['The Bahamas',\n    'Florida',\n    'Georgia',\n    'The Carolinas',\n    'Virginia'],\n   'Damage': 'Damages not recorded',\n   'Deaths': 408},\n  {'Name': 'Hattie',\n   'Month': 'October',\n   'Year': 1961,\n   'Max Sustained Wind': 160,\n   'Areas Affected': ['Central America'],\n   'Damage': 60300000.0,\n   'Deaths': 319},\n  {'Name': 'Camille',\n   'Month': 'August',\n   'Year': 1969,\n   'Max Sustained Wind': 175,\n   'Areas Affected': ['Cuba', 'United States Gulf Coast'],\n   'Damage': 1420000000.0,\n   'Deaths': 259},\n  {'Name': 'Allen',\n   'Month': 'August',\n   'Year': 1980,\n   'Max Sustained Wind': 190,\n   'Areas Affected': ['The Caribbean',\n    'Yucatn Peninsula',\n    'Mexico',\n    'South Texas'],\n   'Damage': 1240000000.0,\n   'Deaths': 269},\n  {'Name': 'Gilbert',\n   'Month': 'September',\n   'Year': 1988,\n   'Max Sustained Wind': 185,\n   'Areas Affected': ['Jamaica',\n    'Venezuela',\n    'Central America',\n    'Hispaniola',\n    'Mexico'],\n   'Damage': 7100000000.0,\n   'Deaths': 318},\n  {'Name': 'Hugo',\n   'Month': 'September',\n   'Year': 1989,\n   'Max Sustained Wind': 160,\n   'Areas Affected': ['The Caribbean', 'United States East Coast'],\n   'Damage': 10000000000.0,\n   'Deaths': 107},\n  {'Name': 'Ivan',\n   'Month': 'September',\n   'Year': 2004,\n   'Max Sustained Wind': 165,\n   'Areas Affected': ['The Caribbean',\n    'Venezuela',\n    'United States Gulf Coast'],\n   'Damage': 23300000000.0,\n   'Deaths': 124},\n  {'Name': 'Rita',\n   'Month': 'September',\n   'Year': 2005,\n   'Max Sustained Wind': 180,\n   'Areas Affected': ['Cuba', 'United States Gulf Coast'],\n   'Damage': 12000000000.0,\n   'Deaths': 125},\n  {'Name': 'Felix',\n   'Month': 'September',\n   'Year': 2007,\n   'Max Sustained Wind': 175,\n   'Areas Affected': ['Nicaragua', 'Honduras'],\n   'Damage': 720000000.0,\n   'Deaths': 133},\n  {'Name': 'Irma',\n   'Month': 'September',\n   'Year': 2017,\n   'Max Sustained Wind': 180,\n   'Areas Affected': ['Cape Verde',\n    'The Caribbean',\n    'British Virgin Islands',\n    'U.S. Virgin Islands',\n    'Cuba',\n    'Florida'],\n   'Damage': 64800000000.0,\n   'Deaths': 138}],\n 3: [{'Name': 'New England',\n   'Month': 'September',\n   'Year': 1938,\n   'Max Sustained Wind': 160,\n   'Areas Affected': ['Southeastern United States',\n    'Northeastern United States',\n    'Southwestern Quebec'],\n   'Damage': 306000000.0,\n   'Deaths': 682},\n  {'Name': 'Beulah',\n   'Month': 'September',\n   'Year': 1967,\n   'Max Sustained Wind': 160,\n   'Areas Affected': ['The Caribbean', 'Mexico', 'Texas'],\n   'Damage': 208000000.0,\n   'Deaths': 688},\n  {'Name': 'Matthew',\n   'Month': 'October',\n   'Year': 2016,\n   'Max Sustained Wind': 165,\n   'Areas Affected': ['Antilles',\n    'Venezuela',\n    'Colombia',\n    'United States East Coast',\n    'Atlantic Canada'],\n   'Damage': 15100000000.0,\n   'Deaths': 603}],\n 4: [{'Name': 'San Felipe II Okeechobee',\n   'Month': 'September',\n   'Year': 1928,\n   'Max Sustained Wind': 160,\n   'Areas Affected': ['Lesser Antilles',\n    'The Bahamas',\n    'United States East Coast',\n    'Atlantic Canada'],\n   'Damage': 100000000.0,\n   'Deaths': 4000},\n  {'Name': 'Cuba II',\n   'Month': 'November',\n   'Year': 1932,\n   'Max Sustained Wind': 175,\n   'Areas Affected': ['Lesser Antilles',\n    'Jamaica',\n    'Cayman Islands',\n    'Cuba',\n    'The Bahamas',\n    'Bermuda'],\n   'Damage': 40000000.0,\n   'Deaths': 3103},\n  {'Name': 'Janet',\n   'Month': 'September',\n   'Year': 1955,\n   'Max Sustained Wind': 175,\n   'Areas Affected': ['Lesser Antilles', 'Central America'],\n   'Damage': 65800000.0,\n   'Deaths': 1023},\n  {'Name': 'David',\n   'Month': 'August',\n   'Year': 1979,\n   'Max Sustained Wind': 175,\n   'Areas Affected': ['The Caribbean', 'United States East coast'],\n   'Damage': 1540000000.0,\n   'Deaths': 2068},\n  {'Name': 'Katrina',\n   'Month': 'August',\n   'Year': 2005,\n   'Max Sustained Wind': 175,\n   'Areas Affected': ['Bahamas', 'United States Gulf Coast'],\n   'Damage': 125000000000.0,\n   'Deaths': 1836},\n  {'Name': 'Maria',\n   'Month': 'September',\n   'Year': 2017,\n   'Max Sustained Wind': 175,\n   'Areas Affected': ['Lesser Antilles',\n    'Virgin Islands',\n    'Puerto Rico',\n    'Dominican Republic',\n    'Turks and Caicos Islands'],\n   'Damage': 91600000000.0,\n   'Deaths': 3057}],\n 5: [{'Name': 'Mitch',\n   'Month': 'October',\n   'Year': 1998,\n   'Max Sustained Wind': 180,\n   'Areas Affected': ['Central America', 'Yucatn Peninsula', 'South Florida'],\n   'Damage': 6200000000.0,\n   'Deaths': 19325}]}"
     },
     "execution_count": 22,
     "metadata": {},
     "output_type": "execute_result"
    }
   ],
   "source": [
    "# 7\n",
    "# Rating Hurricanes by Mortality\n",
    "def rank_by_mortality(hurricanes):\n",
    "\n",
    "    mortality_scale = {\n",
    "        0: 0,\n",
    "        1: 100,\n",
    "        2: 500,\n",
    "        3: 1000,\n",
    "        4: 10000\n",
    "    }\n",
    "\n",
    "    hurricanes_by_mortality = {0:[], 1:[], 2:[], 3:[], 4:[], 5:[]}\n",
    "\n",
    "    for hurricane in hurricanes:\n",
    "        death_count = hurricanes[hurricane]['Deaths']\n",
    "        if death_count == mortality_scale[0]:\n",
    "            hurricanes_by_mortality[0].append(hurricanes[hurricane])\n",
    "        elif death_count > mortality_scale[0] and death_count <= mortality_scale[1]:\n",
    "            hurricanes_by_mortality[1].append(hurricanes[hurricane])\n",
    "        elif death_count > mortality_scale[1] and death_count <= mortality_scale[2]:\n",
    "            hurricanes_by_mortality[2].append(hurricanes[hurricane])\n",
    "        elif death_count > mortality_scale[2] and death_count <= mortality_scale[3]:\n",
    "            hurricanes_by_mortality[3].append(hurricanes[hurricane])\n",
    "        elif death_count > mortality_scale[3] and death_count <= mortality_scale[4]:\n",
    "            hurricanes_by_mortality[4].append(hurricanes[hurricane])\n",
    "        elif death_count > mortality_scale[4]:\n",
    "            hurricanes_by_mortality[5].append(hurricanes[hurricane])\n",
    "    return hurricanes_by_mortality\n",
    "\n",
    "# categorize hurricanes in new dictionary with mortality severity as key\n",
    "hurricanes_by_mortality = rank_by_mortality(hurricanes)\n",
    "hurricanes_by_mortality"
   ]
  },
  {
   "cell_type": "markdown",
   "id": "199b0e1c",
   "metadata": {
    "pycharm": {
     "name": "#%% md\n"
    }
   },
   "source": [
    "8. Write a function that finds the hurricane that caused the greatest damage, and how costly it was.\n",
    "\n",
    "   Test your function on your hurricane dictionary."
   ]
  },
  {
   "cell_type": "code",
   "execution_count": 24,
   "id": "b3dc79b4",
   "metadata": {
    "pycharm": {
     "name": "#%%\n"
    }
   },
   "outputs": [
    {
     "name": "stdout",
     "output_type": "stream",
     "text": [
      "Katrina 125000000000.0\n"
     ]
    }
   ],
   "source": [
    "# 8\n",
    "# Calculating Hurricane Maximum Damage\n",
    "def get_maximum_damage(hurricanes):\n",
    "    max_damage_hurricane = 'Central America'\n",
    "    max_damage = 0\n",
    "\n",
    "    for hurricane in hurricanes:\n",
    "        if hurricanes[hurricane]['Damage'] == 'Damages not recorded':\n",
    "            pass\n",
    "        elif hurricanes[hurricane]['Damage'] > max_damage:\n",
    "            max_damage_hurricane = hurricane\n",
    "            max_damage = hurricanes[hurricane]['Damage']\n",
    "    return max_damage_hurricane, max_damage\n",
    "\n",
    "# find highest damage inducing hurricane and its total cost\n",
    "max_damage_hurricane, max_damage = get_maximum_damage(hurricanes)\n",
    "print(max_damage_hurricane, max_damage)"
   ]
  },
  {
   "cell_type": "markdown",
   "id": "58d22ddc",
   "metadata": {
    "pycharm": {
     "name": "#%% md\n"
    }
   },
   "source": [
    "9. Lastly, you want to rate hurricanes according to how much damage they cause.\n",
    "\n",
    "   Write a function that rates hurricanes on a damage scale according to the following ratings, where the key is the rating and the value is the upper bound of damage for that rating.\n",
    "   ```py\n",
    "   damage_scale = {0: 0,\n",
    "   1: 100000000,\n",
    "   2: 1000000000,\n",
    "   3: 10000000000,\n",
    "   4: 50000000000}\n",
    "   ```\n",
    "   \n",
    "   For example, a hurricane with a `1` damage rating would have resulted in damages greater than `0` USD but less than or equal to `100000000` USD. A hurricane with a `5` damage rating would have resulted in damages greater than `50000000000` USD (talk about a lot of money).\n",
    "   \n",
    "   Store the hurricanes in a new dictionary where the keys are damage ratings and the values are lists containing a dictionary for each hurricane that falls into that damage rating.\n",
    "   \n",
    "   Test your function on your hurricane dictionary."
   ]
  },
  {
   "cell_type": "code",
   "execution_count": 26,
   "id": "e543f487",
   "metadata": {
    "pycharm": {
     "name": "#%%\n"
    }
   },
   "outputs": [
    {
     "data": {
      "text/plain": "{0: [{'Name': 'Cuba I',\n   'Month': 'October',\n   'Year': 1924,\n   'Max Sustained Wind': 165,\n   'Areas Affected': ['Central America',\n    'Mexico',\n    'Cuba',\n    'Florida',\n    'The Bahamas'],\n   'Damage': 'Damages not recorded',\n   'Deaths': 90},\n  {'Name': 'Bahamas',\n   'Month': 'September',\n   'Year': 1932,\n   'Max Sustained Wind': 160,\n   'Areas Affected': ['The Bahamas', 'Northeastern United States'],\n   'Damage': 'Damages not recorded',\n   'Deaths': 16},\n  {'Name': 'Labor Day',\n   'Month': 'September',\n   'Year': 1935,\n   'Max Sustained Wind': 185,\n   'Areas Affected': ['The Bahamas',\n    'Florida',\n    'Georgia',\n    'The Carolinas',\n    'Virginia'],\n   'Damage': 'Damages not recorded',\n   'Deaths': 408},\n  {'Name': 'Anita',\n   'Month': 'September',\n   'Year': 1977,\n   'Max Sustained Wind': 175,\n   'Areas Affected': ['Mexico'],\n   'Damage': 'Damages not recorded',\n   'Deaths': 11}],\n 1: [{'Name': 'San Felipe II Okeechobee',\n   'Month': 'September',\n   'Year': 1928,\n   'Max Sustained Wind': 160,\n   'Areas Affected': ['Lesser Antilles',\n    'The Bahamas',\n    'United States East Coast',\n    'Atlantic Canada'],\n   'Damage': 100000000.0,\n   'Deaths': 4000},\n  {'Name': 'Cuba II',\n   'Month': 'November',\n   'Year': 1932,\n   'Max Sustained Wind': 175,\n   'Areas Affected': ['Lesser Antilles',\n    'Jamaica',\n    'Cayman Islands',\n    'Cuba',\n    'The Bahamas',\n    'Bermuda'],\n   'Damage': 40000000.0,\n   'Deaths': 3103},\n  {'Name': 'CubaBrownsville',\n   'Month': 'August',\n   'Year': 1933,\n   'Max Sustained Wind': 160,\n   'Areas Affected': ['The Bahamas', 'Cuba', 'Florida', 'Texas', 'Tamaulipas'],\n   'Damage': 27900000.0,\n   'Deaths': 179},\n  {'Name': 'Tampico',\n   'Month': 'September',\n   'Year': 1933,\n   'Max Sustained Wind': 160,\n   'Areas Affected': ['Jamaica', 'Yucatn Peninsula'],\n   'Damage': 5000000.0,\n   'Deaths': 184},\n  {'Name': 'Carol',\n   'Month': 'September',\n   'Year': 1953,\n   'Max Sustained Wind': 160,\n   'Areas Affected': ['Bermuda', 'New England', 'Atlantic Canada'],\n   'Damage': 2000000.0,\n   'Deaths': 5},\n  {'Name': 'Janet',\n   'Month': 'September',\n   'Year': 1955,\n   'Max Sustained Wind': 175,\n   'Areas Affected': ['Lesser Antilles', 'Central America'],\n   'Damage': 65800000.0,\n   'Deaths': 1023},\n  {'Name': 'Hattie',\n   'Month': 'October',\n   'Year': 1961,\n   'Max Sustained Wind': 160,\n   'Areas Affected': ['Central America'],\n   'Damage': 60300000.0,\n   'Deaths': 319},\n  {'Name': 'Edith',\n   'Month': 'September',\n   'Year': 1971,\n   'Max Sustained Wind': 160,\n   'Areas Affected': ['The Caribbean',\n    'Central America',\n    'Mexico',\n    'United States Gulf Coast'],\n   'Damage': 25400000.0,\n   'Deaths': 37}],\n 2: [{'Name': 'New England',\n   'Month': 'September',\n   'Year': 1938,\n   'Max Sustained Wind': 160,\n   'Areas Affected': ['Southeastern United States',\n    'Northeastern United States',\n    'Southwestern Quebec'],\n   'Damage': 306000000.0,\n   'Deaths': 682},\n  {'Name': 'Carla',\n   'Month': 'September',\n   'Year': 1961,\n   'Max Sustained Wind': 175,\n   'Areas Affected': ['Texas', 'Louisiana', 'Midwestern United States'],\n   'Damage': 326000000.0,\n   'Deaths': 43},\n  {'Name': 'Beulah',\n   'Month': 'September',\n   'Year': 1967,\n   'Max Sustained Wind': 160,\n   'Areas Affected': ['The Caribbean', 'Mexico', 'Texas'],\n   'Damage': 208000000.0,\n   'Deaths': 688},\n  {'Name': 'Felix',\n   'Month': 'September',\n   'Year': 2007,\n   'Max Sustained Wind': 175,\n   'Areas Affected': ['Nicaragua', 'Honduras'],\n   'Damage': 720000000.0,\n   'Deaths': 133}],\n 3: [{'Name': 'Camille',\n   'Month': 'August',\n   'Year': 1969,\n   'Max Sustained Wind': 175,\n   'Areas Affected': ['Cuba', 'United States Gulf Coast'],\n   'Damage': 1420000000.0,\n   'Deaths': 259},\n  {'Name': 'David',\n   'Month': 'August',\n   'Year': 1979,\n   'Max Sustained Wind': 175,\n   'Areas Affected': ['The Caribbean', 'United States East coast'],\n   'Damage': 1540000000.0,\n   'Deaths': 2068},\n  {'Name': 'Allen',\n   'Month': 'August',\n   'Year': 1980,\n   'Max Sustained Wind': 190,\n   'Areas Affected': ['The Caribbean',\n    'Yucatn Peninsula',\n    'Mexico',\n    'South Texas'],\n   'Damage': 1240000000.0,\n   'Deaths': 269},\n  {'Name': 'Gilbert',\n   'Month': 'September',\n   'Year': 1988,\n   'Max Sustained Wind': 185,\n   'Areas Affected': ['Jamaica',\n    'Venezuela',\n    'Central America',\n    'Hispaniola',\n    'Mexico'],\n   'Damage': 7100000000.0,\n   'Deaths': 318},\n  {'Name': 'Hugo',\n   'Month': 'September',\n   'Year': 1989,\n   'Max Sustained Wind': 160,\n   'Areas Affected': ['The Caribbean', 'United States East Coast'],\n   'Damage': 10000000000.0,\n   'Deaths': 107},\n  {'Name': 'Mitch',\n   'Month': 'October',\n   'Year': 1998,\n   'Max Sustained Wind': 180,\n   'Areas Affected': ['Central America', 'Yucatn Peninsula', 'South Florida'],\n   'Damage': 6200000000.0,\n   'Deaths': 19325},\n  {'Name': 'Isabel',\n   'Month': 'September',\n   'Year': 2003,\n   'Max Sustained Wind': 165,\n   'Areas Affected': ['Greater Antilles',\n    'Bahamas',\n    'Eastern United States',\n    'Ontario'],\n   'Damage': 5370000000.0,\n   'Deaths': 51},\n  {'Name': 'Emily',\n   'Month': 'July',\n   'Year': 2005,\n   'Max Sustained Wind': 160,\n   'Areas Affected': ['Windward Islands', 'Jamaica', 'Mexico', 'Texas'],\n   'Damage': 1010000000.0,\n   'Deaths': 17},\n  {'Name': 'Dean',\n   'Month': 'August',\n   'Year': 2007,\n   'Max Sustained Wind': 175,\n   'Areas Affected': ['The Caribbean', 'Central America'],\n   'Damage': 1760000000.0,\n   'Deaths': 45}],\n 4: [{'Name': 'Andrew',\n   'Month': 'August',\n   'Year': 1992,\n   'Max Sustained Wind': 175,\n   'Areas Affected': ['The Bahamas', 'Florida', 'United States Gulf Coast'],\n   'Damage': 26500000000.0,\n   'Deaths': 65},\n  {'Name': 'Ivan',\n   'Month': 'September',\n   'Year': 2004,\n   'Max Sustained Wind': 165,\n   'Areas Affected': ['The Caribbean',\n    'Venezuela',\n    'United States Gulf Coast'],\n   'Damage': 23300000000.0,\n   'Deaths': 124},\n  {'Name': 'Rita',\n   'Month': 'September',\n   'Year': 2005,\n   'Max Sustained Wind': 180,\n   'Areas Affected': ['Cuba', 'United States Gulf Coast'],\n   'Damage': 12000000000.0,\n   'Deaths': 125},\n  {'Name': 'Wilma',\n   'Month': 'October',\n   'Year': 2005,\n   'Max Sustained Wind': 185,\n   'Areas Affected': ['Greater Antilles', 'Central America', 'Florida'],\n   'Damage': 29400000000.0,\n   'Deaths': 87},\n  {'Name': 'Matthew',\n   'Month': 'October',\n   'Year': 2016,\n   'Max Sustained Wind': 165,\n   'Areas Affected': ['Antilles',\n    'Venezuela',\n    'Colombia',\n    'United States East Coast',\n    'Atlantic Canada'],\n   'Damage': 15100000000.0,\n   'Deaths': 603},\n  {'Name': 'Michael',\n   'Month': 'October',\n   'Year': 2018,\n   'Max Sustained Wind': 160,\n   'Areas Affected': ['Central America',\n    'United States Gulf Coast (especially Florida Panhandle)'],\n   'Damage': 25100000000.0,\n   'Deaths': 74}],\n 5: [{'Name': 'Katrina',\n   'Month': 'August',\n   'Year': 2005,\n   'Max Sustained Wind': 175,\n   'Areas Affected': ['Bahamas', 'United States Gulf Coast'],\n   'Damage': 125000000000.0,\n   'Deaths': 1836},\n  {'Name': 'Irma',\n   'Month': 'September',\n   'Year': 2017,\n   'Max Sustained Wind': 180,\n   'Areas Affected': ['Cape Verde',\n    'The Caribbean',\n    'British Virgin Islands',\n    'U.S. Virgin Islands',\n    'Cuba',\n    'Florida'],\n   'Damage': 64800000000.0,\n   'Deaths': 138},\n  {'Name': 'Maria',\n   'Month': 'September',\n   'Year': 2017,\n   'Max Sustained Wind': 175,\n   'Areas Affected': ['Lesser Antilles',\n    'Virgin Islands',\n    'Puerto Rico',\n    'Dominican Republic',\n    'Turks and Caicos Islands'],\n   'Damage': 91600000000.0,\n   'Deaths': 3057}]}"
     },
     "execution_count": 26,
     "metadata": {},
     "output_type": "execute_result"
    }
   ],
   "source": [
    "# 9\n",
    "# Rating Hurricanes by Damage\n",
    "def rank_by_damage(hurricanes):\n",
    "    damage_scale = {0: 0,\n",
    "                1: 100000000,\n",
    "                2: 1000000000,\n",
    "                3: 10000000000,\n",
    "                4: 50000000000}\n",
    "\n",
    "    hurricanes_by_damage = { 0:[], 1:[], 2:[], 3:[], 4:[], 5:[]}\n",
    "\n",
    "    for hurricane in hurricanes:\n",
    "        total_damage = hurricanes[hurricane]['Damage']\n",
    "        if total_damage == 'Damages not recorded':\n",
    "            hurricanes_by_damage[0].append(hurricanes[hurricane])\n",
    "        elif total_damage > damage_scale[0] and total_damage <= damage_scale[1]:\n",
    "            hurricanes_by_damage[1].append(hurricanes[hurricane])\n",
    "        elif total_damage > damage_scale[1] and total_damage <= damage_scale[2]:\n",
    "            hurricanes_by_damage[2].append(hurricanes[hurricane])\n",
    "        elif total_damage > damage_scale[2] and total_damage <= damage_scale[3]:\n",
    "            hurricanes_by_damage[3].append(hurricanes[hurricane])\n",
    "        elif total_damage > damage_scale[3] and total_damage <= damage_scale[4]:\n",
    "            hurricanes_by_damage[4].append(hurricanes[hurricane])\n",
    "        elif total_damage > damage_scale[4]:\n",
    "            hurricanes_by_damage[5].append(hurricanes[hurricane])\n",
    "    return hurricanes_by_damage\n",
    "# categorize hurricanes in new dictionary with damage severity as key\n",
    "hurricanes_by_damage = rank_by_damage(hurricanes)\n",
    "hurricanes_by_damage\n"
   ]
  },
  {
   "cell_type": "markdown",
   "id": "928c5fd2",
   "metadata": {
    "pycharm": {
     "name": "#%% md\n"
    }
   },
   "source": [
    "## Solution"
   ]
  },
  {
   "cell_type": "markdown",
   "id": "252616a3",
   "metadata": {
    "pycharm": {
     "name": "#%% md\n"
    }
   },
   "source": [
    "Great work! View the **Hurricane Analysis_Solution.ipynb** file or visit [our forums](https://discuss.codecademy.com/t/hurricane-analysis-challenge-project-python/462363) to compare your project to our sample solution code. You can also learn how to host your own solution on GitHub so you can share it with other learners! Your solution might look different than ours, and that's okay! There are multiple ways to solve these projects, and you'll learn more by seeing others' code."
   ]
  },
  {
   "cell_type": "code",
   "execution_count": 21,
   "id": "da8f7141",
   "metadata": {
    "pycharm": {
     "name": "#%%\n"
    }
   },
   "outputs": [],
   "source": []
  }
 ],
 "metadata": {
  "kernelspec": {
   "display_name": "Python 3 (ipykernel)",
   "language": "python",
   "name": "python3"
  },
  "language_info": {
   "codemirror_mode": {
    "name": "ipython",
    "version": 3
   },
   "file_extension": ".py",
   "mimetype": "text/x-python",
   "name": "python",
   "nbconvert_exporter": "python",
   "pygments_lexer": "ipython3",
   "version": "3.7.11"
  }
 },
 "nbformat": 4,
 "nbformat_minor": 5
}