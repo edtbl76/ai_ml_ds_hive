{
 "cells": [
  {
   "cell_type": "markdown",
   "metadata": {
    "pycharm": {
     "name": "#%% md\n"
    }
   },
   "source": [
    "# This is Jeopardy!"
   ]
  },
  {
   "cell_type": "markdown",
   "metadata": {
    "pycharm": {
     "name": "#%% md\n"
    }
   },
   "source": [
    "#### Overview"
   ]
  },
  {
   "cell_type": "markdown",
   "metadata": {
    "pycharm": {
     "name": "#%% md\n"
    }
   },
   "source": [
    "This project is slightly different than others you have encountered thus far. Instead of a step-by-step tutorial, this project contains a series of open-ended requirements which describe the project you'll be building. There are many possible ways to correctly fulfill all of these requirements, and you should expect to use the internet, Codecademy, and/or other resources when you encounter a problem that you cannot easily solve."
   ]
  },
  {
   "cell_type": "markdown",
   "metadata": {
    "pycharm": {
     "name": "#%% md\n"
    }
   },
   "source": [
    "#### Project Goals"
   ]
  },
  {
   "cell_type": "markdown",
   "metadata": {
    "pycharm": {
     "name": "#%% md\n"
    }
   },
   "source": [
    "You will work to write several functions that investigate a dataset of _Jeopardy!_ questions and answers. Filter the dataset for topics that you're interested in, compute the average difficulty of those questions, and train to become the next Jeopardy champion!"
   ]
  },
  {
   "cell_type": "markdown",
   "metadata": {
    "pycharm": {
     "name": "#%% md\n"
    }
   },
   "source": [
    "## Prerequisites"
   ]
  },
  {
   "cell_type": "markdown",
   "metadata": {
    "pycharm": {
     "name": "#%% md\n"
    }
   },
   "source": [
    "In order to complete this project, you should have completed the Pandas lessons in the <a href=\"https://www.codecademy.com/learn/paths/analyze-data-with-python\">Analyze Data with Python Skill Path</a>. You can also find those lessons in the <a href=\"https://www.codecademy.com/learn/data-processing-pandas\">Data Analysis with Pandas course</a> or the <a href=\"https://www.codecademy.com/learn/paths/data-science/\">Data Scientist Career Path</a>.\n",
    "\n",
    "Finally, the <a href=\"https://www.codecademy.com/learn/practical-data-cleaning\">Practical Data Cleaning</a> course may also be helpful."
   ]
  },
  {
   "cell_type": "markdown",
   "metadata": {
    "pycharm": {
     "name": "#%% md\n"
    }
   },
   "source": [
    "## Project Requirements"
   ]
  },
  {
   "cell_type": "markdown",
   "metadata": {
    "pycharm": {
     "name": "#%% md\n"
    }
   },
   "source": [
    "1. We've provided a csv file containing data about the game show _Jeopardy!_ in a file named `jeopardy.csv`. Load the data into a DataFrame and investigate its contents. Try to print out specific columns.\n",
    "\n",
    "   Note that in order to make this project as \"real-world\" as possible, we haven't modified the data at all - we're giving it to you exactly how we found it. As a result, this data isn't as \"clean\" as the datasets you normally find on Codecademy. More specifically, there's something odd about the column names. After you figure out the problem with the column names, you may want to rename them to make your life easier for the rest of the project.\n",
    "   \n",
    "   In order to display the full contents of a column, we've added this line of code for you:\n",
    "   \n",
    "   ```py\n",
    "   pd.set_option('display.max_colwidth', None)\n",
    "   ```"
   ]
  },
  {
   "cell_type": "code",
   "execution_count": 2,
   "metadata": {
    "pycharm": {
     "name": "#%%\n"
    }
   },
   "outputs": [
    {
     "data": {
      "text/plain": "Index(['Show Number', ' Air Date', ' Round', ' Category', ' Value',\n       ' Question', ' Answer'],\n      dtype='object')"
     },
     "execution_count": 2,
     "metadata": {},
     "output_type": "execute_result"
    }
   ],
   "source": [
    "import pandas as pd\n",
    "pd.set_option('display.max_colwidth', None)\n",
    "\n",
    "jeopardy_data = pd.read_csv('jeopardy.csv')\n",
    "jeopardy_data.columns"
   ]
  },
  {
   "cell_type": "code",
   "execution_count": 9,
   "outputs": [
    {
     "data": {
      "text/plain": "Index(['Show Number', 'Air Date', 'Round', 'Category', 'Value', 'Question',\n       'Answer'],\n      dtype='object')"
     },
     "execution_count": 9,
     "metadata": {},
     "output_type": "execute_result"
    }
   ],
   "source": [
    "jeopardy_data = jeopardy_data.rename(\n",
    "    columns={\n",
    "        ' Air Date': 'Air Date',\n",
    "        ' Round': 'Round',\n",
    "        ' Category': 'Category',\n",
    "        ' Value': 'Value',\n",
    "        ' Question': 'Question',\n",
    "        ' Answer': 'Answer'\n",
    "    }\n",
    ")\n",
    "jeopardy_data.columns"
   ],
   "metadata": {
    "collapsed": false,
    "pycharm": {
     "name": "#%%\n"
    }
   }
  },
  {
   "cell_type": "code",
   "execution_count": 10,
   "outputs": [
    {
     "data": {
      "text/plain": "0                               For the last 8 years of his life, Galileo was under house arrest for espousing this man's theory\n1                    No. 2: 1912 Olympian; football star at Carlisle Indian School; 6 MLB seasons with the Reds, Giants & Braves\n2                                       The city of Yuma in this state has a record average of 4,055 hours of sunshine each year\n3                                           In 1963, live on \"The Art Linkletter Show\", this company served its billionth burger\n4                       Signer of the Dec. of Indep., framer of the Constitution of Mass., second President of the United States\n                                                                   ...                                                          \n216925                                                This Puccini opera turns on the solution to 3 riddles posed by the heroine\n216926                   In North America this term is properly applied to only 4 species that are crested, including the tufted\n216927                 In Penny Lane, where this \"Hellraiser\" grew up, the barber shaves another customer--then flays him alive!\n216928    From Ft. Sill, Okla. he made the plea, Arizona is my land, my home, my father's land, to which I now ask to... return\"\n216929                   A silent movie title includes the last name of this 18th c. statesman & favorite of Catherine the Great\nName: Question, Length: 216930, dtype: object"
     },
     "execution_count": 10,
     "metadata": {},
     "output_type": "execute_result"
    }
   ],
   "source": [
    "jeopardy_data['Question']"
   ],
   "metadata": {
    "collapsed": false,
    "pycharm": {
     "name": "#%%\n"
    }
   }
  },
  {
   "cell_type": "markdown",
   "metadata": {
    "pycharm": {
     "name": "#%% md\n"
    }
   },
   "source": [
    "2. Write a function that filters the dataset for questions that contains all of the words in a list of words. For example, when the list `[\"King\", \"England\"]` was passed to our function, the function returned a DataFrame of 49 rows. Every row had the strings `\"King\"` and `\"England\"` somewhere in its `\" Question\"`.\n",
    "\n",
    "   Test your function by printing out the column containing the question of each row of the dataset."
   ]
  },
  {
   "cell_type": "code",
   "execution_count": 11,
   "metadata": {
    "pycharm": {
     "name": "#%%\n"
    }
   },
   "outputs": [
    {
     "data": {
      "text/plain": "4953                                                                                                                                                                                                                                                                      Both England's King George V & FDR put their stamp of approval on this \"King of Hobbies\"\n14912                                                                                                                                                                                                                                                            This country's King Louis IV was nicknamed \"Louis From Overseas\" because he was raised in England\n21511                                                                                                                                                                                                                                                                                 this man and his son ruled England following the execution of King Charles I\n23810                                                                                                                                                                                                                                                         William the Conqueror was crowned King of England in Westminster Abbey on Christmas Day in this year\n27555                                                                                                                                                                                                                                                                           This member of the Medici family was the mother-in-law of England's King Charles I\n33294                 (Sarah of the Clue Crew delivers the clue from the Bayeux Cathedral in France.)  Despite taking an oath to assure another succession, Harold is crowned King of England; the tapestry indicated it was <a href=\"http://www.j-archive.com/media/2008-12-18_J_08.jpg\" target=\"_blank\">Stigant</a>, this archbishop, who performed the ceremony\n41148                                                                                                                                                                                                                                    This French king recognized William of Orange as William II, King of England, under the terms of 1697's Treaty of Ryswick\n41357                                                                                                                                                                                                                                                     England's King Henry VIII had 3 wives named Catherine:  Catherine Howard, Catherine of Aragon & this one\n43122                                                                                                                                                                                                                                                                                                                       The father of England's King Edward VI\n47814                                                                                                                                                                                                                                                                                                   This steak sauce was created for King George IV of England\n49994                                                                                                                                                                                                                                                                       Elizabeth I's half-brother, he reigned before her as King of England from 1547 to 1553\n51115                                                                                                                  (<a href=\"http://www.j-archive.com/media/2000-03-02_J_22.jpg\" target=\"_blank\">Alex Trebek reads from England.</a>)  In 1214 barons fed up with King John met at the abbey whose ruins we see here; the result a year later was this charter\n51565                                                                                                                                                                                                                                                 He wrote several anthems, including \"The King Shall Rejoice\", for the coronation of England's King George II\n56600                                                                                                                                                                                                                                                              This city known for its 24-hour auto race was the birthplace of England's King Henry II in 1133\n57516                                                                                                                                                                                                                                                                                         Famous (& rather insulting) adjective for England's King Ethelred II\n58949                                                                                                                                                                                                                                                                        He became King of England in 1399 after forcing his cousin Richard II from the throne\n71808                                                                                                                                                                                                                                                                                      Number of the William who was England's \"Sailor King\" from 1830 to 1837\n74235                                                                                                                                                                                                                                                                     Barons & churchmen drew up this 1215 document to reduce the power of England's King John\n77195                                                                                                                                                                                                                                                          He became King of England on June 26, 1483; just over 2 years later he was killed at Bosworth Field\n79457                                                                                                                                                                                                                                              On Christmas Day 1066, he was crowned King of England, 72 days after defeating Harold at the Battle of Hastings\n80113                                                                                                                                                                                                                                                                                                England's King Charles II was known by this \"jovial\" nickname\n84639                                                                                                                                                                                                                                                                            He went from second banana on \"Roseanne\" to top banana of England in \"King Ralph\"\n86412                                                                                                                                                                                                                                                                         This country's King Olaf V was born in England & was the grandson of King Edward VII\n89710                                                                                                                                                                                                                                                            This 11th Century King of England also ruled Denmark & Norway during the latter part of his reign\n111926                                                                                                                                                                                                                                                   It begins \"John, by the grace of God, King of England, Lord of Ireland, Duke of Normandy & Aquitaine....\"\n118809                                                                                                                                                                                                                                                                                            In French this King of England is called Guillaume le Conquerant\n123299                                                                                                                                                                                                                                                                     If you want to be crowned King of England, this rock has to be in your coronation chair\n123671                                                                                                                                                                                                                                                                                                                              King Henry VII of England dies\n125822                                                                                                                                                                                                                                                                                              Famous nickname of the eldest son of England's King Edward III\n127484                                                                                                                                                                                                                                                                Ethelred the Unready managed to lose most of England to King Sweyn Forkbeard of this country\n127758                                                                                                                                                                                                                                                                                  This state was named for the King of England who reigned from 1727 to 1760\n129106                                                                                                                                                                                                                                                              King Edward I of England, who fought William Wallace, had this nickname relating to his height\n130208                                                                                                                                                                                                                                                                                    This \"Sun King\" sniffed, \"England is a little garden full of sour weeds\"\n137818                                                                                                                                                                                                                                                                                        The last King William to rule England had this number after his name\n143434                                                                                                                                                                                                                                                                This Flemish artist painted a unique triple portrait of England's King Charles I around 1637\n150880                                                                                                                                                                                                                                                                                       During Stanley Baldwin's term as P.M., this King of England abdicated\n165110                                                                                                                                                                                                                                                        The 1st commoner to rule England, he became lord protector following the overthrow of King Charles I\n165197                                                                                                                                                                                                                                                       The \"Angel of Hadley\" is said to have saved a New England town during the war with this Indian \"King\"\n170007                                                                                                                                                                                                                                                                In the 1697 Treaty of Rijswijk, the French recognized this Dutch-born man as King of England\n174055                                                                                                                                                                                                                                                                                            This conqueror was crowned King of England on Christmas Day 1066\n175259                                                                                                                                                                                                                                                                                                          His short reign as King of England fell in in 1936\n183462                                                                                                                                                                                                                                                            A capital in the West Indies is named for this family name of William of Orange, King of England\n186239                                                                                                                                                                                                                                           He was King of England from 1189 to 1199 but spent only 6 months there; the rest of the time, he was off fighting\n187651                                                                                                                                                                                                                                                                     This Bahamian capital took its name from the family name of King William III of England\n191579                                                                                                                                                                                                                                                                             England's King Harold II lost the all-important Battle of Hastings in this year\n192265    (<a href=\"http://www.j-archive.com/media/2012-01-17_DJ_25.jpg\" target=\"_blank\">Sarah of the Clue Crew stands in front of the Royal Palace in Oslo, Norway.</a>) King Harald V lives here, in Norway's Royal Palace. He and his second cousin, England's Queen Elizabeth, are both great-grandchildren of this British king, who ruled from 1901 to 1910.\n192966                                                                                                                                                                                                                                                                                                                          England's King _____ _____ R. Luce\n194516                                                                                                                                                                                                                                                            The \"Monty Python\" member who played King Arthur, he ended his grail quest in Maidstone, England\n200369                                                                                                                                                                                                                                             8th C. King Offa built a 170-mile north-south dike that still partly marks the border of England & this country\nName: Question, dtype: object"
     },
     "execution_count": 11,
     "metadata": {},
     "output_type": "execute_result"
    }
   ],
   "source": [
    "def filter_data(data, words):\n",
    "    filter = lambda x: all(word in x for word in words)\n",
    "    return data.loc[data['Question'].apply(filter)]\n",
    "\n",
    "filtered = filter_data(jeopardy_data, ['King', 'England'])\n",
    "filtered['Question']"
   ]
  },
  {
   "cell_type": "markdown",
   "metadata": {
    "pycharm": {
     "name": "#%% md\n"
    }
   },
   "source": [
    "3. Test your original function with a few different sets of words to try to find some ways your function breaks. Edit your function so it is more robust.\n",
    "\n",
    "   For example, think about capitalization. We probably want to find questions that contain the word `\"King\"` or `\"king\"`.\n",
    "   \n",
    "   You may also want to check to make sure you don't find rows that contain substrings of your given words. For example, our function found a question that didn't contain the word `\"king\"`, however it did contain the word `\"viking\"` &mdash; it found the `\"king\"` inside `\"viking\"`. Note that this also comes with some drawbacks &mdash; you would no longer find questions that contained words like `\"England's\"`."
   ]
  },
  {
   "cell_type": "code",
   "execution_count": null,
   "metadata": {
    "pycharm": {
     "name": "#%%\n"
    }
   },
   "outputs": [],
   "source": []
  },
  {
   "cell_type": "markdown",
   "metadata": {
    "pycharm": {
     "name": "#%% md\n"
    }
   },
   "source": [
    "4. We may want to eventually compute aggregate statistics, like `.mean()` on the `\" Value\"` column. But right now, the values in that column are strings. Convert the`\" Value\"` column to floats. If you'd like to, you can create a new column with float values.\n",
    "\n",
    "   Now that you can filter the dataset of question, use your new column that contains the float values of each question to find the \"difficulty\" of certain topics. For example, what is the average value of questions that contain the word `\"King\"`?\n",
    "   \n",
    "   Make sure to use the dataset that contains the float values as the dataset you use in your filtering function."
   ]
  },
  {
   "cell_type": "code",
   "execution_count": null,
   "metadata": {
    "pycharm": {
     "name": "#%%\n"
    }
   },
   "outputs": [],
   "source": []
  },
  {
   "cell_type": "markdown",
   "metadata": {
    "pycharm": {
     "name": "#%% md\n"
    }
   },
   "source": [
    "5. Write a function that returns the count of unique answers to all of the questions in a dataset. For example, after filtering the entire dataset to only questions containing the word `\"King\"`, we could then find all of the unique answers to those questions. The answer \"Henry VIII\" appeared 55 times and was the most common answer."
   ]
  },
  {
   "cell_type": "code",
   "execution_count": null,
   "metadata": {
    "pycharm": {
     "name": "#%%\n"
    }
   },
   "outputs": [],
   "source": []
  },
  {
   "cell_type": "markdown",
   "metadata": {
    "pycharm": {
     "name": "#%% md\n"
    }
   },
   "source": [
    "6. Explore from here! This is an incredibly rich dataset, and there are so many interesting things to discover. There are a few columns that we haven't even started looking at yet. Here are some ideas on ways to continue working with this data:\n",
    "\n",
    " * Investigate the ways in which questions change over time by filtering by the date. How many questions from the 90s use the word `\"Computer\"` compared to questions from the 2000s?\n",
    " * Is there a connection between the round and the category? Are you more likely to find certain categories, like `\"Literature\"` in Single Jeopardy or Double Jeopardy?\n",
    " * Build a system to quiz yourself. Grab random questions, and use the <a href=\"https://docs.python.org/3/library/functions.html#input\">input</a> function to get a response from the user. Check to see if that response was right or wrong."
   ]
  },
  {
   "cell_type": "code",
   "execution_count": null,
   "metadata": {
    "pycharm": {
     "name": "#%%\n"
    }
   },
   "outputs": [],
   "source": []
  },
  {
   "cell_type": "markdown",
   "metadata": {
    "pycharm": {
     "name": "#%% md\n"
    }
   },
   "source": [
    "## Solution"
   ]
  },
  {
   "cell_type": "markdown",
   "metadata": {
    "pycharm": {
     "name": "#%% md\n"
    }
   },
   "source": [
    "7. Compare your program to our <a href=\"https://content.codecademy.com/PRO/independent-practice-projects/jeopardy/jeopardy_solution.zip\">sample solution code</a> - remember, that your program might look different from ours (and probably will) and that's okay!"
   ]
  },
  {
   "cell_type": "markdown",
   "metadata": {
    "pycharm": {
     "name": "#%% md\n"
    }
   },
   "source": [
    "8. Great work! Visit <a href=\"https://discuss.codecademy.com/t/this-is-jeopardy-challenge-project-python-pandas/462365\">our forums</a> to compare your project to our sample solution code. You can also learn how to host your own solution on GitHub so you can share it with other learners! Your solution might look different from ours, and that's okay! There are multiple ways to solve these projects, and you'll learn more by seeing others' code."
   ]
  },
  {
   "cell_type": "code",
   "execution_count": null,
   "metadata": {
    "pycharm": {
     "name": "#%%\n"
    }
   },
   "outputs": [],
   "source": []
  }
 ],
 "metadata": {
  "kernelspec": {
   "display_name": "Python 3 (ipykernel)",
   "language": "python",
   "name": "python3"
  },
  "language_info": {
   "codemirror_mode": {
    "name": "ipython",
    "version": 3
   },
   "file_extension": ".py",
   "mimetype": "text/x-python",
   "name": "python",
   "nbconvert_exporter": "python",
   "pygments_lexer": "ipython3",
   "version": "3.7.11"
  }
 },
 "nbformat": 4,
 "nbformat_minor": 2
}