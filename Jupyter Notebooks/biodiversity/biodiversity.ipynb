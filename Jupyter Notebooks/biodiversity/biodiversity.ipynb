{
 "cells": [
  {
   "cell_type": "markdown",
   "metadata": {
    "pycharm": {
     "name": "#%% md\n"
    }
   },
   "source": [
    "# Capstone 2: Biodiversity Project"
   ]
  },
  {
   "cell_type": "markdown",
   "metadata": {
    "pycharm": {
     "name": "#%% md\n"
    }
   },
   "source": [
    "# Introduction\n",
    "You are a biodiversity analyst working for the National Parks Service.  You're going to help them analyze some data about species at various national parks.\n",
    "\n",
    "Note: The data that you'll be working with for this project is *inspired* by real data, but is mostly fictional."
   ]
  },
  {
   "cell_type": "markdown",
   "metadata": {
    "pycharm": {
     "name": "#%% md\n"
    }
   },
   "source": [
    "# Step 1\n",
    "Import the modules that you'll be using in this assignment:\n",
    "- `from matplotlib import pyplot as plt`\n",
    "- `import pandas as pd`"
   ]
  },
  {
   "cell_type": "code",
   "execution_count": 1,
   "metadata": {
    "collapsed": true,
    "pycharm": {
     "name": "#%%\n"
    }
   },
   "outputs": [],
   "source": [
    "from matplotlib import pyplot as plt\n",
    "import pandas as pd"
   ]
  },
  {
   "cell_type": "markdown",
   "metadata": {
    "pycharm": {
     "name": "#%% md\n"
    }
   },
   "source": [
    "# Step 2\n",
    "You have been given two CSV files. `species_info.csv` with data about different species in our National Parks, including:\n",
    "- The scientific name of each species\n",
    "- The common names of each species\n",
    "- The species conservation status\n",
    "\n",
    "Load the dataset and inspect it:\n",
    "- Load `species_info.csv` into a DataFrame called `species`"
   ]
  },
  {
   "cell_type": "code",
   "execution_count": 2,
   "metadata": {
    "collapsed": true,
    "pycharm": {
     "name": "#%%\n"
    }
   },
   "outputs": [],
   "source": [
    "species = pd.read_csv('species_info.csv')"
   ]
  },
  {
   "cell_type": "markdown",
   "metadata": {
    "pycharm": {
     "name": "#%% md\n"
    }
   },
   "source": [
    "Inspect each DataFrame using `.head()`."
   ]
  },
  {
   "cell_type": "code",
   "execution_count": 3,
   "metadata": {
    "collapsed": true,
    "pycharm": {
     "name": "#%%\n"
    }
   },
   "outputs": [
    {
     "data": {
      "text/plain": "  category                scientific_name  \\\n0   Mammal  Clethrionomys gapperi gapperi   \n1   Mammal                      Bos bison   \n2   Mammal                     Bos taurus   \n3   Mammal                     Ovis aries   \n4   Mammal                 Cervus elaphus   \n\n                                        common_names conservation_status  \n0                           Gapper's Red-Backed Vole                 NaN  \n1                              American Bison, Bison                 NaN  \n2  Aurochs, Aurochs, Domestic Cattle (Feral), Dom...                 NaN  \n3  Domestic Sheep, Mouflon, Red Sheep, Sheep (Feral)                 NaN  \n4                                      Wapiti Or Elk                 NaN  ",
      "text/html": "<div>\n<style scoped>\n    .dataframe tbody tr th:only-of-type {\n        vertical-align: middle;\n    }\n\n    .dataframe tbody tr th {\n        vertical-align: top;\n    }\n\n    .dataframe thead th {\n        text-align: right;\n    }\n</style>\n<table border=\"1\" class=\"dataframe\">\n  <thead>\n    <tr style=\"text-align: right;\">\n      <th></th>\n      <th>category</th>\n      <th>scientific_name</th>\n      <th>common_names</th>\n      <th>conservation_status</th>\n    </tr>\n  </thead>\n  <tbody>\n    <tr>\n      <th>0</th>\n      <td>Mammal</td>\n      <td>Clethrionomys gapperi gapperi</td>\n      <td>Gapper's Red-Backed Vole</td>\n      <td>NaN</td>\n    </tr>\n    <tr>\n      <th>1</th>\n      <td>Mammal</td>\n      <td>Bos bison</td>\n      <td>American Bison, Bison</td>\n      <td>NaN</td>\n    </tr>\n    <tr>\n      <th>2</th>\n      <td>Mammal</td>\n      <td>Bos taurus</td>\n      <td>Aurochs, Aurochs, Domestic Cattle (Feral), Dom...</td>\n      <td>NaN</td>\n    </tr>\n    <tr>\n      <th>3</th>\n      <td>Mammal</td>\n      <td>Ovis aries</td>\n      <td>Domestic Sheep, Mouflon, Red Sheep, Sheep (Feral)</td>\n      <td>NaN</td>\n    </tr>\n    <tr>\n      <th>4</th>\n      <td>Mammal</td>\n      <td>Cervus elaphus</td>\n      <td>Wapiti Or Elk</td>\n      <td>NaN</td>\n    </tr>\n  </tbody>\n</table>\n</div>"
     },
     "execution_count": 3,
     "metadata": {},
     "output_type": "execute_result"
    }
   ],
   "source": [
    "species.head()"
   ]
  },
  {
   "cell_type": "markdown",
   "metadata": {
    "pycharm": {
     "name": "#%% md\n"
    }
   },
   "source": [
    "# Step 3\n",
    "Let's start by learning a bit more about our data.  Answer each of the following questions."
   ]
  },
  {
   "cell_type": "markdown",
   "metadata": {
    "pycharm": {
     "name": "#%% md\n"
    }
   },
   "source": [
    "How many different species are in the `species` DataFrame?"
   ]
  },
  {
   "cell_type": "code",
   "execution_count": 4,
   "metadata": {
    "collapsed": true,
    "pycharm": {
     "name": "#%%\n"
    }
   },
   "outputs": [
    {
     "data": {
      "text/plain": "5541"
     },
     "execution_count": 4,
     "metadata": {},
     "output_type": "execute_result"
    }
   ],
   "source": [
    "species.scientific_name.nunique()"
   ]
  },
  {
   "cell_type": "markdown",
   "metadata": {
    "pycharm": {
     "name": "#%% md\n"
    }
   },
   "source": [
    "What are the different values of `category` in `species`?"
   ]
  },
  {
   "cell_type": "code",
   "execution_count": 7,
   "metadata": {
    "collapsed": true,
    "pycharm": {
     "name": "#%%\n"
    }
   },
   "outputs": [
    {
     "data": {
      "text/plain": "array(['Mammal', 'Bird', 'Reptile', 'Amphibian', 'Fish', 'Vascular Plant',\n       'Nonvascular Plant'], dtype=object)"
     },
     "execution_count": 7,
     "metadata": {},
     "output_type": "execute_result"
    }
   ],
   "source": [
    "species.category.unique()"
   ]
  },
  {
   "cell_type": "markdown",
   "metadata": {
    "pycharm": {
     "name": "#%% md\n"
    }
   },
   "source": [
    "What are the different values of `conservation_status`?"
   ]
  },
  {
   "cell_type": "code",
   "execution_count": 9,
   "metadata": {
    "collapsed": true,
    "pycharm": {
     "name": "#%%\n"
    }
   },
   "outputs": [
    {
     "data": {
      "text/plain": "array([nan, 'Species of Concern', 'Endangered', 'Threatened',\n       'In Recovery'], dtype=object)"
     },
     "execution_count": 9,
     "metadata": {},
     "output_type": "execute_result"
    }
   ],
   "source": [
    "species.conservation_status.unique()"
   ]
  },
  {
   "cell_type": "markdown",
   "metadata": {
    "pycharm": {
     "name": "#%% md\n"
    }
   },
   "source": [
    "# Step 4\n",
    "Let's start doing some analysis!\n",
    "\n",
    "The column `conservation_status` has several possible values:\n",
    "- `Species of Concern`: declining or appear to be in need of conservation\n",
    "- `Threatened`: vulnerable to endangerment in the near future\n",
    "- `Endangered`: seriously at risk of extinction\n",
    "- `In Recovery`: formerly `Endangered`, but currnetly neither in danger of extinction throughout all or a significant portion of its range\n",
    "\n",
    "We'd like to count up how many species meet each of these criteria.  Use `groupby` to count how many `scientific_name` meet each of these criteria."
   ]
  },
  {
   "cell_type": "code",
   "execution_count": 11,
   "metadata": {
    "collapsed": true,
    "pycharm": {
     "name": "#%%\n"
    }
   },
   "outputs": [
    {
     "data": {
      "text/plain": "  conservation_status  scientific_name\n0          Endangered               15\n1         In Recovery                4\n2  Species of Concern              151\n3          Threatened               10",
      "text/html": "<div>\n<style scoped>\n    .dataframe tbody tr th:only-of-type {\n        vertical-align: middle;\n    }\n\n    .dataframe tbody tr th {\n        vertical-align: top;\n    }\n\n    .dataframe thead th {\n        text-align: right;\n    }\n</style>\n<table border=\"1\" class=\"dataframe\">\n  <thead>\n    <tr style=\"text-align: right;\">\n      <th></th>\n      <th>conservation_status</th>\n      <th>scientific_name</th>\n    </tr>\n  </thead>\n  <tbody>\n    <tr>\n      <th>0</th>\n      <td>Endangered</td>\n      <td>15</td>\n    </tr>\n    <tr>\n      <th>1</th>\n      <td>In Recovery</td>\n      <td>4</td>\n    </tr>\n    <tr>\n      <th>2</th>\n      <td>Species of Concern</td>\n      <td>151</td>\n    </tr>\n    <tr>\n      <th>3</th>\n      <td>Threatened</td>\n      <td>10</td>\n    </tr>\n  </tbody>\n</table>\n</div>"
     },
     "execution_count": 11,
     "metadata": {},
     "output_type": "execute_result"
    }
   ],
   "source": [
    "species.groupby('conservation_status').scientific_name.nunique().reset_index()\n"
   ]
  },
  {
   "cell_type": "markdown",
   "metadata": {
    "pycharm": {
     "name": "#%% md\n"
    }
   },
   "source": [
    "As we saw before, there are far more than 200 species in the `species` table.  Clearly, only a small number of them are categorized as needing some sort of protection.  The rest have `conservation_status` equal to `None`.  Because `groupby` does not include `None`, we will need to fill in the null values.  We can do this using `.fillna`.  We pass in however we want to fill in our `None` values as an argument.\n",
    "\n",
    "Paste the following code and run it to see replace `None` with `No Intervention`:\n",
    "```python\n",
    "species.fillna('No Intervention', inplace=True)\n",
    "```"
   ]
  },
  {
   "cell_type": "code",
   "execution_count": 12,
   "metadata": {
    "collapsed": true,
    "pycharm": {
     "name": "#%%\n"
    }
   },
   "outputs": [],
   "source": [
    "species.fillna('No Intervention', inplace=True)"
   ]
  },
  {
   "cell_type": "markdown",
   "metadata": {
    "pycharm": {
     "name": "#%% md\n"
    }
   },
   "source": [
    "Great! Now run the same `groupby` as before to see how many species require `No Intervention`."
   ]
  },
  {
   "cell_type": "code",
   "execution_count": 13,
   "metadata": {
    "collapsed": true,
    "pycharm": {
     "name": "#%%\n"
    }
   },
   "outputs": [
    {
     "data": {
      "text/plain": "  conservation_status  scientific_name\n0          Endangered               15\n1         In Recovery                4\n2     No Intervention             5363\n3  Species of Concern              151\n4          Threatened               10",
      "text/html": "<div>\n<style scoped>\n    .dataframe tbody tr th:only-of-type {\n        vertical-align: middle;\n    }\n\n    .dataframe tbody tr th {\n        vertical-align: top;\n    }\n\n    .dataframe thead th {\n        text-align: right;\n    }\n</style>\n<table border=\"1\" class=\"dataframe\">\n  <thead>\n    <tr style=\"text-align: right;\">\n      <th></th>\n      <th>conservation_status</th>\n      <th>scientific_name</th>\n    </tr>\n  </thead>\n  <tbody>\n    <tr>\n      <th>0</th>\n      <td>Endangered</td>\n      <td>15</td>\n    </tr>\n    <tr>\n      <th>1</th>\n      <td>In Recovery</td>\n      <td>4</td>\n    </tr>\n    <tr>\n      <th>2</th>\n      <td>No Intervention</td>\n      <td>5363</td>\n    </tr>\n    <tr>\n      <th>3</th>\n      <td>Species of Concern</td>\n      <td>151</td>\n    </tr>\n    <tr>\n      <th>4</th>\n      <td>Threatened</td>\n      <td>10</td>\n    </tr>\n  </tbody>\n</table>\n</div>"
     },
     "execution_count": 13,
     "metadata": {},
     "output_type": "execute_result"
    }
   ],
   "source": [
    "species.groupby('conservation_status').scientific_name.nunique().reset_index()"
   ]
  },
  {
   "cell_type": "markdown",
   "metadata": {
    "pycharm": {
     "name": "#%% md\n"
    }
   },
   "source": [
    "Let's use `plt.bar` to create a bar chart.  First, let's sort the columns by how many species are in each categories.  We can do this using `.sort_values`.  We use the the keyword `by` to indicate which column we want to sort by.\n",
    "\n",
    "Paste the following code and run it to create a new DataFrame called `protection_counts`, which is sorted by `scientific_name`:\n",
    "```python\n",
    "protection_counts = species.groupby('conservation_status')\\\n",
    "    .scientific_name.nunique().reset_index()\\\n",
    "    .sort_values(by='scientific_name')\n",
    "```"
   ]
  },
  {
   "cell_type": "code",
   "execution_count": 14,
   "metadata": {
    "collapsed": true,
    "pycharm": {
     "name": "#%%\n"
    }
   },
   "outputs": [],
   "source": [
    "protection_counts = species.groupby('conservation_status')\\\n",
    "    .scientific_name.nunique().reset_index()\\\n",
    "    .sort_values(by='scientific_name')"
   ]
  },
  {
   "cell_type": "markdown",
   "metadata": {
    "pycharm": {
     "name": "#%% md\n"
    }
   },
   "source": [
    "Now let's create a bar chart!\n",
    "1. Start by creating a wide figure with `figsize=(10, 4)`\n",
    "1. Start by creating an axes object called `ax` using `plt.subplot`.\n",
    "2. Create a bar chart whose heights are equal to `scientific_name` column of `protection_counts`.\n",
    "3. Create an x-tick for each of the bars.\n",
    "4. Label each x-tick with the label from `conservation_status` in `protection_counts`\n",
    "5. Label the y-axis `Number of Species`\n",
    "6. Title the graph `Conservation Status by Species`\n",
    "7. Plot the grap using `plt.show()`"
   ]
  },
  {
   "cell_type": "code",
   "execution_count": 15,
   "metadata": {
    "collapsed": true,
    "pycharm": {
     "name": "#%%\n"
    }
   },
   "outputs": [
    {
     "data": {
      "text/plain": "<Figure size 720x288 with 1 Axes>",
      "image/png": "[encoded data removed]"
     },
     "metadata": {
      "needs_background": "light"
     },
     "output_type": "display_data"
    }
   ],
   "source": [
    "plt.figure(figsize=(10, 4))\n",
    "ax = plt.subplot()\n",
    "plt.bar(range(len(protection_counts)),\n",
    "        protection_counts.scientific_name.values)\n",
    "ax.set_xticks(range(len(protection_counts)))\n",
    "ax.set_xticklabels(protection_counts.scientific_name.values)\n",
    "plt.ylabel('Number of Species')\n",
    "plt.title('Conservation Status by Species')\n",
    "plt.show()"
   ]
  },
  {
   "cell_type": "markdown",
   "metadata": {
    "pycharm": {
     "name": "#%% md\n"
    }
   },
   "source": [
    "# Step 4\n",
    "Are certain types of species more likely to be endangered?"
   ]
  },
  {
   "cell_type": "markdown",
   "metadata": {
    "pycharm": {
     "name": "#%% md\n"
    }
   },
   "source": [
    "Let's create a new column in `species` called `is_protected`, which is `True` if `conservation_status` is not equal to `No Intervention`, and `False` otherwise."
   ]
  },
  {
   "cell_type": "code",
   "execution_count": 17,
   "metadata": {
    "collapsed": true,
    "pycharm": {
     "name": "#%%\n"
    }
   },
   "outputs": [],
   "source": [
    "species['is_protected'] = species.conservation_status != 'No Intervention'"
   ]
  },
  {
   "cell_type": "markdown",
   "metadata": {
    "pycharm": {
     "name": "#%% md\n"
    }
   },
   "source": [
    "Let's group the `species` data frame by the `category` and `is_protected` columns and count the unique `scientific_name`s in each grouping.\n",
    "\n",
    "Save your results to `category_counts`."
   ]
  },
  {
   "cell_type": "markdown",
   "source": [],
   "metadata": {
    "collapsed": false,
    "pycharm": {
     "name": "#%% md\n"
    }
   }
  },
  {
   "cell_type": "code",
   "execution_count": 20,
   "metadata": {
    "collapsed": true,
    "pycharm": {
     "name": "#%%\n"
    }
   },
   "outputs": [],
   "source": [
    "category_counts = species.groupby(['category', 'is_protected']).scientific_name.nunique().reset_index()"
   ]
  },
  {
   "cell_type": "markdown",
   "metadata": {
    "pycharm": {
     "name": "#%% md\n"
    }
   },
   "source": [
    "Examine `category_counts` using `head()`."
   ]
  },
  {
   "cell_type": "code",
   "execution_count": 21,
   "metadata": {
    "collapsed": true,
    "pycharm": {
     "name": "#%%\n"
    }
   },
   "outputs": [
    {
     "data": {
      "text/plain": "    category  is_protected  scientific_name\n0  Amphibian         False               72\n1  Amphibian          True                7\n2       Bird         False              413\n3       Bird          True               75\n4       Fish         False              115",
      "text/html": "<div>\n<style scoped>\n    .dataframe tbody tr th:only-of-type {\n        vertical-align: middle;\n    }\n\n    .dataframe tbody tr th {\n        vertical-align: top;\n    }\n\n    .dataframe thead th {\n        text-align: right;\n    }\n</style>\n<table border=\"1\" class=\"dataframe\">\n  <thead>\n    <tr style=\"text-align: right;\">\n      <th></th>\n      <th>category</th>\n      <th>is_protected</th>\n      <th>scientific_name</th>\n    </tr>\n  </thead>\n  <tbody>\n    <tr>\n      <th>0</th>\n      <td>Amphibian</td>\n      <td>False</td>\n      <td>72</td>\n    </tr>\n    <tr>\n      <th>1</th>\n      <td>Amphibian</td>\n      <td>True</td>\n      <td>7</td>\n    </tr>\n    <tr>\n      <th>2</th>\n      <td>Bird</td>\n      <td>False</td>\n      <td>413</td>\n    </tr>\n    <tr>\n      <th>3</th>\n      <td>Bird</td>\n      <td>True</td>\n      <td>75</td>\n    </tr>\n    <tr>\n      <th>4</th>\n      <td>Fish</td>\n      <td>False</td>\n      <td>115</td>\n    </tr>\n  </tbody>\n</table>\n</div>"
     },
     "execution_count": 21,
     "metadata": {},
     "output_type": "execute_result"
    }
   ],
   "source": [
    "category_counts.head()"
   ]
  },
  {
   "cell_type": "markdown",
   "metadata": {
    "collapsed": true,
    "pycharm": {
     "name": "#%% md\n"
    }
   },
   "source": [
    "It's going to be easier to view this data if we pivot it.  Using `pivot`, rearange `category_counts` so that:\n",
    "- `columns` is `is_protected`\n",
    "- `index` is `category`\n",
    "- `values` is `scientific_name`\n",
    "\n",
    "Save your pivoted data to `category_pivot`. Remember to `reset_index()` at the end."
   ]
  },
  {
   "cell_type": "code",
   "execution_count": 23,
   "metadata": {
    "collapsed": true,
    "pycharm": {
     "name": "#%%\n"
    }
   },
   "outputs": [],
   "source": [
    "category_pivot = category_counts.pivot(columns='is_protected',\n",
    "    index='category',\n",
    "    values='scientific_name').reset_index()"
   ]
  },
  {
   "cell_type": "markdown",
   "metadata": {
    "pycharm": {
     "name": "#%% md\n"
    }
   },
   "source": [
    "Examine `category_pivot`."
   ]
  },
  {
   "cell_type": "code",
   "execution_count": 24,
   "metadata": {
    "collapsed": true,
    "pycharm": {
     "name": "#%%\n"
    }
   },
   "outputs": [
    {
     "data": {
      "text/plain": "is_protected           category  False  True\n0                     Amphibian     72     7\n1                          Bird    413    75\n2                          Fish    115    11\n3                        Mammal    146    30\n4             Nonvascular Plant    328     5\n5                       Reptile     73     5\n6                Vascular Plant   4216    46",
      "text/html": "<div>\n<style scoped>\n    .dataframe tbody tr th:only-of-type {\n        vertical-align: middle;\n    }\n\n    .dataframe tbody tr th {\n        vertical-align: top;\n    }\n\n    .dataframe thead th {\n        text-align: right;\n    }\n</style>\n<table border=\"1\" class=\"dataframe\">\n  <thead>\n    <tr style=\"text-align: right;\">\n      <th>is_protected</th>\n      <th>category</th>\n      <th>False</th>\n      <th>True</th>\n    </tr>\n  </thead>\n  <tbody>\n    <tr>\n      <th>0</th>\n      <td>Amphibian</td>\n      <td>72</td>\n      <td>7</td>\n    </tr>\n    <tr>\n      <th>1</th>\n      <td>Bird</td>\n      <td>413</td>\n      <td>75</td>\n    </tr>\n    <tr>\n      <th>2</th>\n      <td>Fish</td>\n      <td>115</td>\n      <td>11</td>\n    </tr>\n    <tr>\n      <th>3</th>\n      <td>Mammal</td>\n      <td>146</td>\n      <td>30</td>\n    </tr>\n    <tr>\n      <th>4</th>\n      <td>Nonvascular Plant</td>\n      <td>328</td>\n      <td>5</td>\n    </tr>\n    <tr>\n      <th>5</th>\n      <td>Reptile</td>\n      <td>73</td>\n      <td>5</td>\n    </tr>\n    <tr>\n      <th>6</th>\n      <td>Vascular Plant</td>\n      <td>4216</td>\n      <td>46</td>\n    </tr>\n  </tbody>\n</table>\n</div>"
     },
     "execution_count": 24,
     "metadata": {},
     "output_type": "execute_result"
    }
   ],
   "source": [
    "category_pivot"
   ]
  },
  {
   "cell_type": "markdown",
   "metadata": {
    "pycharm": {
     "name": "#%% md\n"
    }
   },
   "source": [
    "Use the `.columns` property to  rename the categories `True` and `False` to something more description:\n",
    "- Leave `category` as `category`\n",
    "- Rename `False` to `not_protected`\n",
    "- Rename `True` to `protected`"
   ]
  },
  {
   "cell_type": "code",
   "execution_count": 25,
   "metadata": {
    "collapsed": true,
    "pycharm": {
     "name": "#%%\n"
    }
   },
   "outputs": [],
   "source": [
    "category_pivot.columns = ['category', 'not_protected', 'protected']"
   ]
  },
  {
   "cell_type": "markdown",
   "metadata": {
    "pycharm": {
     "name": "#%% md\n"
    }
   },
   "source": [
    "Let's create a new column of `category_pivot` called `percent_protected`, which is equal to `protected` (the number of species that are protected) divided by `protected` plus `not_protected` (the total number of species)."
   ]
  },
  {
   "cell_type": "code",
   "execution_count": 26,
   "metadata": {
    "collapsed": true,
    "pycharm": {
     "name": "#%%\n"
    }
   },
   "outputs": [],
   "source": [
    "category_pivot['percent_protected'] = category_pivot.protected / \\\n",
    "                                      (category_pivot.protected + category_pivot.not_protected)"
   ]
  },
  {
   "cell_type": "markdown",
   "metadata": {
    "pycharm": {
     "name": "#%% md\n"
    }
   },
   "source": [
    "Examine `category_pivot`."
   ]
  },
  {
   "cell_type": "code",
   "execution_count": 28,
   "metadata": {
    "collapsed": true,
    "pycharm": {
     "name": "#%%\n"
    }
   },
   "outputs": [
    {
     "data": {
      "text/plain": "            category  not_protected  protected  percent_protected\n0          Amphibian             72          7           0.088608\n1               Bird            413         75           0.153689\n2               Fish            115         11           0.087302\n3             Mammal            146         30           0.170455\n4  Nonvascular Plant            328          5           0.015015\n5            Reptile             73          5           0.064103\n6     Vascular Plant           4216         46           0.010793",
      "text/html": "<div>\n<style scoped>\n    .dataframe tbody tr th:only-of-type {\n        vertical-align: middle;\n    }\n\n    .dataframe tbody tr th {\n        vertical-align: top;\n    }\n\n    .dataframe thead th {\n        text-align: right;\n    }\n</style>\n<table border=\"1\" class=\"dataframe\">\n  <thead>\n    <tr style=\"text-align: right;\">\n      <th></th>\n      <th>category</th>\n      <th>not_protected</th>\n      <th>protected</th>\n      <th>percent_protected</th>\n    </tr>\n  </thead>\n  <tbody>\n    <tr>\n      <th>0</th>\n      <td>Amphibian</td>\n      <td>72</td>\n      <td>7</td>\n      <td>0.088608</td>\n    </tr>\n    <tr>\n      <th>1</th>\n      <td>Bird</td>\n      <td>413</td>\n      <td>75</td>\n      <td>0.153689</td>\n    </tr>\n    <tr>\n      <th>2</th>\n      <td>Fish</td>\n      <td>115</td>\n      <td>11</td>\n      <td>0.087302</td>\n    </tr>\n    <tr>\n      <th>3</th>\n      <td>Mammal</td>\n      <td>146</td>\n      <td>30</td>\n      <td>0.170455</td>\n    </tr>\n    <tr>\n      <th>4</th>\n      <td>Nonvascular Plant</td>\n      <td>328</td>\n      <td>5</td>\n      <td>0.015015</td>\n    </tr>\n    <tr>\n      <th>5</th>\n      <td>Reptile</td>\n      <td>73</td>\n      <td>5</td>\n      <td>0.064103</td>\n    </tr>\n    <tr>\n      <th>6</th>\n      <td>Vascular Plant</td>\n      <td>4216</td>\n      <td>46</td>\n      <td>0.010793</td>\n    </tr>\n  </tbody>\n</table>\n</div>"
     },
     "execution_count": 28,
     "metadata": {},
     "output_type": "execute_result"
    }
   ],
   "source": [
    "category_pivot\n"
   ]
  },
  {
   "cell_type": "markdown",
   "metadata": {
    "pycharm": {
     "name": "#%% md\n"
    }
   },
   "source": [
    "It looks like species in category `Mammal` are more likely to be endangered than species in `Bird`.  We're going to do a significance test to see if this statement is true.  Before you do the significance test, consider the following questions:\n",
    "- Is the data numerical or categorical?\n",
    "- How many pieces of data are you comparing?"
   ]
  },
  {
   "cell_type": "markdown",
   "metadata": {
    "pycharm": {
     "name": "#%% md\n"
    }
   },
   "source": [
    "Based on those answers, you should choose to do a *chi squared test*.  In order to run a chi squared test, we'll need to create a contingency table.  Our contingency table should look like this:\n",
    "\n",
    "||protected|not protected|\n",
    "|-|-|-|\n",
    "|Mammal|?|?|\n",
    "|Bird|?|?|\n",
    "\n",
    "Create a table called `contingency` and fill it in with the correct numbers"
   ]
  },
  {
   "cell_type": "code",
   "execution_count": 29,
   "metadata": {
    "collapsed": true,
    "pycharm": {
     "name": "#%%\n"
    }
   },
   "outputs": [],
   "source": [
    "contingency = [\n",
    "    [30, 146],\n",
    "    [75, 413]]"
   ]
  },
  {
   "cell_type": "markdown",
   "metadata": {
    "pycharm": {
     "name": "#%% md\n"
    }
   },
   "source": [
    "In order to perform our chi square test, we'll need to import the correct function from scipy.  Past the following code and run it:\n",
    "```py\n",
    "from scipy.stats import chi2_contingency\n",
    "```"
   ]
  },
  {
   "cell_type": "code",
   "execution_count": 30,
   "metadata": {
    "collapsed": true,
    "pycharm": {
     "name": "#%%\n"
    }
   },
   "outputs": [],
   "source": [
    "from scipy.stats import chi2_contingency"
   ]
  },
  {
   "cell_type": "markdown",
   "metadata": {
    "pycharm": {
     "name": "#%% md\n"
    }
   },
   "source": [
    "Now run `chi2_contingency` with `contingency`."
   ]
  },
  {
   "cell_type": "code",
   "execution_count": 32,
   "metadata": {
    "collapsed": true,
    "pycharm": {
     "name": "#%%\n"
    }
   },
   "outputs": [
    {
     "data": {
      "text/plain": "(0.1617014831654557,\n 0.6875948096661336,\n 1,\n array([[ 27.8313253, 148.1686747],\n        [ 77.1686747, 410.8313253]]))"
     },
     "execution_count": 32,
     "metadata": {},
     "output_type": "execute_result"
    }
   ],
   "source": [
    "chi2_contingency(contingency)"
   ]
  },
  {
   "cell_type": "markdown",
   "metadata": {
    "pycharm": {
     "name": "#%% md\n"
    }
   },
   "source": [
    "It looks like this difference isn't significant!\n",
    "\n",
    "Let's test another.  Is the difference between `Reptile` and `Mammal` significant?"
   ]
  },
  {
   "cell_type": "code",
   "execution_count": 33,
   "metadata": {
    "collapsed": true,
    "pycharm": {
     "name": "#%%\n"
    }
   },
   "outputs": [
    {
     "data": {
      "text/plain": "(4.289183096203645,\n 0.03835559022969898,\n 1,\n array([[ 10.7480315,  67.2519685],\n        [ 24.2519685, 151.7480315]]))"
     },
     "execution_count": 33,
     "metadata": {},
     "output_type": "execute_result"
    }
   ],
   "source": [
    "contingency2 = [\n",
    "    [5, 73],\n",
    "    [30, 146]]\n",
    "chi2_contingency(contingency2)"
   ]
  },
  {
   "cell_type": "markdown",
   "metadata": {
    "pycharm": {
     "name": "#%% md\n"
    }
   },
   "source": [
    "Yes! It looks like there is a significant difference between `Reptile` and `Mammal`!"
   ]
  },
  {
   "cell_type": "markdown",
   "metadata": {
    "pycharm": {
     "name": "#%% md\n"
    }
   },
   "source": [
    "# Step 5"
   ]
  },
  {
   "cell_type": "markdown",
   "metadata": {
    "pycharm": {
     "name": "#%% md\n"
    }
   },
   "source": [
    "Conservationists have been recording sightings of different species at several national parks for the past 7 days.  They've saved sent you their observations in a file called `observations.csv`.  Load `observations.csv` into a variable called `observations`, then use `head` to view the data."
   ]
  },
  {
   "cell_type": "code",
   "execution_count": 34,
   "metadata": {
    "collapsed": true,
    "pycharm": {
     "name": "#%%\n"
    }
   },
   "outputs": [
    {
     "data": {
      "text/plain": "            scientific_name                            park_name  observations\n0        Vicia benghalensis  Great Smoky Mountains National Park            68\n1            Neovison vison  Great Smoky Mountains National Park            77\n2         Prunus subcordata               Yosemite National Park           138\n3      Abutilon theophrasti                  Bryce National Park            84\n4  Githopsis specularioides  Great Smoky Mountains National Park            85",
      "text/html": "<div>\n<style scoped>\n    .dataframe tbody tr th:only-of-type {\n        vertical-align: middle;\n    }\n\n    .dataframe tbody tr th {\n        vertical-align: top;\n    }\n\n    .dataframe thead th {\n        text-align: right;\n    }\n</style>\n<table border=\"1\" class=\"dataframe\">\n  <thead>\n    <tr style=\"text-align: right;\">\n      <th></th>\n      <th>scientific_name</th>\n      <th>park_name</th>\n      <th>observations</th>\n    </tr>\n  </thead>\n  <tbody>\n    <tr>\n      <th>0</th>\n      <td>Vicia benghalensis</td>\n      <td>Great Smoky Mountains National Park</td>\n      <td>68</td>\n    </tr>\n    <tr>\n      <th>1</th>\n      <td>Neovison vison</td>\n      <td>Great Smoky Mountains National Park</td>\n      <td>77</td>\n    </tr>\n    <tr>\n      <th>2</th>\n      <td>Prunus subcordata</td>\n      <td>Yosemite National Park</td>\n      <td>138</td>\n    </tr>\n    <tr>\n      <th>3</th>\n      <td>Abutilon theophrasti</td>\n      <td>Bryce National Park</td>\n      <td>84</td>\n    </tr>\n    <tr>\n      <th>4</th>\n      <td>Githopsis specularioides</td>\n      <td>Great Smoky Mountains National Park</td>\n      <td>85</td>\n    </tr>\n  </tbody>\n</table>\n</div>"
     },
     "execution_count": 34,
     "metadata": {},
     "output_type": "execute_result"
    }
   ],
   "source": [
    "observations = pd.read_csv('observations.csv')\n",
    "observations.head()"
   ]
  },
  {
   "cell_type": "markdown",
   "metadata": {
    "pycharm": {
     "name": "#%% md\n"
    }
   },
   "source": [
    "Some scientists are studying the number of sheep sightings at different national parks.  There are several different scientific names for different types of sheep.  We'd like to know which rows of `species` are referring to sheep.  Notice that the following code will tell us whether or not a word occurs in a string:"
   ]
  },
  {
   "cell_type": "code",
   "execution_count": 35,
   "metadata": {
    "pycharm": {
     "name": "#%%\n"
    }
   },
   "outputs": [
    {
     "data": {
      "text/plain": "True"
     },
     "execution_count": 35,
     "metadata": {},
     "output_type": "execute_result"
    }
   ],
   "source": [
    "# Does \"Sheep\" occur in this string?\n",
    "str1 = 'This string contains Sheep'\n",
    "'Sheep' in str1"
   ]
  },
  {
   "cell_type": "code",
   "execution_count": 36,
   "metadata": {
    "pycharm": {
     "name": "#%%\n"
    }
   },
   "outputs": [
    {
     "data": {
      "text/plain": "False"
     },
     "execution_count": 36,
     "metadata": {},
     "output_type": "execute_result"
    }
   ],
   "source": [
    "# Does \"Sheep\" occur in this string?\n",
    "str2 = 'This string contains Cows'\n",
    "'Sheep' in str2"
   ]
  },
  {
   "cell_type": "markdown",
   "metadata": {
    "pycharm": {
     "name": "#%% md\n"
    }
   },
   "source": [
    "Use `apply` and a `lambda` function to create a new column in `species` called `is_sheep` which is `True` if the `common_names` contains `'Sheep'`, and `False` otherwise."
   ]
  },
  {
   "cell_type": "code",
   "execution_count": 38,
   "metadata": {
    "collapsed": true,
    "pycharm": {
     "name": "#%%\n"
    }
   },
   "outputs": [
    {
     "data": {
      "text/plain": "  category                scientific_name  \\\n0   Mammal  Clethrionomys gapperi gapperi   \n1   Mammal                      Bos bison   \n2   Mammal                     Bos taurus   \n3   Mammal                     Ovis aries   \n4   Mammal                 Cervus elaphus   \n\n                                        common_names conservation_status  \\\n0                           Gapper's Red-Backed Vole     No Intervention   \n1                              American Bison, Bison     No Intervention   \n2  Aurochs, Aurochs, Domestic Cattle (Feral), Dom...     No Intervention   \n3  Domestic Sheep, Mouflon, Red Sheep, Sheep (Feral)     No Intervention   \n4                                      Wapiti Or Elk     No Intervention   \n\n   is_sheep  is_protected  \n0     False         False  \n1     False         False  \n2     False         False  \n3      True         False  \n4     False         False  ",
      "text/html": "<div>\n<style scoped>\n    .dataframe tbody tr th:only-of-type {\n        vertical-align: middle;\n    }\n\n    .dataframe tbody tr th {\n        vertical-align: top;\n    }\n\n    .dataframe thead th {\n        text-align: right;\n    }\n</style>\n<table border=\"1\" class=\"dataframe\">\n  <thead>\n    <tr style=\"text-align: right;\">\n      <th></th>\n      <th>category</th>\n      <th>scientific_name</th>\n      <th>common_names</th>\n      <th>conservation_status</th>\n      <th>is_sheep</th>\n      <th>is_protected</th>\n    </tr>\n  </thead>\n  <tbody>\n    <tr>\n      <th>0</th>\n      <td>Mammal</td>\n      <td>Clethrionomys gapperi gapperi</td>\n      <td>Gapper's Red-Backed Vole</td>\n      <td>No Intervention</td>\n      <td>False</td>\n      <td>False</td>\n    </tr>\n    <tr>\n      <th>1</th>\n      <td>Mammal</td>\n      <td>Bos bison</td>\n      <td>American Bison, Bison</td>\n      <td>No Intervention</td>\n      <td>False</td>\n      <td>False</td>\n    </tr>\n    <tr>\n      <th>2</th>\n      <td>Mammal</td>\n      <td>Bos taurus</td>\n      <td>Aurochs, Aurochs, Domestic Cattle (Feral), Dom...</td>\n      <td>No Intervention</td>\n      <td>False</td>\n      <td>False</td>\n    </tr>\n    <tr>\n      <th>3</th>\n      <td>Mammal</td>\n      <td>Ovis aries</td>\n      <td>Domestic Sheep, Mouflon, Red Sheep, Sheep (Feral)</td>\n      <td>No Intervention</td>\n      <td>True</td>\n      <td>False</td>\n    </tr>\n    <tr>\n      <th>4</th>\n      <td>Mammal</td>\n      <td>Cervus elaphus</td>\n      <td>Wapiti Or Elk</td>\n      <td>No Intervention</td>\n      <td>False</td>\n      <td>False</td>\n    </tr>\n  </tbody>\n</table>\n</div>"
     },
     "execution_count": 38,
     "metadata": {},
     "output_type": "execute_result"
    }
   ],
   "source": [
    "species['is_sheep'] = species.common_names.apply(lambda x: 'Sheep' in x)\n",
    "species.head()"
   ]
  },
  {
   "cell_type": "markdown",
   "metadata": {
    "pycharm": {
     "name": "#%% md\n"
    }
   },
   "source": [
    "Select the rows of `species` where `is_sheep` is `True` and examine the results."
   ]
  },
  {
   "cell_type": "code",
   "execution_count": 39,
   "metadata": {
    "collapsed": true,
    "pycharm": {
     "name": "#%%\n"
    }
   },
   "outputs": [
    {
     "data": {
      "text/plain": "            category              scientific_name  \\\n3             Mammal                   Ovis aries   \n1139  Vascular Plant             Rumex acetosella   \n2233  Vascular Plant           Festuca filiformis   \n3014          Mammal              Ovis canadensis   \n3758  Vascular Plant             Rumex acetosella   \n3761  Vascular Plant            Rumex paucifolius   \n4091  Vascular Plant                 Carex illota   \n4383  Vascular Plant  Potentilla ovina var. ovina   \n4446          Mammal      Ovis canadensis sierrae   \n\n                                           common_names conservation_status  \\\n3     Domestic Sheep, Mouflon, Red Sheep, Sheep (Feral)     No Intervention   \n1139                        Sheep Sorrel, Sheep Sorrell     No Intervention   \n2233                              Fineleaf Sheep Fescue     No Intervention   \n3014                       Bighorn Sheep, Bighorn Sheep  Species of Concern   \n3758  Common Sheep Sorrel, Field Sorrel, Red Sorrel,...     No Intervention   \n3761   Alpine Sheep Sorrel, Fewleaved Dock, Meadow Dock     No Intervention   \n4091                       Sheep Sedge, Smallhead Sedge     No Intervention   \n4383                                   Sheep Cinquefoil     No Intervention   \n4446                        Sierra Nevada Bighorn Sheep          Endangered   \n\n      is_sheep  is_protected  \n3         True         False  \n1139      True         False  \n2233      True         False  \n3014      True          True  \n3758      True         False  \n3761      True         False  \n4091      True         False  \n4383      True         False  \n4446      True          True  ",
      "text/html": "<div>\n<style scoped>\n    .dataframe tbody tr th:only-of-type {\n        vertical-align: middle;\n    }\n\n    .dataframe tbody tr th {\n        vertical-align: top;\n    }\n\n    .dataframe thead th {\n        text-align: right;\n    }\n</style>\n<table border=\"1\" class=\"dataframe\">\n  <thead>\n    <tr style=\"text-align: right;\">\n      <th></th>\n      <th>category</th>\n      <th>scientific_name</th>\n      <th>common_names</th>\n      <th>conservation_status</th>\n      <th>is_sheep</th>\n      <th>is_protected</th>\n    </tr>\n  </thead>\n  <tbody>\n    <tr>\n      <th>3</th>\n      <td>Mammal</td>\n      <td>Ovis aries</td>\n      <td>Domestic Sheep, Mouflon, Red Sheep, Sheep (Feral)</td>\n      <td>No Intervention</td>\n      <td>True</td>\n      <td>False</td>\n    </tr>\n    <tr>\n      <th>1139</th>\n      <td>Vascular Plant</td>\n      <td>Rumex acetosella</td>\n      <td>Sheep Sorrel, Sheep Sorrell</td>\n      <td>No Intervention</td>\n      <td>True</td>\n      <td>False</td>\n    </tr>\n    <tr>\n      <th>2233</th>\n      <td>Vascular Plant</td>\n      <td>Festuca filiformis</td>\n      <td>Fineleaf Sheep Fescue</td>\n      <td>No Intervention</td>\n      <td>True</td>\n      <td>False</td>\n    </tr>\n    <tr>\n      <th>3014</th>\n      <td>Mammal</td>\n      <td>Ovis canadensis</td>\n      <td>Bighorn Sheep, Bighorn Sheep</td>\n      <td>Species of Concern</td>\n      <td>True</td>\n      <td>True</td>\n    </tr>\n    <tr>\n      <th>3758</th>\n      <td>Vascular Plant</td>\n      <td>Rumex acetosella</td>\n      <td>Common Sheep Sorrel, Field Sorrel, Red Sorrel,...</td>\n      <td>No Intervention</td>\n      <td>True</td>\n      <td>False</td>\n    </tr>\n    <tr>\n      <th>3761</th>\n      <td>Vascular Plant</td>\n      <td>Rumex paucifolius</td>\n      <td>Alpine Sheep Sorrel, Fewleaved Dock, Meadow Dock</td>\n      <td>No Intervention</td>\n      <td>True</td>\n      <td>False</td>\n    </tr>\n    <tr>\n      <th>4091</th>\n      <td>Vascular Plant</td>\n      <td>Carex illota</td>\n      <td>Sheep Sedge, Smallhead Sedge</td>\n      <td>No Intervention</td>\n      <td>True</td>\n      <td>False</td>\n    </tr>\n    <tr>\n      <th>4383</th>\n      <td>Vascular Plant</td>\n      <td>Potentilla ovina var. ovina</td>\n      <td>Sheep Cinquefoil</td>\n      <td>No Intervention</td>\n      <td>True</td>\n      <td>False</td>\n    </tr>\n    <tr>\n      <th>4446</th>\n      <td>Mammal</td>\n      <td>Ovis canadensis sierrae</td>\n      <td>Sierra Nevada Bighorn Sheep</td>\n      <td>Endangered</td>\n      <td>True</td>\n      <td>True</td>\n    </tr>\n  </tbody>\n</table>\n</div>"
     },
     "execution_count": 39,
     "metadata": {},
     "output_type": "execute_result"
    }
   ],
   "source": [
    "species[species.is_sheep]"
   ]
  },
  {
   "cell_type": "markdown",
   "metadata": {
    "pycharm": {
     "name": "#%% md\n"
    }
   },
   "source": [
    "Many of the results are actually plants.  Select the rows of `species` where `is_sheep` is `True` and `category` is `Mammal`.  Save the results to the variable `sheep_species`."
   ]
  },
  {
   "cell_type": "code",
   "execution_count": 40,
   "metadata": {
    "collapsed": true,
    "pycharm": {
     "name": "#%%\n"
    }
   },
   "outputs": [
    {
     "data": {
      "text/plain": "     category          scientific_name  \\\n3      Mammal               Ovis aries   \n3014   Mammal          Ovis canadensis   \n4446   Mammal  Ovis canadensis sierrae   \n\n                                           common_names conservation_status  \\\n3     Domestic Sheep, Mouflon, Red Sheep, Sheep (Feral)     No Intervention   \n3014                       Bighorn Sheep, Bighorn Sheep  Species of Concern   \n4446                        Sierra Nevada Bighorn Sheep          Endangered   \n\n      is_sheep  is_protected  \n3         True         False  \n3014      True          True  \n4446      True          True  ",
      "text/html": "<div>\n<style scoped>\n    .dataframe tbody tr th:only-of-type {\n        vertical-align: middle;\n    }\n\n    .dataframe tbody tr th {\n        vertical-align: top;\n    }\n\n    .dataframe thead th {\n        text-align: right;\n    }\n</style>\n<table border=\"1\" class=\"dataframe\">\n  <thead>\n    <tr style=\"text-align: right;\">\n      <th></th>\n      <th>category</th>\n      <th>scientific_name</th>\n      <th>common_names</th>\n      <th>conservation_status</th>\n      <th>is_sheep</th>\n      <th>is_protected</th>\n    </tr>\n  </thead>\n  <tbody>\n    <tr>\n      <th>3</th>\n      <td>Mammal</td>\n      <td>Ovis aries</td>\n      <td>Domestic Sheep, Mouflon, Red Sheep, Sheep (Feral)</td>\n      <td>No Intervention</td>\n      <td>True</td>\n      <td>False</td>\n    </tr>\n    <tr>\n      <th>3014</th>\n      <td>Mammal</td>\n      <td>Ovis canadensis</td>\n      <td>Bighorn Sheep, Bighorn Sheep</td>\n      <td>Species of Concern</td>\n      <td>True</td>\n      <td>True</td>\n    </tr>\n    <tr>\n      <th>4446</th>\n      <td>Mammal</td>\n      <td>Ovis canadensis sierrae</td>\n      <td>Sierra Nevada Bighorn Sheep</td>\n      <td>Endangered</td>\n      <td>True</td>\n      <td>True</td>\n    </tr>\n  </tbody>\n</table>\n</div>"
     },
     "execution_count": 40,
     "metadata": {},
     "output_type": "execute_result"
    }
   ],
   "source": [
    "sheep_species = species[(species.is_sheep) & (species.category == 'Mammal')]\n",
    "sheep_species"
   ]
  },
  {
   "cell_type": "markdown",
   "metadata": {
    "pycharm": {
     "name": "#%% md\n"
    }
   },
   "source": [
    "Now merge `sheep_species` with `observations` to get a DataFrame with observations of sheep.  Save this DataFrame as `sheep_observations`."
   ]
  },
  {
   "cell_type": "code",
   "execution_count": 41,
   "metadata": {
    "collapsed": true,
    "pycharm": {
     "name": "#%%\n"
    }
   },
   "outputs": [
    {
     "data": {
      "text/plain": "            scientific_name                            park_name  \\\n0           Ovis canadensis            Yellowstone National Park   \n1           Ovis canadensis                  Bryce National Park   \n2           Ovis canadensis               Yosemite National Park   \n3           Ovis canadensis  Great Smoky Mountains National Park   \n4   Ovis canadensis sierrae            Yellowstone National Park   \n5   Ovis canadensis sierrae               Yosemite National Park   \n6   Ovis canadensis sierrae                  Bryce National Park   \n7   Ovis canadensis sierrae  Great Smoky Mountains National Park   \n8                Ovis aries               Yosemite National Park   \n9                Ovis aries  Great Smoky Mountains National Park   \n10               Ovis aries                  Bryce National Park   \n11               Ovis aries            Yellowstone National Park   \n\n    observations category                                       common_names  \\\n0            219   Mammal                       Bighorn Sheep, Bighorn Sheep   \n1            109   Mammal                       Bighorn Sheep, Bighorn Sheep   \n2            117   Mammal                       Bighorn Sheep, Bighorn Sheep   \n3             48   Mammal                       Bighorn Sheep, Bighorn Sheep   \n4             67   Mammal                        Sierra Nevada Bighorn Sheep   \n5             39   Mammal                        Sierra Nevada Bighorn Sheep   \n6             22   Mammal                        Sierra Nevada Bighorn Sheep   \n7             25   Mammal                        Sierra Nevada Bighorn Sheep   \n8            126   Mammal  Domestic Sheep, Mouflon, Red Sheep, Sheep (Feral)   \n9             76   Mammal  Domestic Sheep, Mouflon, Red Sheep, Sheep (Feral)   \n10           119   Mammal  Domestic Sheep, Mouflon, Red Sheep, Sheep (Feral)   \n11           221   Mammal  Domestic Sheep, Mouflon, Red Sheep, Sheep (Feral)   \n\n   conservation_status  is_sheep  is_protected  \n0   Species of Concern      True          True  \n1   Species of Concern      True          True  \n2   Species of Concern      True          True  \n3   Species of Concern      True          True  \n4           Endangered      True          True  \n5           Endangered      True          True  \n6           Endangered      True          True  \n7           Endangered      True          True  \n8      No Intervention      True         False  \n9      No Intervention      True         False  \n10     No Intervention      True         False  \n11     No Intervention      True         False  ",
      "text/html": "<div>\n<style scoped>\n    .dataframe tbody tr th:only-of-type {\n        vertical-align: middle;\n    }\n\n    .dataframe tbody tr th {\n        vertical-align: top;\n    }\n\n    .dataframe thead th {\n        text-align: right;\n    }\n</style>\n<table border=\"1\" class=\"dataframe\">\n  <thead>\n    <tr style=\"text-align: right;\">\n      <th></th>\n      <th>scientific_name</th>\n      <th>park_name</th>\n      <th>observations</th>\n      <th>category</th>\n      <th>common_names</th>\n      <th>conservation_status</th>\n      <th>is_sheep</th>\n      <th>is_protected</th>\n    </tr>\n  </thead>\n  <tbody>\n    <tr>\n      <th>0</th>\n      <td>Ovis canadensis</td>\n      <td>Yellowstone National Park</td>\n      <td>219</td>\n      <td>Mammal</td>\n      <td>Bighorn Sheep, Bighorn Sheep</td>\n      <td>Species of Concern</td>\n      <td>True</td>\n      <td>True</td>\n    </tr>\n    <tr>\n      <th>1</th>\n      <td>Ovis canadensis</td>\n      <td>Bryce National Park</td>\n      <td>109</td>\n      <td>Mammal</td>\n      <td>Bighorn Sheep, Bighorn Sheep</td>\n      <td>Species of Concern</td>\n      <td>True</td>\n      <td>True</td>\n    </tr>\n    <tr>\n      <th>2</th>\n      <td>Ovis canadensis</td>\n      <td>Yosemite National Park</td>\n      <td>117</td>\n      <td>Mammal</td>\n      <td>Bighorn Sheep, Bighorn Sheep</td>\n      <td>Species of Concern</td>\n      <td>True</td>\n      <td>True</td>\n    </tr>\n    <tr>\n      <th>3</th>\n      <td>Ovis canadensis</td>\n      <td>Great Smoky Mountains National Park</td>\n      <td>48</td>\n      <td>Mammal</td>\n      <td>Bighorn Sheep, Bighorn Sheep</td>\n      <td>Species of Concern</td>\n      <td>True</td>\n      <td>True</td>\n    </tr>\n    <tr>\n      <th>4</th>\n      <td>Ovis canadensis sierrae</td>\n      <td>Yellowstone National Park</td>\n      <td>67</td>\n      <td>Mammal</td>\n      <td>Sierra Nevada Bighorn Sheep</td>\n      <td>Endangered</td>\n      <td>True</td>\n      <td>True</td>\n    </tr>\n    <tr>\n      <th>5</th>\n      <td>Ovis canadensis sierrae</td>\n      <td>Yosemite National Park</td>\n      <td>39</td>\n      <td>Mammal</td>\n      <td>Sierra Nevada Bighorn Sheep</td>\n      <td>Endangered</td>\n      <td>True</td>\n      <td>True</td>\n    </tr>\n    <tr>\n      <th>6</th>\n      <td>Ovis canadensis sierrae</td>\n      <td>Bryce National Park</td>\n      <td>22</td>\n      <td>Mammal</td>\n      <td>Sierra Nevada Bighorn Sheep</td>\n      <td>Endangered</td>\n      <td>True</td>\n      <td>True</td>\n    </tr>\n    <tr>\n      <th>7</th>\n      <td>Ovis canadensis sierrae</td>\n      <td>Great Smoky Mountains National Park</td>\n      <td>25</td>\n      <td>Mammal</td>\n      <td>Sierra Nevada Bighorn Sheep</td>\n      <td>Endangered</td>\n      <td>True</td>\n      <td>True</td>\n    </tr>\n    <tr>\n      <th>8</th>\n      <td>Ovis aries</td>\n      <td>Yosemite National Park</td>\n      <td>126</td>\n      <td>Mammal</td>\n      <td>Domestic Sheep, Mouflon, Red Sheep, Sheep (Feral)</td>\n      <td>No Intervention</td>\n      <td>True</td>\n      <td>False</td>\n    </tr>\n    <tr>\n      <th>9</th>\n      <td>Ovis aries</td>\n      <td>Great Smoky Mountains National Park</td>\n      <td>76</td>\n      <td>Mammal</td>\n      <td>Domestic Sheep, Mouflon, Red Sheep, Sheep (Feral)</td>\n      <td>No Intervention</td>\n      <td>True</td>\n      <td>False</td>\n    </tr>\n    <tr>\n      <th>10</th>\n      <td>Ovis aries</td>\n      <td>Bryce National Park</td>\n      <td>119</td>\n      <td>Mammal</td>\n      <td>Domestic Sheep, Mouflon, Red Sheep, Sheep (Feral)</td>\n      <td>No Intervention</td>\n      <td>True</td>\n      <td>False</td>\n    </tr>\n    <tr>\n      <th>11</th>\n      <td>Ovis aries</td>\n      <td>Yellowstone National Park</td>\n      <td>221</td>\n      <td>Mammal</td>\n      <td>Domestic Sheep, Mouflon, Red Sheep, Sheep (Feral)</td>\n      <td>No Intervention</td>\n      <td>True</td>\n      <td>False</td>\n    </tr>\n  </tbody>\n</table>\n</div>"
     },
     "execution_count": 41,
     "metadata": {},
     "output_type": "execute_result"
    }
   ],
   "source": [
    "sheep_observations = observations.merge(sheep_species)\n",
    "sheep_observations"
   ]
  },
  {
   "cell_type": "markdown",
   "metadata": {
    "pycharm": {
     "name": "#%% md\n"
    }
   },
   "source": [
    "How many total sheep observations (across all three species) were made at each national park?  Use `groupby` to get the `sum` of `observations` for each `park_name`.  Save your answer to `obs_by_park`.\n",
    "\n",
    "This is the total number of sheep observed in each park over the past 7 days."
   ]
  },
  {
   "cell_type": "code",
   "execution_count": 42,
   "metadata": {
    "collapsed": true,
    "pycharm": {
     "name": "#%%\n"
    }
   },
   "outputs": [
    {
     "data": {
      "text/plain": "                             park_name  observations\n0                  Bryce National Park           250\n1  Great Smoky Mountains National Park           149\n2            Yellowstone National Park           507\n3               Yosemite National Park           282",
      "text/html": "<div>\n<style scoped>\n    .dataframe tbody tr th:only-of-type {\n        vertical-align: middle;\n    }\n\n    .dataframe tbody tr th {\n        vertical-align: top;\n    }\n\n    .dataframe thead th {\n        text-align: right;\n    }\n</style>\n<table border=\"1\" class=\"dataframe\">\n  <thead>\n    <tr style=\"text-align: right;\">\n      <th></th>\n      <th>park_name</th>\n      <th>observations</th>\n    </tr>\n  </thead>\n  <tbody>\n    <tr>\n      <th>0</th>\n      <td>Bryce National Park</td>\n      <td>250</td>\n    </tr>\n    <tr>\n      <th>1</th>\n      <td>Great Smoky Mountains National Park</td>\n      <td>149</td>\n    </tr>\n    <tr>\n      <th>2</th>\n      <td>Yellowstone National Park</td>\n      <td>507</td>\n    </tr>\n    <tr>\n      <th>3</th>\n      <td>Yosemite National Park</td>\n      <td>282</td>\n    </tr>\n  </tbody>\n</table>\n</div>"
     },
     "execution_count": 42,
     "metadata": {},
     "output_type": "execute_result"
    }
   ],
   "source": [
    "obs_by_park = sheep_observations.groupby('park_name').observations.sum().reset_index()\n",
    "obs_by_park"
   ]
  },
  {
   "cell_type": "markdown",
   "metadata": {
    "pycharm": {
     "name": "#%% md\n"
    }
   },
   "source": [
    "Create a bar chart showing the different number of observations per week at each park.\n",
    "\n",
    "1. Start by creating a wide figure with `figsize=(16, 4)`\n",
    "1. Start by creating an axes object called `ax` using `plt.subplot`.\n",
    "2. Create a bar chart whose heights are equal to `observations` column of `obs_by_park`.\n",
    "3. Create an x-tick for each of the bars.\n",
    "4. Label each x-tick with the label from `park_name` in `obs_by_park`\n",
    "5. Label the y-axis `Number of Observations`\n",
    "6. Title the graph `Observations of Sheep per Week`\n",
    "7. Plot the grap using `plt.show()`"
   ]
  },
  {
   "cell_type": "code",
   "execution_count": 43,
   "metadata": {
    "collapsed": true,
    "pycharm": {
     "name": "#%%\n"
    }
   },
   "outputs": [
    {
     "data": {
      "text/plain": "<Figure size 1152x288 with 1 Axes>",
      "image/png": "[encoded data removed]"
     },
     "metadata": {
      "needs_background": "light"
     },
     "output_type": "display_data"
    }
   ],
   "source": [
    "plt.figure(figsize=(16, 4))\n",
    "ax = plt.subplot()\n",
    "plt.bar(range(len(obs_by_park)), obs_by_park.observations.values)\n",
    "ax.set_xticks(range(len(obs_by_park)))\n",
    "ax.set_xticklabels(obs_by_park.park_name.values)\n",
    "plt.ylabel('Number of Observations')\n",
    "plt.title('Observations of Sheep per Week')\n",
    "plt.show()"
   ]
  },
  {
   "cell_type": "markdown",
   "metadata": {
    "pycharm": {
     "name": "#%% md\n"
    }
   },
   "source": [
    "Our scientists know that 15% of sheep at Bryce National Park have foot and mouth disease.  Park rangers at Yellowstone National Park have been running a program to reduce the rate of foot and mouth disease at that park.  The scientists want to test whether or not this program is working.  They want to be able to detect reductions of at least 5 percentage points.  For instance, if 10% of sheep in Yellowstone have foot and mouth disease, they'd like to be able to know this, with confidence.\n",
    "\n",
    "Use <a href=\"https://s3.amazonaws.com/codecademy-content/courses/learn-hypothesis-testing/a_b_sample_size/index.html\">Codecademy's sample size calculator</a> to calculate the number of sheep that they would need to observe from each park.  Use the default level of significance (90%).\n",
    "\n",
    "Remember that \"Minimum Detectable Effect\" is a percent of the baseline."
   ]
  },
  {
   "cell_type": "code",
   "execution_count": 45,
   "metadata": {
    "collapsed": true,
    "pycharm": {
     "name": "#%%\n"
    }
   },
   "outputs": [
    {
     "data": {
      "text/plain": "33.333333333333336"
     },
     "execution_count": 45,
     "metadata": {},
     "output_type": "execute_result"
    }
   ],
   "source": [
    "minimum_detectable_effect = 100 * 0.05 / 0.15\n",
    "minimum_detectable_effect"
   ]
  },
  {
   "cell_type": "markdown",
   "metadata": {
    "pycharm": {
     "name": "#%% md\n"
    }
   },
   "source": [
    "How many weeks would you need to observe sheep at Bryce National Park in order to observe enough sheep?  How many weeks would you need to observe at Yellowstone National Park to observe enough sheep?"
   ]
  },
  {
   "cell_type": "code",
   "execution_count": 46,
   "metadata": {
    "collapsed": true,
    "pycharm": {
     "name": "#%%\n"
    }
   },
   "outputs": [],
   "source": [
    "baseline = 15"
   ]
  },
  {
   "cell_type": "code",
   "execution_count": 47,
   "outputs": [
    {
     "data": {
      "text/plain": "(3.48, 1.5976331360946745)"
     },
     "execution_count": 47,
     "metadata": {},
     "output_type": "execute_result"
    }
   ],
   "source": [
    "sample_size_per_variant = 870\n",
    "\n",
    "bryce = 870 / 250\n",
    "yellowstone = 810 / 507\n",
    "bryce, yellowstone"
   ],
   "metadata": {
    "collapsed": false,
    "pycharm": {
     "name": "#%%\n"
    }
   }
  },
  {
   "cell_type": "code",
   "execution_count": null,
   "outputs": [],
   "source": [],
   "metadata": {
    "collapsed": false,
    "pycharm": {
     "name": "#%%\n"
    }
   }
  }
 ],
 "metadata": {
  "kernelspec": {
   "display_name": "Python 3",
   "language": "python",
   "name": "python3"
  },
  "language_info": {
   "codemirror_mode": {
    "name": "ipython",
    "version": 3
   },
   "file_extension": ".py",
   "mimetype": "text/x-python",
   "name": "python",
   "nbconvert_exporter": "python",
   "pygments_lexer": "ipython3",
   "version": "3.7.1"
  }
 },
 "nbformat": 4,
 "nbformat_minor": 2
}