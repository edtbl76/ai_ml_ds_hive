{
 "cells": [
  {
   "cell_type": "code",
   "execution_count": 1,
   "id": "aa453ac0",
   "metadata": {},
   "outputs": [
    {
     "data": {
      "text/plain": [
       "(500, 500)"
      ]
     },
     "execution_count": 1,
     "metadata": {},
     "output_type": "execute_result"
    }
   ],
   "source": [
    "control = 500\n",
    "variant = 500\n",
    "\n",
    "control, variant"
   ]
  },
  {
   "cell_type": "code",
   "execution_count": 2,
   "id": "ee817ec3",
   "metadata": {},
   "outputs": [
    {
     "data": {
      "text/plain": [
       "(0.602, 0.788)"
      ]
     },
     "execution_count": 2,
     "metadata": {},
     "output_type": "execute_result"
    }
   ],
   "source": [
    "control = 301 / 500\n",
    "variant = 394 / 500\n",
    "control, variant"
   ]
  },
  {
   "cell_type": "code",
   "execution_count": 3,
   "id": "d72d7b2f",
   "metadata": {},
   "outputs": [
    {
     "data": {
      "text/plain": [
       "(0.7940199335548173, 0.8527918781725888)"
      ]
     },
     "execution_count": 3,
     "metadata": {},
     "output_type": "execute_result"
    }
   ],
   "source": [
    "control = 239 / 301\n",
    "variant = 336 / 394\n",
    "control, variant"
   ]
  },
  {
   "cell_type": "code",
   "execution_count": 6,
   "id": "0ae5a62b",
   "metadata": {},
   "outputs": [
    {
     "data": {
      "text/plain": [
       "(0.7656903765690377, 0.7857142857142857)"
      ]
     },
     "execution_count": 6,
     "metadata": {},
     "output_type": "execute_result"
    }
   ],
   "source": [
    "control = 183/239\n",
    "variant = 264/336\n",
    "control, variant"
   ]
  },
  {
   "cell_type": "code",
   "execution_count": 7,
   "id": "8be84b96",
   "metadata": {},
   "outputs": [
    {
     "data": {
      "text/plain": [
       "(0.8306010928961749, 0.8598484848484849)"
      ]
     },
     "execution_count": 7,
     "metadata": {},
     "output_type": "execute_result"
    }
   ],
   "source": [
    "control = 152/183\n",
    "variant = 227/264\n",
    "control, variant"
   ]
  },
  {
   "cell_type": "code",
   "execution_count": 9,
   "id": "ff84abfe",
   "metadata": {},
   "outputs": [],
   "source": [
    "q1 = 500\n",
    "q2 = 475\n",
    "q3 = 380\n",
    "q4 = 361\n",
    "q5 = 270"
   ]
  },
  {
   "cell_type": "code",
   "execution_count": 10,
   "id": "0e1fb836",
   "metadata": {},
   "outputs": [
    {
     "data": {
      "text/plain": [
       "(1.0, 0.95, 0.8, 0.95, 0.7479224376731302)"
      ]
     },
     "execution_count": 10,
     "metadata": {},
     "output_type": "execute_result"
    }
   ],
   "source": [
    "p1 = q1/q1\n",
    "p2 = q2/q1\n",
    "p3 = q3/q2\n",
    "p4 = q4/q3\n",
    "p5 = q5/q4\n",
    "\n",
    "p1, p2, p3, p4, p5"
   ]
  }
 ],
 "metadata": {
  "kernelspec": {
   "display_name": "Python 3 (ipykernel)",
   "language": "python",
   "name": "python3"
  },
  "language_info": {
   "codemirror_mode": {
    "name": "ipython",
    "version": 3
   },
   "file_extension": ".py",
   "mimetype": "text/x-python",
   "name": "python",
   "nbconvert_exporter": "python",
   "pygments_lexer": "ipython3",
   "version": "3.9.12"
  }
 },
 "nbformat": 4,
 "nbformat_minor": 5
}
