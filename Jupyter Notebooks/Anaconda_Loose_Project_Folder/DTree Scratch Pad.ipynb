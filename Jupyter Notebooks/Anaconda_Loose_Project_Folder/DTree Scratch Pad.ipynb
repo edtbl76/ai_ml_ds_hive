{
 "cells": [
  {
   "cell_type": "code",
   "execution_count": 1,
   "id": "4e801ddd",
   "metadata": {},
   "outputs": [
    {
     "data": {
      "text/plain": [
       "0.31999999999999984"
      ]
     },
     "execution_count": 1,
     "metadata": {},
     "output_type": "execute_result"
    }
   ],
   "source": [
    "p1 = 20/100\n",
    "p2 = 80/100\n",
    "1 - ((p1**2)+(p2**2))"
   ]
  },
  {
   "cell_type": "code",
   "execution_count": 2,
   "id": "e6d85eef",
   "metadata": {},
   "outputs": [
    {
     "data": {
      "text/plain": [
       "0.5"
      ]
     },
     "execution_count": 2,
     "metadata": {},
     "output_type": "execute_result"
    }
   ],
   "source": [
    "p1 = 50/100\n",
    "p2 = 50/100\n",
    "1 - ((p1**2)+(p2**2))"
   ]
  },
  {
   "cell_type": "code",
   "execution_count": 15,
   "id": "47469b31",
   "metadata": {},
   "outputs": [
    {
     "data": {
      "text/plain": [
       "0.31999999999999984"
      ]
     },
     "execution_count": 15,
     "metadata": {},
     "output_type": "execute_result"
    }
   ],
   "source": [
    "p1 = 20/100\n",
    "p2 = 80/100\n",
    "1 - ((p1**2)+(p2**2))"
   ]
  },
  {
   "cell_type": "code",
   "execution_count": 4,
   "id": "fe7b0cb4",
   "metadata": {},
   "outputs": [
    {
     "data": {
      "text/plain": [
       "0.17999999999999994"
      ]
     },
     "execution_count": 4,
     "metadata": {},
     "output_type": "execute_result"
    }
   ],
   "source": [
    "p1 = 10/100\n",
    "p2 = 90/100\n",
    "1 - ((p1**2)+(p2**2))"
   ]
  },
  {
   "cell_type": "code",
   "execution_count": 17,
   "id": "81111384",
   "metadata": {},
   "outputs": [
    {
     "name": "stdout",
     "output_type": "stream",
     "text": [
      "0.31999999999999984\n"
     ]
    },
    {
     "data": {
      "text/plain": [
       "0.09375"
      ]
     },
     "execution_count": 17,
     "metadata": {},
     "output_type": "execute_result"
    }
   ],
   "source": [
    "p1 = 20/100\n",
    "p2 = 80/100\n",
    "gi1 = 1 - ((p1**2)+(p2**2))\n",
    "print(gi1)\n",
    "\n",
    "left = 0\n",
    "p1 = 5/80\n",
    "p2 = 75/80\n",
    "gi2 = 1 - ((p1**2)+(p2**2))\n",
    "right = .8 * gi2\n",
    "right"
   ]
  }
 ],
 "metadata": {
  "kernelspec": {
   "display_name": "Python 3 (ipykernel)",
   "language": "python",
   "name": "python3"
  },
  "language_info": {
   "codemirror_mode": {
    "name": "ipython",
    "version": 3
   },
   "file_extension": ".py",
   "mimetype": "text/x-python",
   "name": "python",
   "nbconvert_exporter": "python",
   "pygments_lexer": "ipython3",
   "version": "3.9.12"
  }
 },
 "nbformat": 4,
 "nbformat_minor": 5
}
