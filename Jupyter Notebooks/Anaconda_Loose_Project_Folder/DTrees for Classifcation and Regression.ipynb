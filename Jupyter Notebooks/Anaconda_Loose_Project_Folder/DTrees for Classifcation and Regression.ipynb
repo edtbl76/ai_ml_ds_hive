{
 "cells": [
  {
   "cell_type": "code",
   "execution_count": 155,
   "id": "d1a5dba5",
   "metadata": {},
   "outputs": [
    {
     "data": {
      "text/plain": [
       "Index(['serial_no.', 'gre_score', 'toefl_score', 'university_rating', 'sop',\n",
       "       'lor', 'cgpa', 'research', 'chance_of_admit'],\n",
       "      dtype='object')"
      ]
     },
     "execution_count": 155,
     "metadata": {},
     "output_type": "execute_result"
    }
   ],
   "source": [
    "import pandas as pd\n",
    "import numpy as np\n",
    "from sklearn.model_selection import train_test_split\n",
    "from sklearn.tree import DecisionTreeRegressor, DecisionTreeClassifier\n",
    "from sklearn.metrics import accuracy_score\n",
    "from sklearn.tree import plot_tree, export_text\n",
    "from matplotlib import pyplot as plt\n",
    "df = pd.read_csv('Admission_Predict.csv')\n",
    "df.columns = df.columns.str.strip().str.replace(' ','_').str.lower()\n",
    "df.columns"
   ]
  },
  {
   "cell_type": "code",
   "execution_count": 142,
   "id": "95e1ed48",
   "metadata": {},
   "outputs": [],
   "source": [
    "# Create a binary class (1=admission likely, 0- admiission unlikely)\n",
    "# from 'chance_of_admit >= .8'\n",
    "# remaining columns are predictors/labels\n",
    "x = df.loc[:,'gre_score':'research']\n",
    "y = df['chance_of_admit'] >= 0.8"
   ]
  },
  {
   "cell_type": "code",
   "execution_count": 143,
   "id": "93a2852b",
   "metadata": {},
   "outputs": [
    {
     "data": {
      "text/html": [
       "<div>\n",
       "<style scoped>\n",
       "    .dataframe tbody tr th:only-of-type {\n",
       "        vertical-align: middle;\n",
       "    }\n",
       "\n",
       "    .dataframe tbody tr th {\n",
       "        vertical-align: top;\n",
       "    }\n",
       "\n",
       "    .dataframe thead th {\n",
       "        text-align: right;\n",
       "    }\n",
       "</style>\n",
       "<table border=\"1\" class=\"dataframe\">\n",
       "  <thead>\n",
       "    <tr style=\"text-align: right;\">\n",
       "      <th></th>\n",
       "      <th>gre_score</th>\n",
       "      <th>toefl_score</th>\n",
       "      <th>university_rating</th>\n",
       "      <th>sop</th>\n",
       "      <th>lor</th>\n",
       "      <th>cgpa</th>\n",
       "      <th>research</th>\n",
       "    </tr>\n",
       "  </thead>\n",
       "  <tbody>\n",
       "    <tr>\n",
       "      <th>0</th>\n",
       "      <td>337</td>\n",
       "      <td>118</td>\n",
       "      <td>4</td>\n",
       "      <td>4.5</td>\n",
       "      <td>4.5</td>\n",
       "      <td>9.65</td>\n",
       "      <td>1</td>\n",
       "    </tr>\n",
       "    <tr>\n",
       "      <th>1</th>\n",
       "      <td>324</td>\n",
       "      <td>107</td>\n",
       "      <td>4</td>\n",
       "      <td>4.0</td>\n",
       "      <td>4.5</td>\n",
       "      <td>8.87</td>\n",
       "      <td>1</td>\n",
       "    </tr>\n",
       "    <tr>\n",
       "      <th>2</th>\n",
       "      <td>316</td>\n",
       "      <td>104</td>\n",
       "      <td>3</td>\n",
       "      <td>3.0</td>\n",
       "      <td>3.5</td>\n",
       "      <td>8.00</td>\n",
       "      <td>1</td>\n",
       "    </tr>\n",
       "    <tr>\n",
       "      <th>3</th>\n",
       "      <td>322</td>\n",
       "      <td>110</td>\n",
       "      <td>3</td>\n",
       "      <td>3.5</td>\n",
       "      <td>2.5</td>\n",
       "      <td>8.67</td>\n",
       "      <td>1</td>\n",
       "    </tr>\n",
       "    <tr>\n",
       "      <th>4</th>\n",
       "      <td>314</td>\n",
       "      <td>103</td>\n",
       "      <td>2</td>\n",
       "      <td>2.0</td>\n",
       "      <td>3.0</td>\n",
       "      <td>8.21</td>\n",
       "      <td>0</td>\n",
       "    </tr>\n",
       "    <tr>\n",
       "      <th>...</th>\n",
       "      <td>...</td>\n",
       "      <td>...</td>\n",
       "      <td>...</td>\n",
       "      <td>...</td>\n",
       "      <td>...</td>\n",
       "      <td>...</td>\n",
       "      <td>...</td>\n",
       "    </tr>\n",
       "    <tr>\n",
       "      <th>395</th>\n",
       "      <td>324</td>\n",
       "      <td>110</td>\n",
       "      <td>3</td>\n",
       "      <td>3.5</td>\n",
       "      <td>3.5</td>\n",
       "      <td>9.04</td>\n",
       "      <td>1</td>\n",
       "    </tr>\n",
       "    <tr>\n",
       "      <th>396</th>\n",
       "      <td>325</td>\n",
       "      <td>107</td>\n",
       "      <td>3</td>\n",
       "      <td>3.0</td>\n",
       "      <td>3.5</td>\n",
       "      <td>9.11</td>\n",
       "      <td>1</td>\n",
       "    </tr>\n",
       "    <tr>\n",
       "      <th>397</th>\n",
       "      <td>330</td>\n",
       "      <td>116</td>\n",
       "      <td>4</td>\n",
       "      <td>5.0</td>\n",
       "      <td>4.5</td>\n",
       "      <td>9.45</td>\n",
       "      <td>1</td>\n",
       "    </tr>\n",
       "    <tr>\n",
       "      <th>398</th>\n",
       "      <td>312</td>\n",
       "      <td>103</td>\n",
       "      <td>3</td>\n",
       "      <td>3.5</td>\n",
       "      <td>4.0</td>\n",
       "      <td>8.78</td>\n",
       "      <td>0</td>\n",
       "    </tr>\n",
       "    <tr>\n",
       "      <th>399</th>\n",
       "      <td>333</td>\n",
       "      <td>117</td>\n",
       "      <td>4</td>\n",
       "      <td>5.0</td>\n",
       "      <td>4.0</td>\n",
       "      <td>9.66</td>\n",
       "      <td>1</td>\n",
       "    </tr>\n",
       "  </tbody>\n",
       "</table>\n",
       "<p>400 rows × 7 columns</p>\n",
       "</div>"
      ],
      "text/plain": [
       "     gre_score  toefl_score  university_rating  sop  lor  cgpa  research\n",
       "0          337          118                  4  4.5  4.5  9.65         1\n",
       "1          324          107                  4  4.0  4.5  8.87         1\n",
       "2          316          104                  3  3.0  3.5  8.00         1\n",
       "3          322          110                  3  3.5  2.5  8.67         1\n",
       "4          314          103                  2  2.0  3.0  8.21         0\n",
       "..         ...          ...                ...  ...  ...   ...       ...\n",
       "395        324          110                  3  3.5  3.5  9.04         1\n",
       "396        325          107                  3  3.0  3.5  9.11         1\n",
       "397        330          116                  4  5.0  4.5  9.45         1\n",
       "398        312          103                  3  3.5  4.0  8.78         0\n",
       "399        333          117                  4  5.0  4.0  9.66         1\n",
       "\n",
       "[400 rows x 7 columns]"
      ]
     },
     "execution_count": 143,
     "metadata": {},
     "output_type": "execute_result"
    }
   ],
   "source": [
    "x"
   ]
  },
  {
   "cell_type": "code",
   "execution_count": 144,
   "id": "2e2bd141",
   "metadata": {},
   "outputs": [
    {
     "data": {
      "text/plain": [
       "0       True\n",
       "1      False\n",
       "2      False\n",
       "3       True\n",
       "4      False\n",
       "       ...  \n",
       "395     True\n",
       "396     True\n",
       "397     True\n",
       "398    False\n",
       "399     True\n",
       "Name: chance_of_admit, Length: 400, dtype: bool"
      ]
     },
     "execution_count": 144,
     "metadata": {},
     "output_type": "execute_result"
    }
   ],
   "source": [
    "y"
   ]
  },
  {
   "cell_type": "code",
   "execution_count": 145,
   "id": "1190d4d1",
   "metadata": {},
   "outputs": [],
   "source": [
    "# split our data\n",
    "x_train, x_test, y_train, y_test = train_test_split(x, y, random_state=0, test_size=0.2)"
   ]
  },
  {
   "cell_type": "code",
   "execution_count": 146,
   "id": "8cc1a1cc",
   "metadata": {},
   "outputs": [
    {
     "data": {
      "text/html": [
       "<div>\n",
       "<style scoped>\n",
       "    .dataframe tbody tr th:only-of-type {\n",
       "        vertical-align: middle;\n",
       "    }\n",
       "\n",
       "    .dataframe tbody tr th {\n",
       "        vertical-align: top;\n",
       "    }\n",
       "\n",
       "    .dataframe thead th {\n",
       "        text-align: right;\n",
       "    }\n",
       "</style>\n",
       "<table border=\"1\" class=\"dataframe\">\n",
       "  <thead>\n",
       "    <tr style=\"text-align: right;\">\n",
       "      <th></th>\n",
       "      <th>gre_score</th>\n",
       "      <th>toefl_score</th>\n",
       "      <th>university_rating</th>\n",
       "      <th>sop</th>\n",
       "      <th>lor</th>\n",
       "      <th>cgpa</th>\n",
       "      <th>research</th>\n",
       "      <th>chance_of_admit</th>\n",
       "    </tr>\n",
       "  </thead>\n",
       "  <tbody>\n",
       "    <tr>\n",
       "      <th>336</th>\n",
       "      <td>319</td>\n",
       "      <td>110</td>\n",
       "      <td>3</td>\n",
       "      <td>3.0</td>\n",
       "      <td>2.5</td>\n",
       "      <td>8.79</td>\n",
       "      <td>0</td>\n",
       "      <td>False</td>\n",
       "    </tr>\n",
       "    <tr>\n",
       "      <th>64</th>\n",
       "      <td>325</td>\n",
       "      <td>111</td>\n",
       "      <td>3</td>\n",
       "      <td>3.0</td>\n",
       "      <td>3.5</td>\n",
       "      <td>8.70</td>\n",
       "      <td>0</td>\n",
       "      <td>False</td>\n",
       "    </tr>\n",
       "    <tr>\n",
       "      <th>55</th>\n",
       "      <td>320</td>\n",
       "      <td>103</td>\n",
       "      <td>3</td>\n",
       "      <td>3.0</td>\n",
       "      <td>3.0</td>\n",
       "      <td>7.70</td>\n",
       "      <td>0</td>\n",
       "      <td>False</td>\n",
       "    </tr>\n",
       "    <tr>\n",
       "      <th>106</th>\n",
       "      <td>329</td>\n",
       "      <td>111</td>\n",
       "      <td>4</td>\n",
       "      <td>4.5</td>\n",
       "      <td>4.5</td>\n",
       "      <td>9.18</td>\n",
       "      <td>1</td>\n",
       "      <td>True</td>\n",
       "    </tr>\n",
       "    <tr>\n",
       "      <th>300</th>\n",
       "      <td>309</td>\n",
       "      <td>106</td>\n",
       "      <td>2</td>\n",
       "      <td>2.5</td>\n",
       "      <td>2.5</td>\n",
       "      <td>8.00</td>\n",
       "      <td>0</td>\n",
       "      <td>False</td>\n",
       "    </tr>\n",
       "    <tr>\n",
       "      <th>...</th>\n",
       "      <td>...</td>\n",
       "      <td>...</td>\n",
       "      <td>...</td>\n",
       "      <td>...</td>\n",
       "      <td>...</td>\n",
       "      <td>...</td>\n",
       "      <td>...</td>\n",
       "      <td>...</td>\n",
       "    </tr>\n",
       "    <tr>\n",
       "      <th>323</th>\n",
       "      <td>305</td>\n",
       "      <td>102</td>\n",
       "      <td>2</td>\n",
       "      <td>2.0</td>\n",
       "      <td>2.5</td>\n",
       "      <td>8.18</td>\n",
       "      <td>0</td>\n",
       "      <td>False</td>\n",
       "    </tr>\n",
       "    <tr>\n",
       "      <th>192</th>\n",
       "      <td>322</td>\n",
       "      <td>114</td>\n",
       "      <td>5</td>\n",
       "      <td>4.5</td>\n",
       "      <td>4.0</td>\n",
       "      <td>8.94</td>\n",
       "      <td>1</td>\n",
       "      <td>True</td>\n",
       "    </tr>\n",
       "    <tr>\n",
       "      <th>117</th>\n",
       "      <td>290</td>\n",
       "      <td>104</td>\n",
       "      <td>4</td>\n",
       "      <td>2.0</td>\n",
       "      <td>2.5</td>\n",
       "      <td>7.46</td>\n",
       "      <td>0</td>\n",
       "      <td>False</td>\n",
       "    </tr>\n",
       "    <tr>\n",
       "      <th>47</th>\n",
       "      <td>339</td>\n",
       "      <td>119</td>\n",
       "      <td>5</td>\n",
       "      <td>4.5</td>\n",
       "      <td>4.0</td>\n",
       "      <td>9.70</td>\n",
       "      <td>0</td>\n",
       "      <td>True</td>\n",
       "    </tr>\n",
       "    <tr>\n",
       "      <th>172</th>\n",
       "      <td>322</td>\n",
       "      <td>110</td>\n",
       "      <td>4</td>\n",
       "      <td>4.0</td>\n",
       "      <td>5.0</td>\n",
       "      <td>9.13</td>\n",
       "      <td>1</td>\n",
       "      <td>True</td>\n",
       "    </tr>\n",
       "  </tbody>\n",
       "</table>\n",
       "<p>320 rows × 8 columns</p>\n",
       "</div>"
      ],
      "text/plain": [
       "     gre_score  toefl_score  university_rating  sop  lor  cgpa  research  \\\n",
       "336        319          110                  3  3.0  2.5  8.79         0   \n",
       "64         325          111                  3  3.0  3.5  8.70         0   \n",
       "55         320          103                  3  3.0  3.0  7.70         0   \n",
       "106        329          111                  4  4.5  4.5  9.18         1   \n",
       "300        309          106                  2  2.5  2.5  8.00         0   \n",
       "..         ...          ...                ...  ...  ...   ...       ...   \n",
       "323        305          102                  2  2.0  2.5  8.18         0   \n",
       "192        322          114                  5  4.5  4.0  8.94         1   \n",
       "117        290          104                  4  2.0  2.5  7.46         0   \n",
       "47         339          119                  5  4.5  4.0  9.70         0   \n",
       "172        322          110                  4  4.0  5.0  9.13         1   \n",
       "\n",
       "     chance_of_admit  \n",
       "336            False  \n",
       "64             False  \n",
       "55             False  \n",
       "106             True  \n",
       "300            False  \n",
       "..               ...  \n",
       "323            False  \n",
       "192             True  \n",
       "117            False  \n",
       "47              True  \n",
       "172             True  \n",
       "\n",
       "[320 rows x 8 columns]"
      ]
     },
     "execution_count": 146,
     "metadata": {},
     "output_type": "execute_result"
    }
   ],
   "source": [
    "compare_training = pd.DataFrame(x_train)\n",
    "compare_training['chance_of_admit'] = y_train\n",
    "compare_training"
   ]
  },
  {
   "cell_type": "code",
   "execution_count": 147,
   "id": "9906d7c2",
   "metadata": {},
   "outputs": [
    {
     "data": {
      "text/html": [
       "<div>\n",
       "<style scoped>\n",
       "    .dataframe tbody tr th:only-of-type {\n",
       "        vertical-align: middle;\n",
       "    }\n",
       "\n",
       "    .dataframe tbody tr th {\n",
       "        vertical-align: top;\n",
       "    }\n",
       "\n",
       "    .dataframe thead th {\n",
       "        text-align: right;\n",
       "    }\n",
       "</style>\n",
       "<table border=\"1\" class=\"dataframe\">\n",
       "  <thead>\n",
       "    <tr style=\"text-align: right;\">\n",
       "      <th></th>\n",
       "      <th>gre_score</th>\n",
       "      <th>toefl_score</th>\n",
       "      <th>university_rating</th>\n",
       "      <th>sop</th>\n",
       "      <th>lor</th>\n",
       "      <th>cgpa</th>\n",
       "      <th>research</th>\n",
       "      <th>chance_of_admit</th>\n",
       "    </tr>\n",
       "  </thead>\n",
       "  <tbody>\n",
       "    <tr>\n",
       "      <th>132</th>\n",
       "      <td>309</td>\n",
       "      <td>105</td>\n",
       "      <td>5</td>\n",
       "      <td>3.5</td>\n",
       "      <td>3.5</td>\n",
       "      <td>8.56</td>\n",
       "      <td>0</td>\n",
       "      <td>False</td>\n",
       "    </tr>\n",
       "    <tr>\n",
       "      <th>309</th>\n",
       "      <td>308</td>\n",
       "      <td>110</td>\n",
       "      <td>4</td>\n",
       "      <td>3.5</td>\n",
       "      <td>3.0</td>\n",
       "      <td>8.60</td>\n",
       "      <td>0</td>\n",
       "      <td>False</td>\n",
       "    </tr>\n",
       "    <tr>\n",
       "      <th>341</th>\n",
       "      <td>326</td>\n",
       "      <td>110</td>\n",
       "      <td>3</td>\n",
       "      <td>3.5</td>\n",
       "      <td>3.5</td>\n",
       "      <td>8.76</td>\n",
       "      <td>1</td>\n",
       "      <td>False</td>\n",
       "    </tr>\n",
       "    <tr>\n",
       "      <th>196</th>\n",
       "      <td>306</td>\n",
       "      <td>105</td>\n",
       "      <td>2</td>\n",
       "      <td>3.0</td>\n",
       "      <td>2.5</td>\n",
       "      <td>8.26</td>\n",
       "      <td>0</td>\n",
       "      <td>False</td>\n",
       "    </tr>\n",
       "    <tr>\n",
       "      <th>246</th>\n",
       "      <td>316</td>\n",
       "      <td>105</td>\n",
       "      <td>3</td>\n",
       "      <td>3.0</td>\n",
       "      <td>3.5</td>\n",
       "      <td>8.73</td>\n",
       "      <td>0</td>\n",
       "      <td>False</td>\n",
       "    </tr>\n",
       "    <tr>\n",
       "      <th>...</th>\n",
       "      <td>...</td>\n",
       "      <td>...</td>\n",
       "      <td>...</td>\n",
       "      <td>...</td>\n",
       "      <td>...</td>\n",
       "      <td>...</td>\n",
       "      <td>...</td>\n",
       "      <td>...</td>\n",
       "    </tr>\n",
       "    <tr>\n",
       "      <th>14</th>\n",
       "      <td>311</td>\n",
       "      <td>104</td>\n",
       "      <td>3</td>\n",
       "      <td>3.5</td>\n",
       "      <td>2.0</td>\n",
       "      <td>8.20</td>\n",
       "      <td>1</td>\n",
       "      <td>False</td>\n",
       "    </tr>\n",
       "    <tr>\n",
       "      <th>363</th>\n",
       "      <td>306</td>\n",
       "      <td>103</td>\n",
       "      <td>2</td>\n",
       "      <td>2.5</td>\n",
       "      <td>3.0</td>\n",
       "      <td>8.36</td>\n",
       "      <td>0</td>\n",
       "      <td>False</td>\n",
       "    </tr>\n",
       "    <tr>\n",
       "      <th>304</th>\n",
       "      <td>313</td>\n",
       "      <td>106</td>\n",
       "      <td>2</td>\n",
       "      <td>2.5</td>\n",
       "      <td>2.0</td>\n",
       "      <td>8.43</td>\n",
       "      <td>0</td>\n",
       "      <td>False</td>\n",
       "    </tr>\n",
       "    <tr>\n",
       "      <th>361</th>\n",
       "      <td>334</td>\n",
       "      <td>116</td>\n",
       "      <td>4</td>\n",
       "      <td>4.0</td>\n",
       "      <td>3.5</td>\n",
       "      <td>9.54</td>\n",
       "      <td>1</td>\n",
       "      <td>True</td>\n",
       "    </tr>\n",
       "    <tr>\n",
       "      <th>329</th>\n",
       "      <td>297</td>\n",
       "      <td>96</td>\n",
       "      <td>2</td>\n",
       "      <td>2.5</td>\n",
       "      <td>1.5</td>\n",
       "      <td>7.89</td>\n",
       "      <td>0</td>\n",
       "      <td>False</td>\n",
       "    </tr>\n",
       "  </tbody>\n",
       "</table>\n",
       "<p>80 rows × 8 columns</p>\n",
       "</div>"
      ],
      "text/plain": [
       "     gre_score  toefl_score  university_rating  sop  lor  cgpa  research  \\\n",
       "132        309          105                  5  3.5  3.5  8.56         0   \n",
       "309        308          110                  4  3.5  3.0  8.60         0   \n",
       "341        326          110                  3  3.5  3.5  8.76         1   \n",
       "196        306          105                  2  3.0  2.5  8.26         0   \n",
       "246        316          105                  3  3.0  3.5  8.73         0   \n",
       "..         ...          ...                ...  ...  ...   ...       ...   \n",
       "14         311          104                  3  3.5  2.0  8.20         1   \n",
       "363        306          103                  2  2.5  3.0  8.36         0   \n",
       "304        313          106                  2  2.5  2.0  8.43         0   \n",
       "361        334          116                  4  4.0  3.5  9.54         1   \n",
       "329        297           96                  2  2.5  1.5  7.89         0   \n",
       "\n",
       "     chance_of_admit  \n",
       "132            False  \n",
       "309            False  \n",
       "341            False  \n",
       "196            False  \n",
       "246            False  \n",
       "..               ...  \n",
       "14             False  \n",
       "363            False  \n",
       "304            False  \n",
       "361             True  \n",
       "329            False  \n",
       "\n",
       "[80 rows x 8 columns]"
      ]
     },
     "execution_count": 147,
     "metadata": {},
     "output_type": "execute_result"
    }
   ],
   "source": [
    "compare_test = pd.DataFrame(x_test)\n",
    "compare_test['chance_of_admit'] = y_test\n",
    "compare_test"
   ]
  },
  {
   "cell_type": "code",
   "execution_count": 148,
   "id": "7b646371",
   "metadata": {},
   "outputs": [
    {
     "data": {
      "text/plain": [
       "DecisionTreeClassifier(ccp_alpha=0.01, max_depth=2)"
      ]
     },
     "execution_count": 148,
     "metadata": {},
     "output_type": "execute_result"
    }
   ],
   "source": [
    "# Create DT Classifier\n",
    "dt = DecisionTreeClassifier(max_depth=2, ccp_alpha=0.01, criterion='gini')\n",
    "dt"
   ]
  },
  {
   "cell_type": "code",
   "execution_count": 149,
   "id": "52b8ac47",
   "metadata": {},
   "outputs": [
    {
     "data": {
      "text/plain": [
       "DecisionTreeClassifier(ccp_alpha=0.01, max_depth=2)"
      ]
     },
     "execution_count": 149,
     "metadata": {},
     "output_type": "execute_result"
    }
   ],
   "source": [
    "# Fit it\n",
    "dt.fit(x_train, y_train)"
   ]
  },
  {
   "cell_type": "code",
   "execution_count": 150,
   "id": "98764a3d",
   "metadata": {},
   "outputs": [
    {
     "data": {
      "text/plain": [
       "array([False, False, False, False, False, False, False, False,  True,\n",
       "        True, False,  True, False, False, False, False, False,  True,\n",
       "       False, False,  True,  True, False, False,  True, False, False,\n",
       "       False,  True, False, False, False, False, False, False, False,\n",
       "       False,  True, False,  True, False, False, False, False,  True,\n",
       "       False, False, False, False, False, False,  True, False,  True,\n",
       "       False, False, False, False, False,  True, False, False, False,\n",
       "       False,  True,  True,  True,  True,  True, False, False,  True,\n",
       "       False, False,  True, False, False, False,  True, False])"
      ]
     },
     "execution_count": 150,
     "metadata": {},
     "output_type": "execute_result"
    }
   ],
   "source": [
    "# Predict outcome based on test data\n",
    "y_predict = dt.predict(x_test)\n",
    "y_predict"
   ]
  },
  {
   "cell_type": "code",
   "execution_count": 151,
   "id": "65179504",
   "metadata": {},
   "outputs": [
    {
     "data": {
      "text/plain": [
       "1.0"
      ]
     },
     "execution_count": 151,
     "metadata": {},
     "output_type": "execute_result"
    }
   ],
   "source": [
    "# Check Score\n",
    "dt.score(x_test, y_test)"
   ]
  },
  {
   "cell_type": "code",
   "execution_count": 152,
   "id": "c908104a",
   "metadata": {},
   "outputs": [
    {
     "data": {
      "text/plain": [
       "1.0"
      ]
     },
     "execution_count": 152,
     "metadata": {},
     "output_type": "execute_result"
    }
   ],
   "source": [
    "# Get Accuracy Score\n",
    "accuracy_score(y_test, y_predict)"
   ]
  },
  {
   "cell_type": "code",
   "execution_count": 153,
   "id": "1a24f943",
   "metadata": {},
   "outputs": [
    {
     "data": {
      "text/plain": [
       "[Text(0.5, 0.75, 'chance_of_admit <= 0.5\\ngini = 0.443\\nsamples = 320\\nvalue = [214, 106]\\nclass = unlikely admit'),\n",
       " Text(0.25, 0.25, '0.0\\n214\\n[214, 0]\\nunlikely admit'),\n",
       " Text(0.75, 0.25, '0.0\\n106\\n[0, 106]\\nlikely admit')]"
      ]
     },
     "execution_count": 153,
     "metadata": {},
     "output_type": "execute_result"
    },
    {
     "data": {
      "image/png": "[encoded data removed]",
      "text/plain": [
       "<Figure size 432x288 with 1 Axes>"
      ]
     },
     "metadata": {
      "needs_background": "light"
     },
     "output_type": "display_data"
    }
   ],
   "source": [
    "# Plot that fucker\n",
    "plot_tree(dt, feature_names=x_train.columns, max_depth=3, class_names = ['unlikely admit', 'likely admit'], label='root', filled=True)\n"
   ]
  },
  {
   "cell_type": "code",
   "execution_count": 154,
   "id": "460288b9",
   "metadata": {},
   "outputs": [
    {
     "ename": "ValueError",
     "evalue": "feature_names must contain 8 elements, got 7",
     "output_type": "error",
     "traceback": [
      "\u001b[0;31m---------------------------------------------------------------------------\u001b[0m",
      "\u001b[0;31mValueError\u001b[0m                                Traceback (most recent call last)",
      "Input \u001b[0;32mIn [154]\u001b[0m, in \u001b[0;36m<cell line: 1>\u001b[0;34m()\u001b[0m\n\u001b[0;32m----> 1\u001b[0m \u001b[38;5;28mprint\u001b[39m(\u001b[43mexport_text\u001b[49m\u001b[43m(\u001b[49m\u001b[43mdt\u001b[49m\u001b[43m,\u001b[49m\u001b[43m \u001b[49m\u001b[43mfeature_names\u001b[49m\u001b[38;5;241;43m=\u001b[39;49m\u001b[43m \u001b[49m\u001b[43mx\u001b[49m\u001b[38;5;241;43m.\u001b[39;49m\u001b[43mcolumns\u001b[49m\u001b[38;5;241;43m.\u001b[39;49m\u001b[43mtolist\u001b[49m\u001b[43m(\u001b[49m\u001b[43m)\u001b[49m\u001b[43m)\u001b[49m)\n",
      "File \u001b[0;32m~/opt/anaconda3/lib/python3.9/site-packages/sklearn/tree/_export.py:999\u001b[0m, in \u001b[0;36mexport_text\u001b[0;34m(decision_tree, feature_names, max_depth, spacing, decimals, show_weights)\u001b[0m\n\u001b[1;32m    996\u001b[0m     \u001b[38;5;28;01mraise\u001b[39;00m \u001b[38;5;167;01mValueError\u001b[39;00m(\u001b[38;5;124m\"\u001b[39m\u001b[38;5;124mmax_depth bust be >= 0, given \u001b[39m\u001b[38;5;132;01m%d\u001b[39;00m\u001b[38;5;124m\"\u001b[39m \u001b[38;5;241m%\u001b[39m max_depth)\n\u001b[1;32m    998\u001b[0m \u001b[38;5;28;01mif\u001b[39;00m feature_names \u001b[38;5;129;01mis\u001b[39;00m \u001b[38;5;129;01mnot\u001b[39;00m \u001b[38;5;28;01mNone\u001b[39;00m \u001b[38;5;129;01mand\u001b[39;00m \u001b[38;5;28mlen\u001b[39m(feature_names) \u001b[38;5;241m!=\u001b[39m tree_\u001b[38;5;241m.\u001b[39mn_features:\n\u001b[0;32m--> 999\u001b[0m     \u001b[38;5;28;01mraise\u001b[39;00m \u001b[38;5;167;01mValueError\u001b[39;00m(\n\u001b[1;32m   1000\u001b[0m         \u001b[38;5;124m\"\u001b[39m\u001b[38;5;124mfeature_names must contain \u001b[39m\u001b[38;5;132;01m%d\u001b[39;00m\u001b[38;5;124m elements, got \u001b[39m\u001b[38;5;132;01m%d\u001b[39;00m\u001b[38;5;124m\"\u001b[39m\n\u001b[1;32m   1001\u001b[0m         \u001b[38;5;241m%\u001b[39m (tree_\u001b[38;5;241m.\u001b[39mn_features, \u001b[38;5;28mlen\u001b[39m(feature_names))\n\u001b[1;32m   1002\u001b[0m     )\n\u001b[1;32m   1004\u001b[0m \u001b[38;5;28;01mif\u001b[39;00m spacing \u001b[38;5;241m<\u001b[39m\u001b[38;5;241m=\u001b[39m \u001b[38;5;241m0\u001b[39m:\n\u001b[1;32m   1005\u001b[0m     \u001b[38;5;28;01mraise\u001b[39;00m \u001b[38;5;167;01mValueError\u001b[39;00m(\u001b[38;5;124m\"\u001b[39m\u001b[38;5;124mspacing must be > 0, given \u001b[39m\u001b[38;5;132;01m%d\u001b[39;00m\u001b[38;5;124m\"\u001b[39m \u001b[38;5;241m%\u001b[39m spacing)\n",
      "\u001b[0;31mValueError\u001b[0m: feature_names must contain 8 elements, got 7"
     ]
    }
   ],
   "source": [
    "print(export_text(dt, feature_names= x.columns.tolist()))"
   ]
  },
  {
   "cell_type": "code",
   "execution_count": null,
   "id": "98c1a0f6",
   "metadata": {},
   "outputs": [],
   "source": [
    "# Create a function to caldulate the Gini IMpurity Score\n",
    "def gini(data):\n",
    "    ''' Calculate Gini Impurity Score '''\n",
    "    data = pd.Series(data)\n",
    "    return 1 - sum(data.value_counts(normalize=True)**2)"
   ]
  },
  {
   "cell_type": "code",
   "execution_count": null,
   "id": "2a5af32c",
   "metadata": {},
   "outputs": [],
   "source": [
    "# Create a function to calculate the information gain\n",
    "def info_gain(left, right, current_impurity):\n",
    "    '''\n",
    "        Information Gain associated w/ creating a node split data\n",
    "        \n",
    "        Input: \n",
    "            left, right are the data in the left and right branches repsectively\n",
    "            current_impurity is the data impurity before splitting into the left and right branches\n",
    "    '''\n",
    "    \n",
    "    # Calculate weight for gini score of the left branch\n",
    "    left_weight = float(len(left)) / (len(left) + len(right))\n",
    "    return current_impurity - left_weight * gini(left) - (1 - left_weight) * gini(right)"
   ]
  },
  {
   "cell_type": "code",
   "execution_count": null,
   "id": "fb0cd258",
   "metadata": {},
   "outputs": [],
   "source": [
    "gi = gini(y_train)\n",
    "'Gini impurity at root', round(gi, 3)"
   ]
  },
  {
   "cell_type": "code",
   "execution_count": null,
   "id": "0b5debe3",
   "metadata": {},
   "outputs": [],
   "source": [
    "# Determine info gain to determine how the split for the dt was determined (i.e. that first gini value of 8.845)\n",
    "info_gain_list = []\n",
    "for i in x_train.cgpa.unique():\n",
    "    left = y_train[x_train.cgpa <= i]\n",
    "    right = y_train[x_train.cgpa > i]\n",
    "    info_gain_list.append([i, info_gain(left, right, gi)])\n",
    "info_gain_list"
   ]
  },
  {
   "cell_type": "code",
   "execution_count": null,
   "id": "b19ac3d7",
   "metadata": {},
   "outputs": [],
   "source": [
    "ig_table = pd.DataFrame(info_gain_list, columns=['split_value', 'info_gain']).sort_values('info_gain', ascending=False)"
   ]
  },
  {
   "cell_type": "code",
   "execution_count": null,
   "id": "8472d938",
   "metadata": {},
   "outputs": [],
   "source": [
    "ig_table"
   ]
  },
  {
   "cell_type": "code",
   "execution_count": null,
   "id": "59a7479b",
   "metadata": {},
   "outputs": [],
   "source": [
    "ig_table.head(10)"
   ]
  },
  {
   "cell_type": "code",
   "execution_count": null,
   "id": "82eed310",
   "metadata": {},
   "outputs": [],
   "source": [
    "plt.plot(ig_table['split_value'], ig_table['info_gain'], 'o')\n",
    "plt.plot(ig_table['split_value'].iloc[0], ig_table['info_gain'].iloc[0], 'r*')\n",
    "plt.xlabel('cgpa split value')\n",
    "plt.ylabel('info gain')\n",
    "plt.show()"
   ]
  },
  {
   "cell_type": "code",
   "execution_count": null,
   "id": "5d80d41e",
   "metadata": {},
   "outputs": [],
   "source": [
    "## REGRESSION\n",
    "# x value doesn't change. \n",
    "# y value/predictor changes from a classification value to the actual values.\n",
    "y_regr = df['chance_of_admit']"
   ]
  },
  {
   "cell_type": "code",
   "execution_count": null,
   "id": "70313eea",
   "metadata": {},
   "outputs": [],
   "source": [
    "# Compare the use of 'chance_of_admit' between Classification and Regression.\n",
    "# - to the right we have the actual values (which are used for Regression)\n",
    "# - to the right we have predictive values based on the condition used in the earlier Classification step\n",
    "compare_y = pd.DataFrame(list(zip(y, y_regr)), columns=['Classification', 'Regression'])\n",
    "compare_y"
   ]
  },
  {
   "cell_type": "code",
   "execution_count": null,
   "id": "1a2781f4",
   "metadata": {},
   "outputs": [],
   "source": [
    "# split the data\n",
    "feat_x_train, feat_x_test, vald_y_train, vald_y_test = train_test_split(x, y_regr, random_state=0, test_size=0.2)"
   ]
  },
  {
   "cell_type": "code",
   "execution_count": null,
   "id": "aff86d4f",
   "metadata": {},
   "outputs": [],
   "source": [
    "# Compare Training Data\n",
    "compare_training_regr = pd.DataFrame(feat_x_train)\n",
    "compare_training_regr['chance_of_admit'] = vald_y_train\n",
    "compare_training_regr"
   ]
  },
  {
   "cell_type": "code",
   "execution_count": null,
   "id": "1688418c",
   "metadata": {},
   "outputs": [],
   "source": [
    "# Compare the test data\n",
    "compare_test_regr = pd.DataFrame(feat_x_test)\n",
    "compare_test_regr['chance_of_admit'] = vald_y_test\n",
    "compare_test_regr"
   ]
  },
  {
   "cell_type": "code",
   "execution_count": null,
   "id": "08f3c338",
   "metadata": {},
   "outputs": [],
   "source": [
    "# Create the Tree for a REGRESSION\n",
    "dtr = DecisionTreeRegressor(max_depth=3, ccp_alpha=0.001)\n",
    "dtr"
   ]
  },
  {
   "cell_type": "code",
   "execution_count": null,
   "id": "2a02c3ac",
   "metadata": {},
   "outputs": [],
   "source": [
    "dtr.fit(feat_x_train, vald_y_train)"
   ]
  },
  {
   "cell_type": "code",
   "execution_count": null,
   "id": "0276a7b9",
   "metadata": {},
   "outputs": [],
   "source": [
    "# Create Prediction based on the test set\n",
    "y_predict_regr = dtr.predict(feat_x_test)\n",
    "y_predict_regr"
   ]
  },
  {
   "cell_type": "code",
   "execution_count": null,
   "id": "eba628f6",
   "metadata": {},
   "outputs": [],
   "source": [
    "# Score\n",
    "# (Accuracy Score isn't supported on continuous values, so it only supports Classification, not Regression)\n",
    "dtr.score(feat_x_test, vald_y_test)"
   ]
  },
  {
   "cell_type": "code",
   "execution_count": null,
   "id": "80538957",
   "metadata": {},
   "outputs": [],
   "source": [
    "# Plot that shit out\n",
    "plt.figure(figsize=(10,10))\n",
    "plot_tree(dtr, feature_names=feat_x_train.columns, max_depth=2, filled=True)"
   ]
  },
  {
   "cell_type": "code",
   "execution_count": null,
   "id": "eee8d860",
   "metadata": {},
   "outputs": [],
   "source": [
    "'''\n",
    "    Regression isn't splitting up the tree in the manner we were previously. \n",
    "    Above, each level, the value represents the average of all samples that fit th elogical criteria. \n",
    "    \n",
    "    The default method for evaluating splits is called MSE (mean squared error)\n",
    "'''"
   ]
  },
  {
   "cell_type": "code",
   "execution_count": 157,
   "id": "da23dbc5",
   "metadata": {},
   "outputs": [],
   "source": [
    "#MSE Code\n",
    "def mse(data):\n",
    "    ''' Calculate MSE of a data set'''\n",
    "    return np.mean((data - data.mean())**2)\n",
    "\n",
    "# MSE Information Gain\n",
    "def mse_gain(left, right, current_mse):\n",
    "    ''' Info Gain (MSE) associated with creating a node/split data based on MSE\n",
    "        \n",
    "        INPUT:\n",
    "            - left/right are the data sets in the left and right branches respectively\n",
    "            - current_impurity is the data impurity before splitting into those branches\n",
    "    '''\n",
    "    left_weight = float(len(left)) / (len(left) + len(right))\n",
    "    return current_mse - left_weight * mse(left) - (1 - left_weight) * mse(right)"
   ]
  },
  {
   "cell_type": "code",
   "execution_count": 159,
   "id": "4cdd0a7d",
   "metadata": {},
   "outputs": [
    {
     "data": {
      "text/plain": [
       "('MSE at root', 0.021)"
      ]
     },
     "execution_count": 159,
     "metadata": {},
     "output_type": "execute_result"
    }
   ],
   "source": [
    "# Validate the information gain / loss for mse\n",
    "m_calculated= mse(vald_y_train)\n",
    "'MSE at root', round(m_calculated, 3)"
   ]
  },
  {
   "cell_type": "code",
   "execution_count": 161,
   "id": "99b3c90d",
   "metadata": {},
   "outputs": [
    {
     "data": {
      "text/plain": [
       "[[8.79, -0.06547630131145951],\n",
       " [8.7, -0.08767596222760793],\n",
       " [7.7, -0.19062235920501702],\n",
       " [9.18, -0.1058674401337593],\n",
       " [8.0, -0.17895275252735832],\n",
       " [9.01, -0.06415255819075977],\n",
       " [8.36, -0.1416501470102165],\n",
       " [8.54, -0.10895900685180568],\n",
       " [9.04, -0.06862711160635485],\n",
       " [9.14, -0.09624478395833087],\n",
       " [8.84, -0.05226760247142169],\n",
       " [9.68, -0.18179574805005594],\n",
       " [7.4, -0.19827973198195392],\n",
       " [9.16, -0.09752755085637087],\n",
       " [8.48, -0.1242039869078065],\n",
       " [8.77, -0.07472760728440417],\n",
       " [8.24, -0.1564580501816063],\n",
       " [8.76, -0.07123487088456665],\n",
       " [8.9, -0.055706644049998026],\n",
       " [8.57, -0.10036018062497565],\n",
       " [8.5, -0.11796252138427718],\n",
       " [9.0, -0.05905161013826686],\n",
       " [7.9, -0.18415628632953035],\n",
       " [8.46, -0.1271752657301489],\n",
       " [9.5, -0.16609997380379332],\n",
       " [8.04, -0.17489074509456376],\n",
       " [8.75, -0.08373282971064308],\n",
       " [8.67, -0.08864048306305254],\n",
       " [8.4, -0.13834014512484655],\n",
       " [9.17, -0.10172932713352792],\n",
       " [9.26, -0.12565184900347803],\n",
       " [9.34, -0.13501221449022832],\n",
       " [8.37, -0.14083463929932866],\n",
       " [8.13, -0.16830437271871784],\n",
       " [8.03, -0.1754121662409861],\n",
       " [8.45, -0.12910396786041872],\n",
       " [9.31, -0.1313086186153265],\n",
       " [8.27, -0.15229582874964764],\n",
       " [7.56, -0.19533729234439084],\n",
       " [9.44, -0.1527612812263468],\n",
       " [7.8, -0.1897987311365712],\n",
       " [9.43, -0.14931041738009088],\n",
       " [9.02, -0.06657252975387754],\n",
       " [7.68, -0.1914348194352476],\n",
       " [8.97, -0.06143435075581727],\n",
       " [8.12, -0.16944618693916313],\n",
       " [8.02, -0.1764430675915446],\n",
       " [8.68, -0.08820054587019203],\n",
       " [8.1, -0.17222205418768438],\n",
       " [8.47, -0.1261954367630335],\n",
       " [7.64, -0.1941936868726723],\n",
       " [9.23, -0.11791394686776631],\n",
       " [8.62, -0.09644602385862114],\n",
       " [8.66, -0.09196314751666637],\n",
       " [9.56, -0.16932311941824307],\n",
       " [8.34, -0.14325786221168163],\n",
       " [9.36, -0.14226236330540504],\n",
       " [8.96, -0.05862875368753784],\n",
       " [9.32, -0.13316707769643688],\n",
       " [8.43, -0.1340155195459723],\n",
       " [8.65, -0.08947036018492267],\n",
       " [9.11, -0.08598167173549115],\n",
       " [8.78, -0.0688977431640625],\n",
       " [9.6, -0.1725034325328324],\n",
       " [7.65, -0.19302713279616973],\n",
       " [9.8, -0.19507258493621293],\n",
       " [8.33, -0.14638314036032474],\n",
       " [8.2, -0.16167846350304554],\n",
       " [9.08, -0.07269005880296936],\n",
       " [9.38, -0.14404298964293488],\n",
       " [9.3, -0.1294366924394248],\n",
       " [8.23, -0.1584580786618971],\n",
       " [8.16, -0.1653672679574511],\n",
       " [9.06, -0.06548697491673616],\n",
       " [7.3, -0.1993447368349482],\n",
       " [8.42, -0.13577118843769415],\n",
       " [8.64, -0.0950969318436763],\n",
       " [7.86, -0.18768926414308384],\n",
       " [8.06, -0.174365281923753],\n",
       " [7.5, -0.19571351113791918],\n",
       " [9.13, -0.09191951918216265],\n",
       " [9.66, -0.18027233466733134],\n",
       " [7.43, -0.19755831390361323],\n",
       " [8.56, -0.10289100517313757],\n",
       " [7.95, -0.1837003153662291],\n",
       " [8.49, -0.12319202065766893],\n",
       " [7.89, -0.1850584574497764],\n",
       " [9.2, -0.10994332587082974],\n",
       " [9.12, -0.08752575552321558],\n",
       " [8.21, -0.1610453495470407],\n",
       " [9.4, -0.14756688652070554],\n",
       " [8.15, -0.16714391663345007],\n",
       " [9.35, -0.13684417173549046],\n",
       " [7.88, -0.1859478318165449],\n",
       " [8.44, -0.13465379155115925],\n",
       " [8.26, -0.1544046876085064],\n",
       " [8.8, -0.05904837535165614],\n",
       " [7.36, -0.19863699475641933],\n",
       " [8.83, -0.05682871843878783],\n",
       " [9.76, -0.18926633290765255],\n",
       " [7.46, -0.19645861978743945],\n",
       " [9.78, -0.19073180865927103],\n",
       " [9.82, -0.1965012526277855],\n",
       " [9.05, -0.06587049175335671],\n",
       " [9.45, -0.15952167661116196],\n",
       " [7.28, -0.19969525893693418],\n",
       " [7.66, -0.191836932353251],\n",
       " [8.07, -0.17383572954538618],\n",
       " [9.19, -0.1079130733527424],\n",
       " [8.69, -0.0908372272910469],\n",
       " [8.87, -0.05770867083701839],\n",
       " [8.53, -0.11468214972971917],\n",
       " [9.1, -0.07452827037494679],\n",
       " [8.22, -0.15911326040544205],\n",
       " [8.32, -0.1493937294025945],\n",
       " [9.24, -0.12181134610523871],\n",
       " [9.15, -0.09838222365918617],\n",
       " [6.8, -0.20038971024870306],\n",
       " [8.3, -0.15012919293575178],\n",
       " [8.01, -0.1779602431640615],\n",
       " [9.7, -0.18481299397312445],\n",
       " [9.65, -0.17719544053248415],\n",
       " [7.84, -0.18938265695716655],\n",
       " [7.98, -0.1823124329450846],\n",
       " [8.85, -0.05500185366886712],\n",
       " [8.73, -0.08442124060651794],\n",
       " [9.92, nan],\n",
       " [9.87, -0.19792093498796154],\n",
       " [9.48, -0.1628331245199951],\n",
       " [9.22, -0.11195837050488709],\n",
       " [8.17, -0.1641581598307285],\n",
       " [7.87, -0.18725848877809786],\n",
       " [7.6, -0.19495859842722013],\n",
       " [7.34, -0.19899198919580774],\n",
       " [7.2, -0.2000435764973965],\n",
       " [9.28, -0.12755115225497232],\n",
       " [9.91, -0.19933171651829468],\n",
       " [8.71, -0.08606053832580303],\n",
       " [9.62, -0.17407779283293678],\n",
       " [8.88, -0.055381484004745365],\n",
       " [8.74, -0.08706434726816654],\n",
       " [9.47, -0.1611830322797091],\n",
       " [9.74, -0.18630701735761163],\n",
       " [7.96, -0.18324104026551058],\n",
       " [9.53, -0.1677169545734588],\n",
       " [8.14, -0.16772650332666444],\n",
       " [9.64, -0.17564176131587717],\n",
       " [8.28, -0.1515801526663249],\n",
       " [7.97, -0.18277842498224423],\n",
       " [8.6, -0.09907147367478895],\n",
       " [8.52, -0.11688135409933714],\n",
       " [8.18, -0.16354601722264017],\n",
       " [8.94, -0.058376909830729296]]"
      ]
     },
     "execution_count": 161,
     "metadata": {},
     "output_type": "execute_result"
    }
   ],
   "source": [
    "# Calc the mse_gain_list\n",
    "mse_gain_list = []\n",
    "for i in feat_x_train.cgpa.unique():\n",
    "    left = y_train[x_train.cgpa <= i]\n",
    "    right = y_train[x_train.cgpa > i]\n",
    "    mse_gain_list.append([i, mse_gain(left, right, m_calculated)])\n",
    "mse_gain_list"
   ]
  },
  {
   "cell_type": "code",
   "execution_count": 163,
   "id": "8a5f3ca1",
   "metadata": {},
   "outputs": [
    {
     "data": {
      "text/html": [
       "<div>\n",
       "<style scoped>\n",
       "    .dataframe tbody tr th:only-of-type {\n",
       "        vertical-align: middle;\n",
       "    }\n",
       "\n",
       "    .dataframe tbody tr th {\n",
       "        vertical-align: top;\n",
       "    }\n",
       "\n",
       "    .dataframe thead th {\n",
       "        text-align: right;\n",
       "    }\n",
       "</style>\n",
       "<table border=\"1\" class=\"dataframe\">\n",
       "  <thead>\n",
       "    <tr style=\"text-align: right;\">\n",
       "      <th></th>\n",
       "      <th>split_value</th>\n",
       "      <th>info_gain</th>\n",
       "    </tr>\n",
       "  </thead>\n",
       "  <tbody>\n",
       "    <tr>\n",
       "      <th>10</th>\n",
       "      <td>8.84</td>\n",
       "      <td>-0.052268</td>\n",
       "    </tr>\n",
       "    <tr>\n",
       "      <th>124</th>\n",
       "      <td>8.85</td>\n",
       "      <td>-0.055002</td>\n",
       "    </tr>\n",
       "    <tr>\n",
       "      <th>139</th>\n",
       "      <td>8.88</td>\n",
       "      <td>-0.055381</td>\n",
       "    </tr>\n",
       "    <tr>\n",
       "      <th>18</th>\n",
       "      <td>8.90</td>\n",
       "      <td>-0.055707</td>\n",
       "    </tr>\n",
       "    <tr>\n",
       "      <th>98</th>\n",
       "      <td>8.83</td>\n",
       "      <td>-0.056829</td>\n",
       "    </tr>\n",
       "    <tr>\n",
       "      <th>...</th>\n",
       "      <td>...</td>\n",
       "      <td>...</td>\n",
       "    </tr>\n",
       "    <tr>\n",
       "      <th>74</th>\n",
       "      <td>7.30</td>\n",
       "      <td>-0.199345</td>\n",
       "    </tr>\n",
       "    <tr>\n",
       "      <th>105</th>\n",
       "      <td>7.28</td>\n",
       "      <td>-0.199695</td>\n",
       "    </tr>\n",
       "    <tr>\n",
       "      <th>134</th>\n",
       "      <td>7.20</td>\n",
       "      <td>-0.200044</td>\n",
       "    </tr>\n",
       "    <tr>\n",
       "      <th>117</th>\n",
       "      <td>6.80</td>\n",
       "      <td>-0.200390</td>\n",
       "    </tr>\n",
       "    <tr>\n",
       "      <th>126</th>\n",
       "      <td>9.92</td>\n",
       "      <td>NaN</td>\n",
       "    </tr>\n",
       "  </tbody>\n",
       "</table>\n",
       "<p>153 rows × 2 columns</p>\n",
       "</div>"
      ],
      "text/plain": [
       "     split_value  info_gain\n",
       "10          8.84  -0.052268\n",
       "124         8.85  -0.055002\n",
       "139         8.88  -0.055381\n",
       "18          8.90  -0.055707\n",
       "98          8.83  -0.056829\n",
       "..           ...        ...\n",
       "74          7.30  -0.199345\n",
       "105         7.28  -0.199695\n",
       "134         7.20  -0.200044\n",
       "117         6.80  -0.200390\n",
       "126         9.92        NaN\n",
       "\n",
       "[153 rows x 2 columns]"
      ]
     },
     "execution_count": 163,
     "metadata": {},
     "output_type": "execute_result"
    }
   ],
   "source": [
    "mse_table = pd.DataFrame(mse_gain_list, columns=['split_value', 'info_gain']).sort_values('info_gain', ascending=False)\n",
    "mse_table"
   ]
  },
  {
   "cell_type": "code",
   "execution_count": 164,
   "id": "36d08693",
   "metadata": {},
   "outputs": [
    {
     "data": {
      "text/html": [
       "<div>\n",
       "<style scoped>\n",
       "    .dataframe tbody tr th:only-of-type {\n",
       "        vertical-align: middle;\n",
       "    }\n",
       "\n",
       "    .dataframe tbody tr th {\n",
       "        vertical-align: top;\n",
       "    }\n",
       "\n",
       "    .dataframe thead th {\n",
       "        text-align: right;\n",
       "    }\n",
       "</style>\n",
       "<table border=\"1\" class=\"dataframe\">\n",
       "  <thead>\n",
       "    <tr style=\"text-align: right;\">\n",
       "      <th></th>\n",
       "      <th>split_value</th>\n",
       "      <th>info_gain</th>\n",
       "    </tr>\n",
       "  </thead>\n",
       "  <tbody>\n",
       "    <tr>\n",
       "      <th>10</th>\n",
       "      <td>8.84</td>\n",
       "      <td>-0.052268</td>\n",
       "    </tr>\n",
       "    <tr>\n",
       "      <th>124</th>\n",
       "      <td>8.85</td>\n",
       "      <td>-0.055002</td>\n",
       "    </tr>\n",
       "    <tr>\n",
       "      <th>139</th>\n",
       "      <td>8.88</td>\n",
       "      <td>-0.055381</td>\n",
       "    </tr>\n",
       "    <tr>\n",
       "      <th>18</th>\n",
       "      <td>8.90</td>\n",
       "      <td>-0.055707</td>\n",
       "    </tr>\n",
       "    <tr>\n",
       "      <th>98</th>\n",
       "      <td>8.83</td>\n",
       "      <td>-0.056829</td>\n",
       "    </tr>\n",
       "    <tr>\n",
       "      <th>110</th>\n",
       "      <td>8.87</td>\n",
       "      <td>-0.057709</td>\n",
       "    </tr>\n",
       "    <tr>\n",
       "      <th>152</th>\n",
       "      <td>8.94</td>\n",
       "      <td>-0.058377</td>\n",
       "    </tr>\n",
       "    <tr>\n",
       "      <th>57</th>\n",
       "      <td>8.96</td>\n",
       "      <td>-0.058629</td>\n",
       "    </tr>\n",
       "    <tr>\n",
       "      <th>96</th>\n",
       "      <td>8.80</td>\n",
       "      <td>-0.059048</td>\n",
       "    </tr>\n",
       "    <tr>\n",
       "      <th>21</th>\n",
       "      <td>9.00</td>\n",
       "      <td>-0.059052</td>\n",
       "    </tr>\n",
       "  </tbody>\n",
       "</table>\n",
       "</div>"
      ],
      "text/plain": [
       "     split_value  info_gain\n",
       "10          8.84  -0.052268\n",
       "124         8.85  -0.055002\n",
       "139         8.88  -0.055381\n",
       "18          8.90  -0.055707\n",
       "98          8.83  -0.056829\n",
       "110         8.87  -0.057709\n",
       "152         8.94  -0.058377\n",
       "57          8.96  -0.058629\n",
       "96          8.80  -0.059048\n",
       "21          9.00  -0.059052"
      ]
     },
     "execution_count": 164,
     "metadata": {},
     "output_type": "execute_result"
    }
   ],
   "source": [
    "mse_table.head(10)"
   ]
  },
  {
   "cell_type": "code",
   "execution_count": 165,
   "id": "21bc67b6",
   "metadata": {},
   "outputs": [
    {
     "data": {
      "text/plain": [
       "Text(0, 0.5, 'info gain')"
      ]
     },
     "execution_count": 165,
     "metadata": {},
     "output_type": "execute_result"
    },
    {
     "data": {
      "image/png": "[encoded data removed]",
      "text/plain": [
       "<Figure size 432x288 with 1 Axes>"
      ]
     },
     "metadata": {
      "needs_background": "light"
     },
     "output_type": "display_data"
    }
   ],
   "source": [
    "plt.plot(mse_table['split_value'], mse_table['info_gain'],'o')\n",
    "plt.plot(mse_table['split_value'].iloc[0], mse_table['info_gain'].iloc[0],'r*')\n",
    "plt.xlabel('cgpa split value')\n",
    "plt.ylabel('info gain')"
   ]
  },
  {
   "cell_type": "code",
   "execution_count": null,
   "id": "bd019a91",
   "metadata": {},
   "outputs": [],
   "source": []
  }
 ],
 "metadata": {
  "kernelspec": {
   "display_name": "Python 3 (ipykernel)",
   "language": "python",
   "name": "python3"
  },
  "language_info": {
   "codemirror_mode": {
    "name": "ipython",
    "version": 3
   },
   "file_extension": ".py",
   "mimetype": "text/x-python",
   "name": "python",
   "nbconvert_exporter": "python",
   "pygments_lexer": "ipython3",
   "version": "3.9.12"
  }
 },
 "nbformat": 4,
 "nbformat_minor": 5
}
