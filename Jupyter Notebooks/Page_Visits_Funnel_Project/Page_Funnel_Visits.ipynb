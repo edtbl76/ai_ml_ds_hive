{
 "cells": [
  {
   "cell_type": "code",
   "execution_count": 34,
   "metadata": {
    "pycharm": {
     "name": "#%%\n"
    }
   },
   "outputs": [],
   "source": [
    "import pandas as pd"
   ]
  },
  {
   "cell_type": "markdown",
   "metadata": {
    "pycharm": {
     "name": "#%% md\n"
    }
   },
   "source": [
    "Import all the files"
   ]
  },
  {
   "cell_type": "code",
   "execution_count": 35,
   "metadata": {
    "pycharm": {
     "name": "#%%\n"
    }
   },
   "outputs": [],
   "source": [
    "visits = pd.read_csv('visits.csv',\n",
    "                     parse_dates=[1])\n",
    "cart = pd.read_csv('cart.csv',\n",
    "                   parse_dates=[1])\n",
    "                   \n",
    "checkout = pd.read_csv('checkout.csv',\n",
    "                       parse_dates=[1])\n",
    "purchase = pd.read_csv('purchase.csv',\n",
    "                       parse_dates=[1])"
   ]
  },
  {
   "cell_type": "markdown",
   "metadata": {
    "pycharm": {
     "name": "#%% md\n"
    }
   },
   "source": [
    "Step 1: Inspect the DataFrames using `print` and `head`"
   ]
  },
  {
   "cell_type": "code",
   "execution_count": 36,
   "metadata": {
    "pycharm": {
     "name": "#%%\n"
    }
   },
   "outputs": [
    {
     "name": "stdout",
     "output_type": "stream",
     "text": [
      "                                user_id          visit_time\n",
      "0  943647ef-3682-4750-a2e1-918ba6f16188 2017-04-07 15:14:00\n",
      "1  0c3a3dd0-fb64-4eac-bf84-ba069ce409f2 2017-01-26 14:24:00\n",
      "2  6e0b2d60-4027-4d9a-babd-0e7d40859fb1 2017-08-20 08:23:00\n",
      "3  6879527e-c5a6-4d14-b2da-50b85212b0ab 2017-11-04 18:15:00\n",
      "4  a84327ff-5daa-4ba1-b789-d5b4caf81e96 2017-02-27 11:25:00\n",
      "                                user_id           cart_time\n",
      "0  2be90e7c-9cca-44e0-bcc5-124b945ff168 2017-11-07 20:45:00\n",
      "1  4397f73f-1da3-4ab3-91af-762792e25973 2017-05-27 01:35:00\n",
      "2  a9db3d4b-0a0a-4398-a55a-ebb2c7adf663 2017-03-04 10:38:00\n",
      "3  b594862a-36c5-47d5-b818-6e9512b939b3 2017-09-27 08:22:00\n",
      "4  a68a16e2-94f0-4ce8-8ce3-784af0bbb974 2017-07-26 15:48:00\n",
      "                                user_id       checkout_time\n",
      "0  d33bdc47-4afa-45bc-b4e4-dbe948e34c0d 2017-06-25 09:29:00\n",
      "1  4ac186f0-9954-4fea-8a27-c081e428e34e 2017-04-07 20:11:00\n",
      "2  3c9c78a7-124a-4b77-8d2e-e1926e011e7d 2017-07-13 11:38:00\n",
      "3  89fe330a-8966-4756-8f7c-3bdbcd47279a 2017-04-20 16:15:00\n",
      "4  3ccdaf69-2d30-40de-b083-51372881aedd 2017-01-08 20:52:00\n",
      "                                user_id       purchase_time\n",
      "0  4b44ace4-2721-47a0-b24b-15fbfa2abf85 2017-05-11 04:25:00\n",
      "1  02e684ae-a448-408f-a9ff-dcb4a5c99aac 2017-09-05 08:45:00\n",
      "2  4b4bc391-749e-4b90-ab8f-4f6e3c84d6dc 2017-11-20 20:49:00\n",
      "3  a5dbb25f-3c36-4103-9030-9f7c6241cd8d 2017-01-22 15:18:00\n",
      "4  46a3186d-7f5a-4ab9-87af-84d05bfd4867 2017-06-11 11:32:00\n"
     ]
    }
   ],
   "source": [
    "print(visits.head(5))\n",
    "print(cart.head(5))\n",
    "print(checkout.head(5))\n",
    "print(purchase.head(5))"
   ]
  },
  {
   "cell_type": "markdown",
   "metadata": {
    "pycharm": {
     "name": "#%% md\n"
    }
   },
   "source": [
    "Step 2: Left merging visits and cart"
   ]
  },
  {
   "cell_type": "code",
   "execution_count": 36,
   "outputs": [],
   "source": [],
   "metadata": {
    "collapsed": false,
    "pycharm": {
     "name": "#%%\n"
    }
   }
  },
  {
   "cell_type": "code",
   "execution_count": 37,
   "metadata": {
    "pycharm": {
     "name": "#%%\n"
    }
   },
   "outputs": [
    {
     "data": {
      "text/plain": "                                user_id          visit_time  \\\n0  943647ef-3682-4750-a2e1-918ba6f16188 2017-04-07 15:14:00   \n1  0c3a3dd0-fb64-4eac-bf84-ba069ce409f2 2017-01-26 14:24:00   \n2  6e0b2d60-4027-4d9a-babd-0e7d40859fb1 2017-08-20 08:23:00   \n3  6879527e-c5a6-4d14-b2da-50b85212b0ab 2017-11-04 18:15:00   \n4  a84327ff-5daa-4ba1-b789-d5b4caf81e96 2017-02-27 11:25:00   \n\n            cart_time  \n0                 NaT  \n1 2017-01-26 14:44:00  \n2 2017-08-20 08:31:00  \n3                 NaT  \n4                 NaT  ",
      "text/html": "<div>\n<style scoped>\n    .dataframe tbody tr th:only-of-type {\n        vertical-align: middle;\n    }\n\n    .dataframe tbody tr th {\n        vertical-align: top;\n    }\n\n    .dataframe thead th {\n        text-align: right;\n    }\n</style>\n<table border=\"1\" class=\"dataframe\">\n  <thead>\n    <tr style=\"text-align: right;\">\n      <th></th>\n      <th>user_id</th>\n      <th>visit_time</th>\n      <th>cart_time</th>\n    </tr>\n  </thead>\n  <tbody>\n    <tr>\n      <th>0</th>\n      <td>943647ef-3682-4750-a2e1-918ba6f16188</td>\n      <td>2017-04-07 15:14:00</td>\n      <td>NaT</td>\n    </tr>\n    <tr>\n      <th>1</th>\n      <td>0c3a3dd0-fb64-4eac-bf84-ba069ce409f2</td>\n      <td>2017-01-26 14:24:00</td>\n      <td>2017-01-26 14:44:00</td>\n    </tr>\n    <tr>\n      <th>2</th>\n      <td>6e0b2d60-4027-4d9a-babd-0e7d40859fb1</td>\n      <td>2017-08-20 08:23:00</td>\n      <td>2017-08-20 08:31:00</td>\n    </tr>\n    <tr>\n      <th>3</th>\n      <td>6879527e-c5a6-4d14-b2da-50b85212b0ab</td>\n      <td>2017-11-04 18:15:00</td>\n      <td>NaT</td>\n    </tr>\n    <tr>\n      <th>4</th>\n      <td>a84327ff-5daa-4ba1-b789-d5b4caf81e96</td>\n      <td>2017-02-27 11:25:00</td>\n      <td>NaT</td>\n    </tr>\n  </tbody>\n</table>\n</div>"
     },
     "execution_count": 37,
     "metadata": {},
     "output_type": "execute_result"
    }
   ],
   "source": [
    "visits_cart = pd.merge(visits, cart, how=\"left\")\n",
    "visits_cart.head()"
   ]
  },
  {
   "cell_type": "markdown",
   "metadata": {
    "pycharm": {
     "name": "#%% md\n"
    }
   },
   "source": [
    "Step 3: How long is `visits_cart`?"
   ]
  },
  {
   "cell_type": "code",
   "execution_count": 38,
   "metadata": {
    "pycharm": {
     "name": "#%%\n"
    }
   },
   "outputs": [
    {
     "name": "stdout",
     "output_type": "stream",
     "text": [
      "2000\n"
     ]
    }
   ],
   "source": [
    "total_visits = len(visits_cart)\n",
    "print(total_visits)"
   ]
  },
  {
   "cell_type": "markdown",
   "metadata": {
    "pycharm": {
     "name": "#%% md\n"
    }
   },
   "source": [
    "Step 4: How many timestamps are null for `cart_time`?"
   ]
  },
  {
   "cell_type": "code",
   "execution_count": 39,
   "metadata": {
    "pycharm": {
     "name": "#%%\n"
    }
   },
   "outputs": [
    {
     "name": "stdout",
     "output_type": "stream",
     "text": [
      "1652\n"
     ]
    }
   ],
   "source": [
    "null_cart_times = len(visits_cart[visits_cart.cart_time.isnull()])\n",
    "print(null_cart_times)"
   ]
  },
  {
   "cell_type": "markdown",
   "metadata": {
    "pycharm": {
     "name": "#%% md\n"
    }
   },
   "source": [
    "Step 5: What percentage only visited?"
   ]
  },
  {
   "cell_type": "code",
   "execution_count": 40,
   "metadata": {
    "pycharm": {
     "name": "#%%\n"
    }
   },
   "outputs": [
    {
     "data": {
      "text/plain": "0.826"
     },
     "execution_count": 40,
     "metadata": {},
     "output_type": "execute_result"
    }
   ],
   "source": [
    "visited_not_cart = float(null_cart_times) / float(total_visits)\n",
    "visited_not_cart"
   ]
  },
  {
   "cell_type": "markdown",
   "metadata": {
    "pycharm": {
     "name": "#%% md\n"
    }
   },
   "source": [
    "Step 6: What percentage placed a t-shirt in their cart but did not checkout?"
   ]
  },
  {
   "cell_type": "code",
   "execution_count": 41,
   "metadata": {
    "pycharm": {
     "name": "#%%\n"
    }
   },
   "outputs": [
    {
     "data": {
      "text/plain": "122"
     },
     "execution_count": 41,
     "metadata": {},
     "output_type": "execute_result"
    }
   ],
   "source": [
    "cart_checkout = cart.merge(checkout, how='left')\n",
    "cart_checkout.head()\n",
    "\n",
    "null_checkout_times = len(cart_checkout[cart_checkout.checkout_time.isnull()])\n",
    "null_checkout_times"
   ]
  },
  {
   "cell_type": "code",
   "execution_count": 42,
   "outputs": [
    {
     "data": {
      "text/plain": "0.3505747126436782"
     },
     "execution_count": 42,
     "metadata": {},
     "output_type": "execute_result"
    }
   ],
   "source": [
    "cart_not_checkout = float(null_checkout_times) / float(len(cart))\n",
    "cart_not_checkout"
   ],
   "metadata": {
    "collapsed": false,
    "pycharm": {
     "name": "#%%\n"
    }
   }
  },
  {
   "cell_type": "markdown",
   "metadata": {
    "pycharm": {
     "name": "#%% md\n"
    }
   },
   "source": [
    "Step 7: Merge it all together"
   ]
  },
  {
   "cell_type": "code",
   "execution_count": 42,
   "outputs": [],
   "source": [],
   "metadata": {
    "collapsed": false,
    "pycharm": {
     "name": "#%%\n"
    }
   }
  },
  {
   "cell_type": "code",
   "execution_count": 43,
   "metadata": {
    "pycharm": {
     "name": "#%%\n"
    }
   },
   "outputs": [
    {
     "data": {
      "text/plain": "                                user_id          visit_time  \\\n0  943647ef-3682-4750-a2e1-918ba6f16188 2017-04-07 15:14:00   \n1  0c3a3dd0-fb64-4eac-bf84-ba069ce409f2 2017-01-26 14:24:00   \n2  6e0b2d60-4027-4d9a-babd-0e7d40859fb1 2017-08-20 08:23:00   \n3  6879527e-c5a6-4d14-b2da-50b85212b0ab 2017-11-04 18:15:00   \n4  a84327ff-5daa-4ba1-b789-d5b4caf81e96 2017-02-27 11:25:00   \n\n            cart_time       checkout_time       purchase_time  \n0                 NaT                 NaT                 NaT  \n1 2017-01-26 14:44:00 2017-01-26 14:54:00 2017-01-26 15:08:00  \n2 2017-08-20 08:31:00                 NaT                 NaT  \n3                 NaT                 NaT                 NaT  \n4                 NaT                 NaT                 NaT  ",
      "text/html": "<div>\n<style scoped>\n    .dataframe tbody tr th:only-of-type {\n        vertical-align: middle;\n    }\n\n    .dataframe tbody tr th {\n        vertical-align: top;\n    }\n\n    .dataframe thead th {\n        text-align: right;\n    }\n</style>\n<table border=\"1\" class=\"dataframe\">\n  <thead>\n    <tr style=\"text-align: right;\">\n      <th></th>\n      <th>user_id</th>\n      <th>visit_time</th>\n      <th>cart_time</th>\n      <th>checkout_time</th>\n      <th>purchase_time</th>\n    </tr>\n  </thead>\n  <tbody>\n    <tr>\n      <th>0</th>\n      <td>943647ef-3682-4750-a2e1-918ba6f16188</td>\n      <td>2017-04-07 15:14:00</td>\n      <td>NaT</td>\n      <td>NaT</td>\n      <td>NaT</td>\n    </tr>\n    <tr>\n      <th>1</th>\n      <td>0c3a3dd0-fb64-4eac-bf84-ba069ce409f2</td>\n      <td>2017-01-26 14:24:00</td>\n      <td>2017-01-26 14:44:00</td>\n      <td>2017-01-26 14:54:00</td>\n      <td>2017-01-26 15:08:00</td>\n    </tr>\n    <tr>\n      <th>2</th>\n      <td>6e0b2d60-4027-4d9a-babd-0e7d40859fb1</td>\n      <td>2017-08-20 08:23:00</td>\n      <td>2017-08-20 08:31:00</td>\n      <td>NaT</td>\n      <td>NaT</td>\n    </tr>\n    <tr>\n      <th>3</th>\n      <td>6879527e-c5a6-4d14-b2da-50b85212b0ab</td>\n      <td>2017-11-04 18:15:00</td>\n      <td>NaT</td>\n      <td>NaT</td>\n      <td>NaT</td>\n    </tr>\n    <tr>\n      <th>4</th>\n      <td>a84327ff-5daa-4ba1-b789-d5b4caf81e96</td>\n      <td>2017-02-27 11:25:00</td>\n      <td>NaT</td>\n      <td>NaT</td>\n      <td>NaT</td>\n    </tr>\n  </tbody>\n</table>\n</div>"
     },
     "execution_count": 43,
     "metadata": {},
     "output_type": "execute_result"
    }
   ],
   "source": [
    "all_data = visits_cart\\\n",
    ".merge(cart_checkout, how = 'left')\\\n",
    ".merge(purchase, how = 'left')\n",
    "\n",
    "all_data.head(5)\n"
   ]
  },
  {
   "cell_type": "markdown",
   "metadata": {
    "pycharm": {
     "name": "#%% md\n"
    }
   },
   "source": [
    "Step 8: % of users who got to checkout but did not purchase"
   ]
  },
  {
   "cell_type": "code",
   "execution_count": 44,
   "metadata": {
    "pycharm": {
     "name": "#%%\n"
    }
   },
   "outputs": [
    {
     "data": {
      "text/plain": "                                 user_id          visit_time  \\\n1   0c3a3dd0-fb64-4eac-bf84-ba069ce409f2 2017-01-26 14:24:00   \n14  486480e2-98c3-4d51-8f4b-b1c07228ce84 2017-01-27 16:34:00   \n31  1868e912-b38c-4ef0-8824-5665c42288e5 2017-03-17 11:48:00   \n48  3ccdaf69-2d30-40de-b083-51372881aedd 2017-01-08 20:21:00   \n49  3ccdaf69-2d30-40de-b083-51372881aedd 2017-01-08 20:21:00   \n\n             cart_time       checkout_time       purchase_time  \n1  2017-01-26 14:44:00 2017-01-26 14:54:00 2017-01-26 15:08:00  \n14 2017-01-27 16:44:00 2017-01-27 17:10:00 2017-01-27 17:12:00  \n31 2017-03-17 11:56:00 2017-03-17 11:58:00                 NaT  \n48 2017-01-08 20:38:00 2017-01-08 20:52:00 2017-01-08 21:02:00  \n49 2017-01-08 20:38:00 2017-01-08 20:52:00 2017-01-08 21:21:00  ",
      "text/html": "<div>\n<style scoped>\n    .dataframe tbody tr th:only-of-type {\n        vertical-align: middle;\n    }\n\n    .dataframe tbody tr th {\n        vertical-align: top;\n    }\n\n    .dataframe thead th {\n        text-align: right;\n    }\n</style>\n<table border=\"1\" class=\"dataframe\">\n  <thead>\n    <tr style=\"text-align: right;\">\n      <th></th>\n      <th>user_id</th>\n      <th>visit_time</th>\n      <th>cart_time</th>\n      <th>checkout_time</th>\n      <th>purchase_time</th>\n    </tr>\n  </thead>\n  <tbody>\n    <tr>\n      <th>1</th>\n      <td>0c3a3dd0-fb64-4eac-bf84-ba069ce409f2</td>\n      <td>2017-01-26 14:24:00</td>\n      <td>2017-01-26 14:44:00</td>\n      <td>2017-01-26 14:54:00</td>\n      <td>2017-01-26 15:08:00</td>\n    </tr>\n    <tr>\n      <th>14</th>\n      <td>486480e2-98c3-4d51-8f4b-b1c07228ce84</td>\n      <td>2017-01-27 16:34:00</td>\n      <td>2017-01-27 16:44:00</td>\n      <td>2017-01-27 17:10:00</td>\n      <td>2017-01-27 17:12:00</td>\n    </tr>\n    <tr>\n      <th>31</th>\n      <td>1868e912-b38c-4ef0-8824-5665c42288e5</td>\n      <td>2017-03-17 11:48:00</td>\n      <td>2017-03-17 11:56:00</td>\n      <td>2017-03-17 11:58:00</td>\n      <td>NaT</td>\n    </tr>\n    <tr>\n      <th>48</th>\n      <td>3ccdaf69-2d30-40de-b083-51372881aedd</td>\n      <td>2017-01-08 20:21:00</td>\n      <td>2017-01-08 20:38:00</td>\n      <td>2017-01-08 20:52:00</td>\n      <td>2017-01-08 21:02:00</td>\n    </tr>\n    <tr>\n      <th>49</th>\n      <td>3ccdaf69-2d30-40de-b083-51372881aedd</td>\n      <td>2017-01-08 20:21:00</td>\n      <td>2017-01-08 20:38:00</td>\n      <td>2017-01-08 20:52:00</td>\n      <td>2017-01-08 21:21:00</td>\n    </tr>\n  </tbody>\n</table>\n</div>"
     },
     "execution_count": 44,
     "metadata": {},
     "output_type": "execute_result"
    }
   ],
   "source": [
    "reached_checkout = all_data[~all_data.checkout_time.isnull()]\n",
    "reached_checkout.head()"
   ]
  },
  {
   "cell_type": "code",
   "execution_count": 45,
   "outputs": [
    {
     "data": {
      "text/plain": "                                  user_id          visit_time  \\\n31   1868e912-b38c-4ef0-8824-5665c42288e5 2017-03-17 11:48:00   \n54   dc5d8fe9-3321-4c86-b66d-7c343decdc4a 2017-09-13 13:06:00   \n146  fffc2dfc-fdc1-407a-9c6d-e6507157d1a6 2017-07-03 19:20:00   \n151  0182a7b9-2099-4476-8f7d-51f2c2f71dff 2017-09-08 16:26:00   \n161  2faac6a9-974c-49fb-b815-44f3a5fc06e1 2017-03-27 21:51:00   \n\n              cart_time       checkout_time purchase_time  \n31  2017-03-17 11:56:00 2017-03-17 11:58:00           NaT  \n54  2017-09-13 13:30:00 2017-09-13 13:26:00           NaT  \n146 2017-07-03 19:40:00 2017-07-03 19:51:00           NaT  \n151 2017-09-08 16:34:00 2017-09-08 16:59:00           NaT  \n161 2017-03-27 21:54:00 2017-03-27 22:19:00           NaT  ",
      "text/html": "<div>\n<style scoped>\n    .dataframe tbody tr th:only-of-type {\n        vertical-align: middle;\n    }\n\n    .dataframe tbody tr th {\n        vertical-align: top;\n    }\n\n    .dataframe thead th {\n        text-align: right;\n    }\n</style>\n<table border=\"1\" class=\"dataframe\">\n  <thead>\n    <tr style=\"text-align: right;\">\n      <th></th>\n      <th>user_id</th>\n      <th>visit_time</th>\n      <th>cart_time</th>\n      <th>checkout_time</th>\n      <th>purchase_time</th>\n    </tr>\n  </thead>\n  <tbody>\n    <tr>\n      <th>31</th>\n      <td>1868e912-b38c-4ef0-8824-5665c42288e5</td>\n      <td>2017-03-17 11:48:00</td>\n      <td>2017-03-17 11:56:00</td>\n      <td>2017-03-17 11:58:00</td>\n      <td>NaT</td>\n    </tr>\n    <tr>\n      <th>54</th>\n      <td>dc5d8fe9-3321-4c86-b66d-7c343decdc4a</td>\n      <td>2017-09-13 13:06:00</td>\n      <td>2017-09-13 13:30:00</td>\n      <td>2017-09-13 13:26:00</td>\n      <td>NaT</td>\n    </tr>\n    <tr>\n      <th>146</th>\n      <td>fffc2dfc-fdc1-407a-9c6d-e6507157d1a6</td>\n      <td>2017-07-03 19:20:00</td>\n      <td>2017-07-03 19:40:00</td>\n      <td>2017-07-03 19:51:00</td>\n      <td>NaT</td>\n    </tr>\n    <tr>\n      <th>151</th>\n      <td>0182a7b9-2099-4476-8f7d-51f2c2f71dff</td>\n      <td>2017-09-08 16:26:00</td>\n      <td>2017-09-08 16:34:00</td>\n      <td>2017-09-08 16:59:00</td>\n      <td>NaT</td>\n    </tr>\n    <tr>\n      <th>161</th>\n      <td>2faac6a9-974c-49fb-b815-44f3a5fc06e1</td>\n      <td>2017-03-27 21:51:00</td>\n      <td>2017-03-27 21:54:00</td>\n      <td>2017-03-27 22:19:00</td>\n      <td>NaT</td>\n    </tr>\n  </tbody>\n</table>\n</div>"
     },
     "execution_count": 45,
     "metadata": {},
     "output_type": "execute_result"
    }
   ],
   "source": [
    "checkout_not_purchase = all_data[(all_data.purchase_time.isnull()) & (~all_data.checkout_time.isnull())]\n",
    "checkout_not_purchase.head()"
   ],
   "metadata": {
    "collapsed": false,
    "pycharm": {
     "name": "#%%\n"
    }
   }
  },
  {
   "cell_type": "code",
   "execution_count": 46,
   "outputs": [
    {
     "name": "stdout",
     "output_type": "stream",
     "text": [
      "% of users who got to checkout but did not purchase: 0.24550898203592814\n"
     ]
    }
   ],
   "source": [
    "checkout_not_purchase_percent = float(len(checkout_not_purchase)) / float(len(reached_checkout))\n",
    "\n",
    "print(\"% of users who got to checkout but did not purchase:\",checkout_not_purchase_percent)"
   ],
   "metadata": {
    "collapsed": false,
    "pycharm": {
     "name": "#%%\n"
    }
   }
  },
  {
   "cell_type": "markdown",
   "metadata": {
    "pycharm": {
     "name": "#%% md\n"
    }
   },
   "source": [
    "Step 9: check each part of the funnel, let's print all 3 of them again"
   ]
  },
  {
   "cell_type": "code",
   "execution_count": 47,
   "metadata": {
    "pycharm": {
     "name": "#%%\n"
    }
   },
   "outputs": [
    {
     "name": "stdout",
     "output_type": "stream",
     "text": [
      "82.6 percent of users who visited the page did not add a t-shirt to their cart\n",
      "35.06 percent of users who added a t-shirt to their cart did not checkout\n",
      "24.55 percent of users who made it to checkout  did not purchase a shirt\n"
     ]
    }
   ],
   "source": [
    "print(\"{} percent of users who visited the page did not add a t-shirt to their cart\".format(round(visited_not_cart*100, 2)))\n",
    "print(\"{} percent of users who added a t-shirt to their cart did not checkout\".format(round(cart_not_checkout*100, 2)))\n",
    "print(\"{} percent of users who made it to checkout  did not purchase a shirt\".format(round( checkout_not_purchase_percent*100, 2)))"
   ]
  },
  {
   "cell_type": "markdown",
   "metadata": {
    "pycharm": {
     "name": "#%% md\n"
    }
   },
   "source": [
    "*The weakest part of the funnel is clearly getting a person who visited the site to add a tshirt to their cart. Once they've added a t-shirt to their cart it is fairly likely they end up purchasing it. A suggestion could be to make the add-to-cart button more prominent on the front page.*\n",
    "\n",
    "\n",
    "Step 10: adding new column"
   ]
  },
  {
   "cell_type": "code",
   "execution_count": 48,
   "metadata": {
    "pycharm": {
     "name": "#%%\n"
    }
   },
   "outputs": [],
   "source": [
    "all_data['time_to_purchase'] = all_data.purchase_time - all_data.visit_time"
   ]
  },
  {
   "cell_type": "markdown",
   "metadata": {
    "pycharm": {
     "name": "#%% md\n"
    }
   },
   "source": [
    "Step 11: examine the results"
   ]
  },
  {
   "cell_type": "code",
   "execution_count": 49,
   "metadata": {
    "pycharm": {
     "name": "#%%\n"
    }
   },
   "outputs": [
    {
     "data": {
      "text/plain": "0                  NaT\n1      0 days 00:44:00\n2                  NaT\n3                  NaT\n4                  NaT\n             ...      \n2103               NaT\n2104               NaT\n2105               NaT\n2106               NaT\n2107               NaT\nName: time_to_purchase, Length: 2108, dtype: timedelta64[ns]"
     },
     "execution_count": 49,
     "metadata": {},
     "output_type": "execute_result"
    }
   ],
   "source": [
    "all_data.time_to_purchase"
   ]
  },
  {
   "cell_type": "markdown",
   "metadata": {
    "pycharm": {
     "name": "#%% md\n"
    }
   },
   "source": [
    "Step 12: average time to purchase"
   ]
  },
  {
   "cell_type": "code",
   "execution_count": 50,
   "metadata": {
    "pycharm": {
     "name": "#%%\n"
    }
   },
   "outputs": [
    {
     "data": {
      "text/plain": "Timedelta('0 days 00:43:12.380952380')"
     },
     "execution_count": 50,
     "metadata": {},
     "output_type": "execute_result"
    }
   ],
   "source": [
    "all_data.time_to_purchase.mean()"
   ]
  },
  {
   "cell_type": "code",
   "execution_count": 47,
   "metadata": {
    "pycharm": {
     "name": "#%%\n"
    }
   },
   "outputs": [],
   "source": []
  }
 ],
 "metadata": {
  "kernelspec": {
   "display_name": "Python 3",
   "language": "python",
   "name": "python3"
  },
  "language_info": {
   "codemirror_mode": {
    "name": "ipython",
    "version": 3
   },
   "file_extension": ".py",
   "mimetype": "text/x-python",
   "name": "python",
   "nbconvert_exporter": "python",
   "pygments_lexer": "ipython3",
   "version": "3.8.5"
  }
 },
 "nbformat": 4,
 "nbformat_minor": 4
}